{
 "cells": [
  {
   "cell_type": "code",
   "execution_count": 2,
   "metadata": {},
   "outputs": [
    {
     "data": {
      "text/plain": [
       "array([[0.21818182, 0.27272727, 0.50909091],\n",
       "       [0.21818182, 0.27272727, 0.50909091],\n",
       "       [0.21818182, 0.27272727, 0.50909091]])"
      ]
     },
     "execution_count": 2,
     "metadata": {},
     "output_type": "execute_result"
    }
   ],
   "source": [
    "import numpy as np\n",
    "\n",
    "alpha = 0\n",
    "\n",
    "def check_row_equals(X):\n",
    "    for i in range(len(X)):\n",
    "        if abs(sum(X[0]-X[i])) > alpha:\n",
    "            return False\n",
    "    return True\n",
    "\n",
    "\n",
    "A = [[0.5,0.3,0.2],[0.4,0.2,0.4],[0.0,0.3,0.7]]\n",
    "A = np.array(A)\n",
    "\n",
    "for i in range(10):\n",
    "    A = A @ A\n",
    "    if check_row_equals(A):\n",
    "        print(i)\n",
    "        break\n",
    "\n",
    "A"
   ]
  },
  {
   "cell_type": "code",
   "execution_count": 91,
   "metadata": {},
   "outputs": [
    {
     "data": {
      "text/plain": [
       "array([[0.375, 0.625],\n",
       "       [0.375, 0.625]])"
      ]
     },
     "execution_count": 91,
     "metadata": {},
     "output_type": "execute_result"
    }
   ],
   "source": [
    "import numpy as np\n",
    "A = [[0.5,0.5],[0.3,0.7]]\n",
    "A = np.array(A)\n",
    "\n",
    "for i in range(10):\n",
    "    A = A @ A\n",
    "    if check_row_equals(A):\n",
    "        print(i)\n",
    "        break\n",
    "A"
   ]
  },
  {
   "cell_type": "code",
   "execution_count": 99,
   "metadata": {},
   "outputs": [],
   "source": [
    "def compute_pi(A):\n",
    "    for i in range(16):\n",
    "        A = A @ A\n",
    "        if check_row_equals(A):\n",
    "            print(i)\n",
    "            break\n",
    "    return A[0]"
   ]
  },
  {
   "cell_type": "code",
   "execution_count": 5,
   "metadata": {},
   "outputs": [
    {
     "name": "stdout",
     "output_type": "stream",
     "text": [
      "[[0.7 0.3]\n",
      " [0.4 0.6]]\n",
      "[[0.1 0.4 0.5]\n",
      " [0.7 0.2 0.1]]\n",
      "[[0.06 0.   0.   0.  ]\n",
      " [0.28 0.   0.   0.  ]]\n",
      "[[0.06      0.0616    0.0058    0.007742 ]\n",
      " [0.28      0.0372    0.02856   0.0018876]]\n"
     ]
    },
    {
     "data": {
      "text/plain": [
       "(0.0004116,\n",
       " 3.5279999999999994e-05,\n",
       " 0.0007055999999999999,\n",
       " 5.04e-05,\n",
       " 0.00021167999999999995)"
      ]
     },
     "execution_count": 5,
     "metadata": {},
     "output_type": "execute_result"
    }
   ],
   "source": [
    "#Forward alg\n",
    "\n",
    "def forward(A,B,pi,O):\n",
    "    N = A.shape[0]\n",
    "    T = len(O)\n",
    "    alpha = np.zeros((N,T))\n",
    "    alpha[:,0] = pi * B[:,O[0]]\n",
    "    print(alpha)\n",
    "    for t in range(1,T):\n",
    "        for i in range(N):\n",
    "            alpha[i,t] = np.sum(alpha[:,t-1]*A[:,i]) * B[i,O[t]]\n",
    "    return alpha\n",
    "\n",
    "\n",
    "A = np.array([[0.7,0.3],[0.4,0.6]])\n",
    "B = np.array([[0.1,0.4, 0.5],[0.7,0.2,0.1]])\n",
    "pi = np.array([0.6,0.4])\n",
    "pi\n",
    "print(A)\n",
    "print(B)\n",
    "O = [0,1,0,2]\n",
    "forward_alphas = forward(A,B,pi,[0,1,0,2])# best is CHCH\n",
    "# forward_alphas = forward(A,B,pi,[0,1])\n",
    "print(forward_alphas)\n",
    "pHHHH = pi[0]*B[0,0]*A[0,0]*B[0,1]*A[0,0]*B[0,0]*A[0,0]*B[0,2]\n",
    "pHHHC = pi[0]*B[0,0]*A[0,0]*B[0,1]*A[0,0]*B[0,0]*A[0,1]*B[1,2]\n",
    "pHHCH = pi[0]*B[0,0]*A[0,0]*B[0,1]*A[0,1]*B[1,0]*A[1,0]*B[0,2]\n",
    "pHCHH = pi[0]*B[0,0]*A[0,1]*B[1,1]*A[1,0]*B[0,0]*A[0,0]*B[0,2]\n",
    "# pHHCC = 0.6*0.1*0.7*0.4*0.3*0.7*0.6*0.1\n",
    "pHHCC = pi[0]*B[0,0]*A[0,0]*B[0,1]*A[0,1]*B[1,0]*A[1,1]*B[1,2]\n",
    "\n",
    "pHHHH, pHHHC, pHHCH, pHCHH, pHHCC\n"
   ]
  },
  {
   "cell_type": "code",
   "execution_count": 61,
   "metadata": {},
   "outputs": [
    {
     "name": "stdout",
     "output_type": "stream",
     "text": [
      "[[0.06 0.   0.   0.  ]\n",
      " [0.28 0.   0.   0.  ]]\n"
     ]
    }
   ],
   "source": []
  },
  {
   "cell_type": "code",
   "execution_count": 160,
   "metadata": {},
   "outputs": [
    {
     "name": "stdout",
     "output_type": "stream",
     "text": [
      "0.06\n",
      "0.27999999999999997\n",
      "[0.06 0.28]\n",
      "0.0168\n",
      "0.0336\n",
      "0.014111999999999998\n",
      "0.0028223999999999996\n"
     ]
    }
   ],
   "source": [
    "alpha1 = pi * B[:,0]\n",
    "sekwencja = [0,1,0,2] #SMSL\n",
    "alpha1_H = pi[0] * B[0,0]\n",
    "alpha1_C = pi[1] * B[1,0]\n",
    "print(alpha1_H)\n",
    "print(alpha1_C)\n",
    "print(alpha1)\n",
    "\n",
    "# alpha2_0 = alpha1_0 * A[0,0]*B[0,0] + alpha1_1 * A[1,0]*B[1,0] #0->1\n",
    "# alpha2_1 = alpha1_0 * A[1,1]*B[0,0] + alpha1_1 * A[0,1]*B[1,0] #0->1\n",
    "# alpha2_0, alpha2_1\n",
    "\n",
    "#Przebieg FA dla sekwencji 0,1,0,2 dla CCCH\n",
    "#dla 0->1\n",
    "#P(HH)\n",
    "alpha2_HH = alpha1_H * A[0,0] * B[0,1]\n",
    "print(alpha2_HH)\n",
    "#P(HC)\n",
    "alpha2_CC = alpha1_C * A[1,1] * B[1,1]\n",
    "print(alpha2_CC)\n",
    "\n",
    "#dla 0->1->0\n",
    "alpha3_CCC = alpha2_CC * A[1,1] * B[1,0]\n",
    "print(alpha3_CCC)\n",
    "\n",
    "#dla 0->1->0->2\n",
    "alpha3_CCCH = alpha3_CCC * A[1,0] * B[0,2]\n",
    "print(alpha3_CCCH)\n"
   ]
  },
  {
   "cell_type": "code",
   "execution_count": 16,
   "metadata": {},
   "outputs": [
    {
     "name": "stdout",
     "output_type": "stream",
     "text": [
      "[[0.7 0.3]\n",
      " [0.4 0.6]]\n",
      "[[0.1 0.4 0.5]\n",
      " [0.7 0.2 0.1]]\n",
      "[0.6 0.4]\n",
      "[[0.24]\n",
      " [0.08]]\n",
      "[0.084 0.016]\n"
     ]
    },
    {
     "ename": "NameError",
     "evalue": "name 'ind' is not defined",
     "output_type": "error",
     "traceback": [
      "\u001b[0;31m---------------------------------------------------------------------------\u001b[0m",
      "\u001b[0;31mNameError\u001b[0m                                 Traceback (most recent call last)",
      "Input \u001b[0;32mIn [16]\u001b[0m, in \u001b[0;36m<cell line: 58>\u001b[0;34m()\u001b[0m\n\u001b[1;32m     56\u001b[0m \u001b[38;5;28mprint\u001b[39m(pi)\n\u001b[1;32m     57\u001b[0m \u001b[38;5;66;03m# forward_alg_HMM_best(A,B,[0,1,0,2])\u001b[39;00m\n\u001b[0;32m---> 58\u001b[0m \u001b[43mforward_alg_DP_best\u001b[49m\u001b[43m(\u001b[49m\u001b[43mA\u001b[49m\u001b[43m,\u001b[49m\u001b[43mB\u001b[49m\u001b[43m,\u001b[49m\u001b[43m[\u001b[49m\u001b[38;5;241;43m1\u001b[39;49m\u001b[43m,\u001b[49m\u001b[38;5;241;43m2\u001b[39;49m\u001b[43m,\u001b[49m\u001b[38;5;241;43m2\u001b[39;49m\u001b[43m]\u001b[49m\u001b[43m)\u001b[49m\n",
      "Input \u001b[0;32mIn [16]\u001b[0m, in \u001b[0;36mforward_alg_DP_best\u001b[0;34m(A, B, O)\u001b[0m\n\u001b[1;32m     31\u001b[0m \u001b[38;5;28mprint\u001b[39m(max_val)\n\u001b[1;32m     32\u001b[0m \u001b[38;5;66;03m# ind1 = np.where(X == max_val[0])\u001b[39;00m\n\u001b[1;32m     33\u001b[0m \u001b[38;5;66;03m# ind2 = np.where(X == max_val[2])\u001b[39;00m\n\u001b[1;32m     34\u001b[0m \u001b[38;5;66;03m# print(f\"max value is for indexes: {ind}\")\u001b[39;00m\n\u001b[0;32m   (...)\u001b[0m\n\u001b[1;32m     39\u001b[0m \u001b[38;5;66;03m# else:\u001b[39;00m\n\u001b[1;32m     40\u001b[0m \u001b[38;5;66;03m#     print(f\"max value for state: {mapIndexToState(ind[1])}\")\u001b[39;00m\n\u001b[0;32m---> 42\u001b[0m sekwence\u001b[38;5;241m.\u001b[39mappend(mapIndexToState(\u001b[43mind\u001b[49m[\u001b[38;5;241m1\u001b[39m]))\n\u001b[1;32m     43\u001b[0m alpha0[:,\u001b[38;5;241m0\u001b[39m] \u001b[38;5;241m=\u001b[39m max_val\n\u001b[1;32m     44\u001b[0m \u001b[38;5;28mprint\u001b[39m(alpha0)\n",
      "\u001b[0;31mNameError\u001b[0m: name 'ind' is not defined"
     ]
    }
   ],
   "source": [
    "def forward_alg_HMM_best(A,B,O):\n",
    "    alpha0 = pi * B[:,O[0]]\n",
    "    alpha0 = alpha0.reshape(2,-1)\n",
    "    print(alpha0)\n",
    "    sekwence = []\n",
    "    for t in range(1, len(O)):\n",
    "        X = A * alpha0 * B[:, O[t]]\n",
    "        X = np.array(X)\n",
    "        max_val = np.max(X)\n",
    "        ind = np.where(X == max_val)\n",
    "        print(f\"max value is for indexes: {ind}\")\n",
    "        if sekwence == []:\n",
    "            sekwence.append(mapIndexToState(ind[0]))\n",
    "            print(f\"max value for state: {mapIndexToState(ind[0])}{mapIndexToState(ind[1])}\")\n",
    "        else:\n",
    "            print(f\"max value for state: {mapIndexToState(ind[1])}\")\n",
    "        sekwence.append(mapIndexToState(ind[1]))\n",
    "        alpha0[:,0] = max_val\n",
    "        print(alpha0)\n",
    "    return \"\".join(sekwence)\n",
    "\n",
    "def forward_alg_DP_best(A,B,O):\n",
    "    alpha0 = pi * B[:,O[0]]\n",
    "    alpha0 = alpha0.reshape(2,-1)\n",
    "    print(alpha0)\n",
    "    sekwence = []\n",
    "    for t in range(1, len(O)):\n",
    "        X = A * alpha0 * B[:, O[t]]\n",
    "        X = np.array(X)\n",
    "        max_val = np.max(X, axis=1)\n",
    "        print(max_val)\n",
    "        # ind1 = np.where(X == max_val[0])\n",
    "        # ind2 = np.where(X == max_val[2])\n",
    "        # print(f\"max value is for indexes: {ind}\")\n",
    "        # # print(f\"max value for state: {mapIndexToState(ind[0])}{mapIndexToState(ind[1])}\")\n",
    "        # if sekwence == []:\n",
    "        #     sekwence.append(mapIndexToState(ind[0]))\n",
    "        #     print(f\"max value for state: {mapIndexToState(ind[0])}{mapIndexToState(ind[1])}\")\n",
    "        # else:\n",
    "        #     print(f\"max value for state: {mapIndexToState(ind[1])}\")\n",
    "\n",
    "        sekwence.append(mapIndexToState(ind[1]))\n",
    "        alpha0[:,0] = max_val\n",
    "        print(alpha0)\n",
    "    return \"\".join(sekwence)\n",
    "\n",
    "def mapIndexToState(index):\n",
    "    if index == 0:\n",
    "        return 'H'\n",
    "    else:\n",
    "        return 'C'\n",
    "\n",
    "\n",
    "print(A)\n",
    "print(B)\n",
    "print(pi)\n",
    "# forward_alg_HMM_best(A,B,[0,1,0,2])\n",
    "forward_alg_DP_best(A,B,[1,2,2])"
   ]
  },
  {
   "cell_type": "code",
   "execution_count": 119,
   "metadata": {},
   "outputs": [
    {
     "name": "stdout",
     "output_type": "stream",
     "text": [
      "[[0.3   0.125]\n",
      " [0.15  0.375]]\n"
     ]
    },
    {
     "data": {
      "text/plain": [
       "(0.29999999999924337, 0.37499999999905403)"
      ]
     },
     "execution_count": 119,
     "metadata": {},
     "output_type": "execute_result"
    }
   ],
   "source": [
    "A = np.array([[0.5,0.5],[0.3,0.7]])\n",
    "B = np.array([[0.8,0.2],[0.4,0.6]])\n",
    "pi = compute_pi(A)\n",
    "alpha1 =  pi * B\n",
    "print(alpha1)\n",
    "\n",
    "alpha1_0 = pi[0]*B[0,0]\n",
    "alpha1_1 = pi[1]*B[1,1]\n",
    "alpha1_0, alpha1_1"
   ]
  },
  {
   "cell_type": "markdown",
   "metadata": {},
   "source": [
    "# ZADANIA HMM"
   ]
  },
  {
   "cell_type": "code",
   "execution_count": 3,
   "metadata": {},
   "outputs": [],
   "source": [
    "import numpy as np\n",
    "A = np.array([[0.6,0.4],[0.3,0.7]])\n",
    "B = np.array([[0.1,0.4,0.5],[0.7,0.2,0.1]])\n",
    "pi = np.array([0.7,0.3])"
   ]
  },
  {
   "cell_type": "code",
   "execution_count": 56,
   "metadata": {},
   "outputs": [
    {
     "name": "stdout",
     "output_type": "stream",
     "text": [
      "[0.28 0.06]\n"
     ]
    },
    {
     "data": {
      "text/plain": [
       "(0.005039999999999999,\n",
       " 0.023519999999999996,\n",
       " 0.000336,\n",
       " 0.005488,\n",
       " 0.0020579999999999995,\n",
       " 0.00054,\n",
       " 0.0025199999999999997,\n",
       " 0.00054)"
      ]
     },
     "execution_count": 56,
     "metadata": {},
     "output_type": "execute_result"
    }
   ],
   "source": [
    "# Problem 1\n",
    "O = [1,2,0]\n",
    "alpha_0 = pi * B[:,O[0]]\n",
    "print(alpha_0)\n",
    "p_HHH = alpha_0[0] * A[0,0] * B[0,O[1]] * A[0,0] * B[0,O[2]]\n",
    "p_HHS = alpha_0[0] * A[0,0] * B[0,O[1]] * A[0,1] * B[1,O[2]]\n",
    "p_HSH = alpha_0[0] * A[0,1] * B[1,O[1]] * A[1,0] * B[0,O[2]]\n",
    "p_HSS = alpha_0[0] * A[0,1] * B[1,O[1]] * A[1,1] * B[1,O[2]]\n",
    "p_SSS = alpha_0[1] * A[1,1] * B[1,O[1]] * A[1,1] * B[1,O[2]]\n",
    "p_SSH = alpha_0[1] * A[1,0] * B[0,O[1]] * A[0,0] * B[0,O[2]]\n",
    "p_SHS = alpha_0[1] * A[1,0] * B[0,O[1]] * A[0,1] * B[1,O[2]]\n",
    "p_SHH = alpha_0[1] * A[1,0] * B[0,O[1]] * A[0,0] * B[0,O[2]]\n",
    "p_HHH, p_HHS, p_HSH, p_HSS, p_SSS, p_SSH, p_SHS, p_SHH\n",
    "# sekvence_prob = np.sum([p_HHH, p_HHS, p_HSH, p_HSS, p_SSS, p_SSH, p_SHS, p_SHH])\n",
    "# sekvence_prob\n",
    "# print(f\"{sekvence_prob:.4}\")\n",
    "# P(S) or P(H)\n",
    "# p_s = p_SSS + p_SSH + p_SHS + p_SHH\n",
    "# p_h = p_HHH + p_HHS + p_HSH + p_HSS\n",
    "# p_s, p_h\n",
    "# results = np.zeros((2,3))\n",
    "# results[:,0] = [p_h,p_s]\n",
    "# results\n",
    "# p_xh = p_HHH + p_HHS + p_SHH + p_SHS\n",
    "# p_xs = p_SSS + p_SSH + p_HSS + p_HSH\n",
    "# results[:,1] = [p_xh,p_xs]\n",
    "# results\n",
    "# p_xxH = p_HHH + p_SHH + p_HSH + p_SSH\n",
    "# p_xxS = p_HHS + p_SHS + p_HSS + p_SSS\n",
    "# results[:,2] = [p_xxH,p_xxS]\n",
    "# results"
   ]
  },
  {
   "cell_type": "code",
   "execution_count": 68,
   "metadata": {},
   "outputs": [
    {
     "name": "stdout",
     "output_type": "stream",
     "text": [
      "[0, 1, 0, 2]\n",
      "[[0.06 0.   0.   0.  ]\n",
      " [0.28 0.   0.   0.  ]]\n",
      "[[0.06      0.0616    0.0058    0.007742 ]\n",
      " [0.28      0.0372    0.02856   0.0018876]]\n",
      "[0.007742  0.0018876]\n",
      "0.00963\n"
     ]
    }
   ],
   "source": [
    "def problem_1_forward(A,B,pi,O):\n",
    "    alpha = np.zeros((2,len(O)))\n",
    "    alpha[:,0] = pi * B[:,O[0]]\n",
    "    print(alpha)\n",
    "    for t in range(1,len(O)):\n",
    "        for i in range(2):\n",
    "            alpha[i,t] = np.sum(alpha[:,t-1] * A[:,i]) * B[i,O[t]]\n",
    "    return alpha\n",
    "\n",
    "\n",
    "print(O)\n",
    "result = problem_1_forward(A,B,pi,O)\n",
    "print(result)\n",
    "print(result[:,-1])\n",
    "print(f\"{np.sum(result[:,-1]):.4}\")"
   ]
  },
  {
   "cell_type": "code",
   "execution_count": null,
   "metadata": {},
   "outputs": [],
   "source": []
  },
  {
   "cell_type": "code",
   "execution_count": 24,
   "metadata": {},
   "outputs": [
    {
     "data": {
      "text/plain": [
       "0.09299999999999999"
      ]
     },
     "execution_count": 24,
     "metadata": {},
     "output_type": "execute_result"
    }
   ],
   "source": [
    "alphaH_1 = (alpha_0[0] * A[0,0] + alpha_0[1] * A[1,0]) * B[0,2]\n",
    "alphaH_1"
   ]
  },
  {
   "cell_type": "code",
   "execution_count": 25,
   "metadata": {},
   "outputs": [
    {
     "data": {
      "text/plain": [
       "(0.27999999999999997, 0.06)"
      ]
     },
     "execution_count": 25,
     "metadata": {},
     "output_type": "execute_result"
    }
   ],
   "source": [
    "#Viterbi - graf jako drzewo\n",
    "alfa0_H_1 = pi[0] * B[0,1]\n",
    "alfa0_S_1 = pi[1] * B[1,1]\n",
    "alfa0_H_1, alfa0_S_1"
   ]
  },
  {
   "cell_type": "code",
   "execution_count": 8,
   "metadata": {},
   "outputs": [
    {
     "name": "stdout",
     "output_type": "stream",
     "text": [
      "[[0.24 0.   0.  ]\n",
      " [0.   0.   0.  ]]\n",
      "[[0.24  0.132 0.   ]\n",
      " [0.    0.    0.   ]]\n",
      "0.132\n",
      "[[0.24  0.132 0.   ]\n",
      " [0.    0.    0.   ]]\n",
      "[[0.24   0.132  0.0726]\n",
      " [0.     0.     0.    ]]\n",
      "0.0726\n",
      "[[0.24   0.132  0.0726]\n",
      " [0.     0.     0.    ]]\n",
      "0.020159999999999997\n"
     ]
    }
   ],
   "source": [
    "def vitterbi_forward(A,B,pi,O):\n",
    "    alpha = np.zeros((2,len(O)))\n",
    "    alpha[:,0] = pi * B[:,O[0]]\n",
    "    alpha_val = np.max(alpha)\n",
    "    alpha[alpha != alpha_val] = 0\n",
    "    for t in range(1,len(O)):\n",
    "        for i in range(2):\n",
    "            print(alpha)\n",
    "            alpha[i,t] = np.sum(alpha[i,t-1] * A[:,i]) * B[i,O[t]]\n",
    "        alpha_val = np.max(alpha[:,t])\n",
    "        print(alpha_val)\n",
    "        # alpha_col= alpha[:,t]\n",
    "        # alpha_col[alpha_col != alpha_val] = 0\n",
    "        # alpha[:,t] = alpha_col\n",
    "    return alpha\n",
    "\n",
    "O = (1,2,2)\n",
    "print(vitterbi_forward(A,B,pi,O))\n",
    "# print(problem_1_forward(A,B,pi,O))\n",
    "# p_hhh = 0.7*0.4*0.6*0.5*0.6*0.4\n",
    "# p_hhh\n",
    "# p_hhs = 0.7*0.4*0.6*0.5*0.4*0.2\n",
    "# p_hhh, p_hhs\n",
    "pp = 0.7*0.4*0.6*0.5*0.6*0.4\n",
    "print(pp)\n"
   ]
  },
  {
   "cell_type": "code",
   "execution_count": 79,
   "metadata": {},
   "outputs": [
    {
     "name": "stdout",
     "output_type": "stream",
     "text": [
      "[[0.   0.   0.   0.  ]\n",
      " [0.28 0.   0.   0.  ]]\n",
      "[[0.     0.0448 0.     0.    ]\n",
      " [0.28   0.     0.     0.    ]]\n",
      "0.27999999999999997\n",
      "[[0.   0.   0.   0.  ]\n",
      " [0.28 0.   0.   0.  ]]\n",
      "[[0.   0.   0.   0.  ]\n",
      " [0.28 0.   0.   0.  ]]\n",
      "0.27999999999999997\n",
      "[[0.   0.   0.   0.  ]\n",
      " [0.28 0.   0.   0.  ]]\n",
      "[[0.   0.   0.   0.  ]\n",
      " [0.28 0.   0.   0.  ]]\n",
      "0.27999999999999997\n",
      "[[0.   0.   0.   0.  ]\n",
      " [0.28 0.   0.   0.  ]]\n"
     ]
    }
   ],
   "source": [
    "print(vitterbi_forward(A,B,pi,O))\n"
   ]
  },
  {
   "cell_type": "code",
   "execution_count": null,
   "metadata": {},
   "outputs": [],
   "source": []
  },
  {
   "cell_type": "code",
   "execution_count": 76,
   "metadata": {},
   "outputs": [
    {
     "name": "stdout",
     "output_type": "stream",
     "text": [
      "[[0.7 0.3]\n",
      " [0.4 0.6]]\n",
      "[[0.1 0.4 0.5]\n",
      " [0.7 0.2 0.1]]\n",
      "[[0.06 0.   0.   0.  ]\n",
      " [0.28 0.   0.   0.  ]]\n",
      "[[0.06      0.0616    0.0058    0.007742 ]\n",
      " [0.28      0.0372    0.02856   0.0018876]]\n"
     ]
    },
    {
     "data": {
      "text/plain": [
       "(0.0004116,\n",
       " 3.5279999999999994e-05,\n",
       " 0.0007055999999999999,\n",
       " 5.04e-05,\n",
       " 0.00021167999999999995)"
      ]
     },
     "execution_count": 76,
     "metadata": {},
     "output_type": "execute_result"
    }
   ],
   "source": [
    "#Forward alg\n",
    "\n",
    "def forward(A,B,pi,O):\n",
    "    N = A.shape[0]\n",
    "    T = len(O)\n",
    "    alpha = np.zeros((N,T))\n",
    "    alpha[:,0] = pi * B[:,O[0]]\n",
    "    print(alpha)\n",
    "    for t in range(1,T):\n",
    "        for i in range(N):\n",
    "            alpha[i,t] = np.sum(alpha[:,t-1]*A[:,i]) * B[i,O[t]]\n",
    "    return alpha\n",
    "\n",
    "\n",
    "A = np.array([[0.7,0.3],[0.4,0.6]])\n",
    "B = np.array([[0.1,0.4, 0.5],[0.7,0.2,0.1]])\n",
    "pi = np.array([0.6,0.4])\n",
    "pi\n",
    "print(A)\n",
    "print(B)\n",
    "forward_alphas = forward(A,B,pi,[0,1,0,2])# best is CHCH\n",
    "# forward_alphas = forward(A,B,pi,[0,1])\n",
    "print(forward_alphas)\n",
    "pHHHH = pi[0]*B[0,0]*A[0,0]*B[0,1]*A[0,0]*B[0,0]*A[0,0]*B[0,2]\n",
    "pHHHC = pi[0]*B[0,0]*A[0,0]*B[0,1]*A[0,0]*B[0,0]*A[0,1]*B[1,2]\n",
    "pHHCH = pi[0]*B[0,0]*A[0,0]*B[0,1]*A[0,1]*B[1,0]*A[1,0]*B[0,2]\n",
    "pHCHH = pi[0]*B[0,0]*A[0,1]*B[1,1]*A[1,0]*B[0,0]*A[0,0]*B[0,2]\n",
    "# pHHCC = 0.6*0.1*0.7*0.4*0.3*0.7*0.6*0.1\n",
    "pHHCC = pi[0]*B[0,0]*A[0,0]*B[0,1]*A[0,1]*B[1,0]*A[1,1]*B[1,2]\n",
    "\n",
    "pHHHH, pHHHC, pHHCH, pHCHH, pHHCC\n"
   ]
  },
  {
   "cell_type": "code",
   "execution_count": 83,
   "metadata": {},
   "outputs": [
    {
     "name": "stdout",
     "output_type": "stream",
     "text": [
      "[[0.06 0.   0.   0.  ]\n",
      " [0.28 0.   0.   0.  ]]\n",
      "[[0.06      0.0616    0.0058    0.007742 ]\n",
      " [0.28      0.0372    0.02856   0.0018876]]\n",
      "[0.007742  0.0018876]\n",
      "0.00963\n"
     ]
    }
   ],
   "source": [
    "result = problem_1_forward(A,B,pi,[0,1,0,2])\n",
    "print(result)\n",
    "print(result[:,-1])\n",
    "print(f\"{np.sum(result[:,-1]):.4}\")"
   ]
  },
  {
   "cell_type": "code",
   "execution_count": 11,
   "metadata": {},
   "outputs": [
    {
     "data": {
      "text/plain": [
       "(0.27999999999999997, 0.06)"
      ]
     },
     "execution_count": 11,
     "metadata": {},
     "output_type": "execute_result"
    }
   ],
   "source": [
    "import numpy as np\n",
    "A = np.array([[0.6,0.4],[0.3,0.7]])\n",
    "B = np.array([[0.1,0.4, 0.5],[0.7,0.2,0.1]])\n",
    "pi = np.array([0.7,0.3])\n",
    "O = [1,2,0]\n",
    "alpha_0_H = pi[0] * B[0][O[0]]\n",
    "alpha_0_C = pi[1] * B[1][O[0]]\n",
    "alpha_0_H, alpha_0_C"
   ]
  },
  {
   "cell_type": "code",
   "execution_count": 19,
   "metadata": {},
   "outputs": [
    {
     "name": "stdout",
     "output_type": "stream",
     "text": [
      "0.03963\n"
     ]
    }
   ],
   "source": [
    "alpha_1_H = (alpha_0_H * A[0][0] * B[0][O[1]]) + (alpha_0_C * A[1][0] * B[0][O[1]])\n",
    "alpha_1_C = (alpha_0_H * A[0][1] * B[1][O[1]]) + (alpha_0_C * A[1][1] * B[1][O[1]])\n",
    "alpha_1_H, alpha_1_C\n",
    "\n",
    "alpha_2_H = (alpha_1_H * A[0][0] + alpha_1_C * A[1][0]) * B[0][O[2]]\n",
    "alpha_2_C = (alpha_1_H * A[0][1] + alpha_1_C * A[1][1]) * B[1][O[2]]\n",
    "alpha_2_H, alpha_2_C\n",
    "\n",
    "sum = alpha_2_H + alpha_2_C\n",
    "print(f\"{sum:.4}\")\n"
   ]
  },
  {
   "cell_type": "code",
   "execution_count": 13,
   "metadata": {},
   "outputs": [
    {
     "name": "stdout",
     "output_type": "stream",
     "text": [
      "0.03963\n"
     ]
    }
   ],
   "source": [
    "p_HHH = alpha_0_H * A[0][0] * B[0][O[1]] * A[0][0] * B[0][O[2]]\n",
    "p_HHS = alpha_0_H * A[0][0] * B[0][O[1]] * A[0][1] * B[1][O[2]]\n",
    "p_HSH = alpha_0_H * A[0][1] * B[1][O[1]] * A[1][0] * B[0][O[2]]\n",
    "p_HSS = alpha_0_H * A[0][1] * B[1][O[1]] * A[1][1] * B[1][O[2]]\n",
    "p_SSS = alpha_0_C * A[1][1] * B[1][O[1]] * A[1][1] * B[1][O[2]]\n",
    "p_SSH = alpha_0_C * A[1][1] * B[1][O[1]] * A[1][0] * B[0][O[2]]\n",
    "p_SHS = alpha_0_C * A[1][0] * B[0][O[1]] * A[0][1] * B[1][O[2]]\n",
    "p_SHH = alpha_0_C * A[1][0] * B[0][O[1]] * A[0][0] * B[0][O[2]]\n",
    "p_HHH, p_HHS, p_HSH, p_HSS, p_SSS, p_SSH, p_SHS, p_SHH\n",
    "\n",
    "sum = p_HHH + p_HHS + p_HSH + p_HSS + p_SSS + p_SSH + p_SHS + p_SHH\n",
    "print(f\"{sum:.4}\")"
   ]
  }
 ],
 "metadata": {
  "kernelspec": {
   "display_name": "base",
   "language": "python",
   "name": "python3"
  },
  "language_info": {
   "codemirror_mode": {
    "name": "ipython",
    "version": 3
   },
   "file_extension": ".py",
   "mimetype": "text/x-python",
   "name": "python",
   "nbconvert_exporter": "python",
   "pygments_lexer": "ipython3",
   "version": "3.8.13"
  }
 },
 "nbformat": 4,
 "nbformat_minor": 2
}
