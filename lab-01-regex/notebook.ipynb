{
 "cells": [
  {
   "cell_type": "markdown",
   "metadata": {
    "colab_type": "text",
    "id": "view-in-github"
   },
   "source": [
    "[View in Colaboratory](https://colab.research.google.com/github/gmum/natural-language-processing-classes/blob/master/lab-1-regex/notebook.ipynb)"
   ]
  },
  {
   "cell_type": "markdown",
   "metadata": {
    "colab_type": "text",
    "id": "ScUO69SyLhPs"
   },
   "source": [
    "# Lecture 1 - Regular expressions"
   ]
  },
  {
   "cell_type": "markdown",
   "metadata": {
    "colab_type": "text",
    "id": "eDymVYaFLhPt"
   },
   "source": [
    "<img src=\"https://imgs.xkcd.com/comics/regular_expressions.png\">"
   ]
  },
  {
   "cell_type": "markdown",
   "metadata": {
    "colab_type": "text",
    "id": "2FNmQvi8LhPv"
   },
   "source": [
    "Regex is a fantastic tool for processing data, especially for finding some patterns and extracting things like phone numbers.\n",
    "\n",
    "Syntax is shear magic, but.. if you are serious about data processing, you have to know your regex-jujitsu:"
   ]
  },
  {
   "cell_type": "markdown",
   "metadata": {
    "colab_type": "text",
    "id": "OWRD0NiFLhPx"
   },
   "source": [
    "<img src=\"https://github.com/kmisztal/PLN/raw/master/lab-01-regex/davechild_regex.png\">"
   ]
  },
  {
   "cell_type": "code",
   "execution_count": 5,
   "metadata": {
    "colab": {},
    "colab_type": "code",
    "id": "OdXw2tmYUDFM"
   },
   "outputs": [],
   "source": [
    "import re\n",
    "\n",
    "text = \"You only live once, but if you do it right, once is enough.\""
   ]
  },
  {
   "cell_type": "markdown",
   "metadata": {
    "colab_type": "text",
    "id": "_ETiyc16guU_"
   },
   "source": [
    "## Recipe 1"
   ]
  },
  {
   "cell_type": "code",
   "execution_count": 6,
   "metadata": {
    "colab": {
     "base_uri": "https://localhost:8080/",
     "height": 35
    },
    "colab_type": "code",
    "id": "9DIZAaxtLhPy",
    "outputId": "4159ff52-f1dc-4c6e-b8ce-bf1e08572680"
   },
   "outputs": [
    {
     "name": "stdout",
     "output_type": "stream",
     "text": [
      "only\n"
     ]
    }
   ],
   "source": [
    "match = re.search(r'on\\w+', text)\n",
    "\n",
    "print(match.group())"
   ]
  },
  {
   "cell_type": "markdown",
   "metadata": {
    "colab_type": "text",
    "id": "gujj8_whgvGp"
   },
   "source": [
    "## Recipe 2"
   ]
  },
  {
   "cell_type": "code",
   "execution_count": 7,
   "metadata": {
    "colab": {
     "base_uri": "https://localhost:8080/",
     "height": 35
    },
    "colab_type": "code",
    "id": "HhMRSUeJam_X",
    "outputId": "ad48e8f2-4c5d-40bd-aa32-fe97f2b26c94"
   },
   "outputs": [
    {
     "name": "stdout",
     "output_type": "stream",
     "text": [
      "['only', 'once', 'once']\n"
     ]
    }
   ],
   "source": [
    "matches = re.findall(r'on\\w+', text)\n",
    "\n",
    "print(matches)"
   ]
  },
  {
   "cell_type": "markdown",
   "metadata": {
    "colab_type": "text",
    "id": "qHwDlfywgv2z"
   },
   "source": [
    "## Recipe 3"
   ]
  },
  {
   "cell_type": "code",
   "execution_count": 8,
   "metadata": {
    "colab": {
     "base_uri": "https://localhost:8080/",
     "height": 71
    },
    "colab_type": "code",
    "id": "-InC-sFfLhP5",
    "outputId": "4178e43a-8900-40c8-d352-ab5a1ec1b126"
   },
   "outputs": [
    {
     "name": "stdout",
     "output_type": "stream",
     "text": [
      "04-08: only\n",
      "14-18: once\n",
      "44-48: once\n"
     ]
    }
   ],
   "source": [
    "for m in re.finditer(r'on\\w+', text):\n",
    "    print('%02d-%02d: %s' % (m.start(), m.end(), m.group(0)))"
   ]
  },
  {
   "cell_type": "markdown",
   "metadata": {
    "colab_type": "text",
    "id": "LfUV4PMcb4aY"
   },
   "source": [
    "## Why r before string?\n",
    "\n",
    "If you do not use raw formatting of strings, some strings with backslashes will be converted by Python to a format which regex does not support"
   ]
  },
  {
   "cell_type": "code",
   "execution_count": 9,
   "metadata": {
    "colab": {
     "base_uri": "https://localhost:8080/",
     "height": 71
    },
    "colab_type": "code",
    "id": "oI3teX2icv9X",
    "outputId": "23babe42-c553-4965-ce47-019fef500311"
   },
   "outputs": [
    {
     "name": "stdout",
     "output_type": "stream",
     "text": [
      "[]\n",
      "['You', 'only', 'live', 'once', 'but', 'if', 'you', 'do', 'it', 'right', 'once', 'is', 'enough']\n",
      "['You', 'only', 'live', 'once', 'but', 'if', 'you', 'do', 'it', 'right', 'once', 'is', 'enough']\n"
     ]
    }
   ],
   "source": [
    "str_1 = '\\b\\w+\\b'\n",
    "str_2 = r'\\b\\w+\\b'\n",
    "str_3 = '\\\\b\\\\w+\\\\b'\n",
    "\n",
    "print(re.findall(str_1, text))\n",
    "print(re.findall(str_2, text))\n",
    "print(re.findall(str_3, text))"
   ]
  },
  {
   "cell_type": "markdown",
   "metadata": {
    "colab_type": "text",
    "id": "v_YO60zQLhP-"
   },
   "source": [
    "# Exercise 1 \n",
    "\n",
    "Using regular expressions, write code that will read from the file, and print out the name and phone number of each individual in format **name: telephone**."
   ]
  },
  {
   "cell_type": "code",
   "execution_count": 10,
   "metadata": {
    "colab": {},
    "colab_type": "code",
    "id": "EFztz2TaLhP_"
   },
   "outputs": [],
   "source": [
    "txt_file = \"\"\"Rose    416-333-4444    rose@someplace.com\n",
    "Martha  905-888-1234    martha@hotmail.com\n",
    "Donna   647-222-9876    donna@rogers.ca\n",
    "Amy 905-777-2222    amy@gmail.com\"\"\""
   ]
  },
  {
   "cell_type": "code",
   "execution_count": 11,
   "metadata": {
    "colab": {
     "base_uri": "https://localhost:8080/",
     "height": 35
    },
    "colab_type": "code",
    "id": "lLiipj34LhQD",
    "outputId": "e59f7a92-5a5d-47be-9441-dc35741f1c1e"
   },
   "outputs": [
    {
     "name": "stdout",
     "output_type": "stream",
     "text": [
      "['Rose    416-333-4444    rose@someplace.com', 'Martha  905-888-1234    martha@hotmail.com', 'Donna   647-222-9876    donna@rogers.ca', 'Amy 905-777-2222    amy@gmail.com']\n"
     ]
    }
   ],
   "source": [
    "print(txt_file.split(\"\\n\"))"
   ]
  },
  {
   "cell_type": "code",
   "execution_count": null,
   "metadata": {
    "colab": {},
    "colab_type": "code",
    "id": "4R3D7vWEfRup"
   },
   "outputs": [],
   "source": [
    "#Solution\n"
   ]
  },
  {
   "cell_type": "markdown",
   "metadata": {
    "colab_type": "text",
    "id": "mSOKz0lRLhQH"
   },
   "source": [
    "# Exercise 2\n",
    "\n",
    "Give a pattern to match the following:\n",
    "\n",
    "* Words that begin with an uppercase letter, followed by any number (including zero!) of lowercase letters.\n",
    "\n",
    "* Strings containing two words: \"I\" and a word that has at least one \"a\", \"i\" or \"e\" letter\n",
    "\n"
   ]
  },
  {
   "cell_type": "code",
   "execution_count": 13,
   "metadata": {
    "colab": {},
    "colab_type": "code",
    "id": "akjfJ9qEZwXR"
   },
   "outputs": [],
   "source": [
    "text_2 = \"\"\"This tale grew in the telling, until it became a history of the Great War of\n",
    "the Ring and included many glimpses of the yet more ancient history that\n",
    "preceded it. It was begun soon after _The Hobbit_ was written and before its\n",
    "publication in 1937; but I did not go on with this sequel, for I wished first\n",
    "to complete and set in order the mythology and legends of the Elder Days,\n",
    "which had then been taking shape for some years. I desired to do this for my\n",
    "own satisfaction, and I had little hope that other people would be interested\n",
    "in this work, especially since it was primarily linguistic in inspiration and\n",
    "was begun in order to provide the necessary background of 'history' for Elvish\n",
    "tongues. When those whose advice and opinion I sought corrected _little hope_ to\n",
    "_no hope,_ I went back to the sequel, encouraged by requests from readers for\n",
    "more information concerning hobbits and their adventures. But the story was\n",
    "drawn irresistibly towards the older world, and became an account, as it were,\n",
    "of its end and passing away before its beginning and middle had been told. The\n",
    "process had begun in the writing of _The Hobbit,_ in which there were already\n",
    "some references to the older matter: Elrond, Gondolin, the High-elves, and the\n",
    "orcs, as well as glimpses that had arisen unbidden of things higher or deeper\n",
    "or darker than its surface: Durin, Moria, Gandalf, the Necromancer, the Ring.\n",
    "The discovery of the significance of these glimpses and of their relation to\n",
    "the ancient histories revealed the Third Age and its culmination in the War of\n",
    "the Ring.\"\"\".replace('\\n', ' ')"
   ]
  },
  {
   "cell_type": "code",
   "execution_count": 53,
   "metadata": {
    "colab": {},
    "colab_type": "code",
    "id": "wACLCUH1GMXp"
   },
   "outputs": [
    {
     "data": {
      "text/plain": [
       "['I did', 'I wished', 'I desired', 'I had', 'I went']"
      ]
     },
     "execution_count": 53,
     "metadata": {},
     "output_type": "execute_result"
    }
   ],
   "source": [
    "pattern_1 = r'\\b[A-Z][a-z]*\\b'\n",
    "pattern_2 = r'\\bI\\b\\s\\w*[aie]\\w*'\n",
    "\n",
    "result_1 = re.findall(pattern_1, text_2)\n",
    "result_2 = re.findall(pattern_2, text_2)\n",
    "result_2"
   ]
  },
  {
   "cell_type": "code",
   "execution_count": 54,
   "metadata": {
    "colab": {
     "base_uri": "https://localhost:8080/",
     "height": 241
    },
    "colab_type": "code",
    "id": "K-gkN4mfaEqL",
    "outputId": "9b0ffe10-81b4-4b1f-a803-df3b24d45857"
   },
   "outputs": [
    {
     "name": "stdout",
     "output_type": "stream",
     "text": [
      "Well done!\n"
     ]
    }
   ],
   "source": [
    "assert result_1 == ['This', 'Great', 'War', 'Ring', 'It', 'I', 'I', 'Elder',\n",
    "                    'Days', 'I', 'I', 'Elvish', 'When', 'I', 'I', 'But', 'The',\n",
    "                    'Hobbit', 'Elrond', 'Gondolin', 'High', 'Durin', 'Moria',\n",
    "                    'Gandalf', 'Necromancer', 'Ring', 'The', 'Third', 'Age',\n",
    "                    'War', 'Ring']\n",
    "\n",
    "assert result_2 == ['I did', 'I wished', 'I desired', 'I had', 'I went']\n",
    "print(\"Well done!\")"
   ]
  },
  {
   "cell_type": "markdown",
   "metadata": {
    "colab_type": "text",
    "id": "QVglNPNR6Fvs"
   },
   "source": [
    "# Exercise 3\n",
    "\n",
    "Write code that takes given text and use regex to:\n",
    "- find all words starting with letter \"a\" and return the longest one\n",
    "- find all words ending with \"ing\" with length smaller than 5\n",
    "- return the number of 6-letter words in the document\n",
    "- find all words starting with an uppercase letter, which is not \"A\" or \"B\""
   ]
  },
  {
   "cell_type": "code",
   "execution_count": 107,
   "metadata": {
    "colab": {},
    "colab_type": "code",
    "id": "p0NmvBRn6E9k"
   },
   "outputs": [],
   "source": [
    "text_3 = \"\"\"King. He felt better at once,' said Gandalf. 'But there is only one Power in\n",
    "this world that knows all about the Rings and their effects; and as far as I\n",
    "know there is no Power in the world that knows all about hobbits. Among the\n",
    "Wise I am the only one that goes in for hobbit-lore: an obscure branch of\n",
    "knowledge, but full of surprises. Soft as butter they can be, and yet\n",
    "sometimes as tough as old tree-roots. I think it likely that some would resist\n",
    "the Rings far longer than most of the Wise would believe. I don't think you\n",
    "need worry about Bilbo.\n",
    " 'Of course, he possessed the ring for many years, and used it, so it\n",
    "might take a long while for the influence to wear off – before it was safe for\n",
    "him to see it again, for instance. Otherwise, he might live on for years,\n",
    "quite happily: just stop as he was when he parted with it. For he gave it up\n",
    "in the end of his own accord: an important point. No, I was not troubled about\n",
    "dear Bilbo any more, once he had let the thing go. It is for _you_ that I feel\n",
    "responsible.\n",
    " 'Ever since Bilbo left I have been deeply concerned about you, and about\n",
    "all these charming, absurd, helpless hobbits. It would be a grievous blow to\n",
    "the world, if the Dark Power overcame the Shire; if all your kind, jolly,\n",
    "stupid Bolgers, Hornblowers, Boffins, Bracegirdles, and the rest, not to\n",
    "mention the ridiculous Bagginses, became enslaved.'\n",
    " Frodo shuddered. 'But why should we be?' he asked. 'And why should he\n",
    "want such slaves?'\n",
    " 'To tell you the truth,' replied Gandalf, 'I believe that hitherto –\n",
    "_hitherto,_mark you – he has entirely overlooked the existence of hobbits. You\n",
    "should be thankful. But your safety has passed. He does not need you – he has\n",
    "many more useful servants – but he won't forget you again. And hobbits as\n",
    "miserable slaves would please him far more than hobbits happy and free. There\n",
    "is such a thing as malice and revenge.'\n",
    " 'Revenge?' said Frodo. 'Revenge for what? I still don't understand what\n",
    "all this has to do with Bilbo and myself, and our ring.'\n",
    " 'It has everything to do with it,' said Gandalf. 'You do not know the\n",
    "real peril yet; but you shall. I was not sure of it myself when I was last\n",
    "here; but the time has come to speak. Give me the ring for a moment.\n",
    "\"\"\".replace('\\n', ' ')"
   ]
  },
  {
   "cell_type": "code",
   "execution_count": 108,
   "metadata": {
    "colab": {},
    "colab_type": "code",
    "id": "0ZwHyhvH9jfM"
   },
   "outputs": [
    {
     "name": "stdout",
     "output_type": "stream",
     "text": [
      "['King', 'He', 'Gandalf', 'Power', 'Rings', 'I', 'Power', 'Wise', 'I', 'Soft', 'I', 'Rings', 'Wise', 'I', 'Of', 'Otherwise', 'For', 'No', 'I', 'It', 'I', 'Ever', 'I', 'It', 'Dark', 'Power', 'Shire', 'Hornblowers', 'Frodo', 'To', 'Gandalf', 'I', 'You', 'He', 'There', 'Revenge', 'Frodo', 'Revenge', 'I', 'It', 'Gandalf', 'You', 'I', 'I', 'Give']\n"
     ]
    },
    {
     "data": {
      "text/plain": [
       "45"
      ]
     },
     "execution_count": 108,
     "metadata": {},
     "output_type": "execute_result"
    }
   ],
   "source": [
    "\n",
    "pattern_1 = r\"\\ba\\w*\\b\"\n",
    "pattern_2 = r\"\\b\\w{0,1}ing\\b\"\n",
    "pattern_3 = r\"\\b\\w{6}\\b\"\n",
    "pattern_4 = r\"\\b[C-Z]\\w*\\b\"\n",
    "\n",
    "result_1 = re.findall(pattern_1, text_3)\n",
    "result_2 = re.findall(pattern_2, text_3)\n",
    "result_3 = re.findall(pattern_3, text_3)\n",
    "result_4 = re.findall(pattern_4, text_3)\n",
    "\n",
    "# result_1\n",
    "print(result_4)\n",
    "len(result_4)"
   ]
  },
  {
   "cell_type": "code",
   "execution_count": 109,
   "metadata": {
    "colab": {
     "base_uri": "https://localhost:8080/",
     "height": 35
    },
    "colab_type": "code",
    "id": "PhPYlpeu-iIu",
    "outputId": "60c88a24-ea51-4c88-b784-bae2effcadf9"
   },
   "outputs": [
    {
     "name": "stdout",
     "output_type": "stream",
     "text": [
      "Well done!\n"
     ]
    }
   ],
   "source": [
    "assert max(result_1, key=len) == 'accord'\n",
    "assert result_2 == ['King', 'ring', 'ring', 'ring']\n",
    "assert len(result_3) == 29\n",
    "assert len(result_4) == 45\n",
    "print(\"Well done!\")"
   ]
  },
  {
   "cell_type": "code",
   "execution_count": null,
   "metadata": {
    "colab": {},
    "colab_type": "code",
    "id": "C5yVCnGzSAmI"
   },
   "outputs": [],
   "source": [
    "# Napisz program, który (używając wyrażeń regularnych) przefiltruje plik atoms.txt tak by pozostały jedynie linie dotyczące bezproblemowego przebiegu eksperymentu, czyli np. powinny zostać odrzucone takie linie jak\n",
    "\n",
    "# RUN 000039 COMPLETED. OUTPUT IN FILE yttrium.dat. 1 UNDERFLOW WARNING.\n",
    "\n",
    "# czy\n",
    "\n",
    "# RUN 000058 COMPLETED. OUTPUT IN FILE cerium.dat. ALGORITHM DID NOT CONVERGE AFTER 100000 ITERATIONS.\n",
    "\n",
    "# Można jedynie założyć, że każda linia pasuje do poniższego schematu\n",
    "\n",
    "# RUN [[NUMER Z DOKŁADNIE 6 CYFR]] COMPLETED. OUTPUT IN FILE [[NAZWA]].dat. [[COKOLWIEK]]\n",
    "# 1\n"
   ]
  },
  {
   "cell_type": "code",
   "execution_count": 123,
   "metadata": {},
   "outputs": [
    {
     "name": "stdout",
     "output_type": "stream",
     "text": [
      "54\n"
     ]
    }
   ],
   "source": [
    "import re\n",
    "\n",
    "pattern = r'RUN \\d{6} COMPLETED\\. OUTPUT IN FILE \\w+\\.dat\\.$'\n",
    "\n",
    "successLines = []\n",
    "\n",
    "with open('atoms.txt') as atoms:\n",
    "    for line in atoms:\n",
    "        if re.search(pattern, line) is not None:\n",
    "            # print(line)\n",
    "            successLines.append(line)\n",
    "\n",
    "print(len(successLines))"
   ]
  },
  {
   "cell_type": "markdown",
   "metadata": {},
   "source": [
    "Rozważ następujący ciąg znaków:\n",
    "9876acb54321\n",
    "\n",
    "Napisz wyrażenie regularne które wyłuska tylko liczbową część ciągu znaków. W odpowiedzi wklej kod. Pamiętaj o odpowiednim wyborze typu składni."
   ]
  },
  {
   "cell_type": "code",
   "execution_count": 132,
   "metadata": {},
   "outputs": [],
   "source": [
    "\n",
    "line = \"9876acb54321\"\n",
    "\n",
    "pattern = r'\\d+'\n",
    "\n",
    "result = re.findall(pattern, line)\n",
    "assert result == ['9876', '54321']\n"
   ]
  },
  {
   "cell_type": "code",
   "execution_count": 133,
   "metadata": {},
   "outputs": [
    {
     "name": "stdout",
     "output_type": "stream",
     "text": [
      "['9876', '54321']\n"
     ]
    }
   ],
   "source": [
    "import re\n",
    "\n",
    "text = \"9876acb54321\"\n",
    "pattern = r\"\\d+\"\n",
    "numbers = re.findall(pattern, text)\n",
    "\n",
    "print(numbers)"
   ]
  },
  {
   "cell_type": "code",
   "execution_count": 256,
   "metadata": {},
   "outputs": [],
   "source": [
    "import re\n",
    "\n",
    "def process_file(input_data):\n",
    "    config_data, _, raw_data = input_data.partition('<<KONIEC>>\\n')\n",
    "\n",
    "    filters = []\n",
    "    params = []\n",
    "    for line in config_data.splitlines():\n",
    "        if line.startswith('-'):\n",
    "            for char in line[1:]:\n",
    "                filters.append((char, []))\n",
    "        else:\n",
    "            params.append(line)\n",
    "\n",
    "    i  = 0\n",
    "    f = 0\n",
    "    while i < len(params):\n",
    "        if f >= len(filters):\n",
    "            print(\"Za dużo parametrów!\")\n",
    "            return\n",
    "        if filters[f][0] == 'r':\n",
    "            filters[f][1].append(params[i])\n",
    "            i=i+1\n",
    "            filters[f][1].append(params[i])\n",
    "        elif filters[f][0] != 'm':\n",
    "            filters[f][1].append(params[i])\n",
    "        f = f+1\n",
    "        i = i+1\n",
    "\n",
    "    for filter_type, param in filters:\n",
    "        if filter_type in 'ex' and len(param) != 1 or filter_type == 'r' and len(param) != 2:\n",
    "            print(\"Za mało parametrów!\")\n",
    "            return\n",
    "\n",
    "    data_lines = raw_data.splitlines()\n",
    "    for filter_type, param in filters:\n",
    "        if filter_type == 'e':\n",
    "            regex = re.compile(param[0])\n",
    "            data_lines = [line for line in data_lines if regex.search(line)]\n",
    "        elif filter_type == 'x':\n",
    "            regex = re.compile(param[0])\n",
    "            isInText = True\n",
    "            while isInText:\n",
    "                isInText = False\n",
    "                text = '\\n'.join(data_lines)\n",
    "                if regex.search(text):\n",
    "                    print(text)\n",
    "                    isInText = True\n",
    "                    data_lines = [re.sub(regex, '', line) for line in data_lines]\n",
    "\n",
    "        elif filter_type == 'r':\n",
    "            data_lines = [line.replace(param[0], param[1]) for line in data_lines]\n",
    "        elif filter_type == 'm':\n",
    "            regex = re.compile(r\"^(?!.*\\.\\.)[a-zA-Z0-9]+[a-zA-Z0-9._%+-]{1,64}@((?!-)[a-zA-Z0-9-]{0,63}(?<!-)\\.){1,253}[a-zA-Z]{2,5}$\")\n",
    "            data_lines = [line for line in data_lines if regex.fullmatch(line)]\n",
    "\n",
    "    return '\\n'.join(data_lines)\n"
   ]
  },
  {
   "cell_type": "code",
   "execution_count": 264,
   "metadata": {},
   "outputs": [],
   "source": [
    "fileName = 'testy0/m0'\n",
    "with open(fileName + \".in\", 'r') as file:\n",
    "    content = file.read()\n",
    "\n",
    "result = process_file(content)\n",
    "\n",
    "with open(fileName + \".out\", 'r') as file:\n",
    "    correctResult = file.read()\n",
    "    correctResult = correctResult.strip()\n",
    "\n",
    "assert correctResult == result\n"
   ]
  }
 ],
 "metadata": {
  "colab": {
   "include_colab_link": true,
   "name": "lab-1-regex.ipynb",
   "provenance": [],
   "version": "0.3.2"
  },
  "kernelspec": {
   "display_name": "Python 3",
   "language": "python",
   "name": "python3"
  },
  "language_info": {
   "codemirror_mode": {
    "name": "ipython",
    "version": 3
   },
   "file_extension": ".py",
   "mimetype": "text/x-python",
   "name": "python",
   "nbconvert_exporter": "python",
   "pygments_lexer": "ipython3",
   "version": "3.8.13"
  }
 },
 "nbformat": 4,
 "nbformat_minor": 1
}
