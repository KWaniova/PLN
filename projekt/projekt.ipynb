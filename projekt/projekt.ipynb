{
 "cells": [
  {
   "cell_type": "code",
   "execution_count": 1953,
   "metadata": {},
   "outputs": [],
   "source": [
    "import torch\n",
    "import torch.nn as nn\n",
    "import torch.nn.functional as F\n",
    "import torch.optim as optim\n",
    "import numpy as np\n",
    "import matplotlib.pyplot as plt\n"
   ]
  },
  {
   "cell_type": "markdown",
   "metadata": {},
   "source": [
    "# Text preprocessing"
   ]
  },
  {
   "cell_type": "code",
   "execution_count": 1954,
   "metadata": {},
   "outputs": [
    {
     "data": {
      "text/plain": [
       "466662"
      ]
     },
     "execution_count": 1954,
     "metadata": {},
     "output_type": "execute_result"
    }
   ],
   "source": [
    "mickiewicz_pan_tadeusz = open('mickiewicz/pan_tadeusz.txt', 'r').read()\n",
    "mickiewicz_dziady = open('mickiewicz/dziady.txt', 'r').read()\n",
    "\n",
    "mickiewicz = mickiewicz_pan_tadeusz + mickiewicz_dziady\n",
    "\n",
    "len(mickiewicz)"
   ]
  },
  {
   "cell_type": "code",
   "execution_count": 1955,
   "metadata": {},
   "outputs": [],
   "source": [
    "slowacki_kordian = open('slowacki/kordian.txt', 'r').read()\n",
    "len(slowacki_kordian)\n",
    "słowacki = slowacki_kordian"
   ]
  },
  {
   "cell_type": "code",
   "execution_count": 1956,
   "metadata": {},
   "outputs": [
    {
     "data": {
      "text/plain": [
       "2940"
      ]
     },
     "execution_count": 1956,
     "metadata": {},
     "output_type": "execute_result"
    }
   ],
   "source": [
    "tuwim_matka = open('tuwim/matka.txt', 'r').read()\n",
    "tuwim_lokomotywa = open('tuwim/lokomotywa.txt', 'r').read()\n",
    "tuwim = tuwim_matka + tuwim_lokomotywa\n",
    "len(tuwim)"
   ]
  },
  {
   "cell_type": "code",
   "execution_count": 1957,
   "metadata": {},
   "outputs": [
    {
     "data": {
      "text/plain": [
       "112892"
      ]
     },
     "execution_count": 1957,
     "metadata": {},
     "output_type": "execute_result"
    }
   ],
   "source": [
    "bronte = open('bronte/jane_eyre_fragment.txt', 'r').read()\n",
    "len(bronte)"
   ]
  },
  {
   "cell_type": "code",
   "execution_count": 1958,
   "metadata": {},
   "outputs": [],
   "source": [
    "# !pip install nltk"
   ]
  },
  {
   "cell_type": "code",
   "execution_count": 1959,
   "metadata": {},
   "outputs": [],
   "source": [
    "# !pip install inflect\n"
   ]
  },
  {
   "cell_type": "code",
   "execution_count": 1960,
   "metadata": {},
   "outputs": [],
   "source": [
    "from helpers import remove_non_ascii, to_lowercase, remove_punctuation, replace_numbers, remove_stopwords, stem_words, lemmatize_verbs, normalize"
   ]
  },
  {
   "cell_type": "code",
   "execution_count": 1961,
   "metadata": {},
   "outputs": [],
   "source": [
    "import nltk\n",
    "sent = nltk.data.load(\n",
    "    'tokenizers/punkt/polish.pickle'\n",
    ")\n",
    "\n",
    "def remove_end_lines(text):\n",
    "    data = []\n",
    "    for item in text:\n",
    "        data.append(item.replace('\\n', ' '))\n",
    "    return data\n",
    "\n",
    "def preprocess(text):\n",
    "    words = sent.tokenize(text)\n",
    "    words = normalize(words)\n",
    "    words = remove_end_lines(words)\n",
    "    print(words[:10])\n",
    "    return words"
   ]
  },
  {
   "cell_type": "code",
   "execution_count": 1962,
   "metadata": {},
   "outputs": [
    {
     "name": "stdout",
     "output_type": "stream",
     "text": [
      "['adam mickiewicz  pan tadeusz czyli ostatni zajazd na litwie   ksiega pierwsza    gospodarstwo  powrot panicza  spotkanie sie pierwsze w pokoiku drugie u stou  wazna sedziego nauka o grzecznosci  podkomorzego uwagi polityczne nad modami  poczatek sporu o kusego i sokoa  zale wojskiego  ostatni wozny trybunau  rzut oka na owczesny stan polityczny litwy i europy      litwo', 'ojczyzno moja', 'ty jestes jak zdrowie ile cie trzeba cenic ten tylko sie dowie kto cie straci', 'dzis pieknosc twa w caej ozdobie widze i opisuje bo tesknie po tobie', 'panno swieta co jasnej bronisz czestochowy i w ostrej swiecisz bramie', 'ty co grod zamkowy nowogrodzki ochraniasz z jego wiernym ludem', 'jak mnie dziecko do zdrowia powrocias cudem gdy od paczacej matki pod twoja opieke ofiarowany martwa podniosem powieke i zaraz mogem pieszo do twych swiatyn progu isc za wrocone zycie podziekowac bogu tak nas powrocisz cudem na ojczyzny ono', 'tymczasem przenos moja dusze uteskniona do tych pagorkow lesnych do tych ak zielonych szeroko nad bekitnym niemnem rozciagnionych do tych pol malowanych zbozem rozmaitem wyzacanych pszenica posrebrzanych zytem gdzie bursztynowy swierzop gryka jak snieg biaa gdzie panienskim rumiencem dziecielina paa a wszystko przepasane jakby wstega miedza zielona na niej z rzadka ciche grusze siedza', 'srod takich pol przed laty nad brzegiem ruczaju na pagorku niewielkim we brzozowym gaju sta dwor szlachecki z drzewa lecz podmurowany swieciy sie z daleka pobielane sciany tym bielsze ze odbite od ciemnej zieleni topoli co go bronia od wiatrow jesieni', 'dom mieszkalny niewielki lecz zewszad chedogi i stodoe mia wielka i przy niej trzy stogi uzatku co pod strzecha zmiescic sie nie moze']\n",
      "['julian tuwim  matka  i  jest na odzkim cmentarzu na cmentarzu zydowskim grob polski mojej matki mojej matki zydowskiej', 'grob mojej matki polki mojej matki zydowki znad wisy ja przywiozem na brzeg fabrycznej odki', 'gaz mogie przywali a na gazie pobladym troche lisci wawrzynu ktore z brzozy opady', 'a gdy wietrzyk soneczny igra z nimi zociscie w polonie w komandorie ukadaja sie liscie', 'ii  zastrzeli ja faszysta kiedy myslaa o mnie zastrzeli ja faszysta kiedy tesknia do mnie', 'nabi  zabi tesknote znowu zacza nabijac zeby potem  lecz potem nie byo juz co zabijac', 'przestrzeli swiat matczyny dwie pieszczotliwe zgoski trupa z okna wyrzuci na swiety bruk otwocki', 'zapamietaj coreczko', 'przypomnij pozny wnuku', 'wypenio sie sowo idea siegna bruku']\n",
      "['juliusz sowacki  kordian czesc pierwsza trylogii spisek koronacyjny   wiec bede spiewa i dazy do kresu ozywie ogien jesli jest w iskierce', 'tak egipcjanin w liscie z aloesu obwija zwiede umarego serce na lisciu pisze zmartwychwstania sowa chociaz w tym lisciu serce nie ozyje lecz od zepsucia wiecznie sie zachowa w proch nie rozsypie godzina wybije kiedy mysl sowa tajemna odgadnie wtenczas odpowiedz bedzie w sercu  na dnie', 'juliusza sowackiego  lambro     przygotowanie    roku 1799 dnia 31 grudnia w nocy   chata sawnego niegdys czarnoksieznika twardowskiego w gorach karpackich  przy chacie obszerny dziedziniec  dalej skay  w dole bezlistne bukowe lasy', 'ciemnosc przerwana byskawicami', '   czarownica czesze wosy i spiewa    czarownica      z gwiazd obakanych     z wosow czesanych     iskry padaja     jak z polskiej szabli     widza je diabli     odpowiadaja     byskami chmur', 'leca  swist pior     buki ugina', ' szatan zlatuje w postaci pieknego anioa    szatan  ha czarownico', 'czy bia godzina', 'czarownica  ktora', 'szatan                          godzina ktorej zaden czowiek dwa razy w zyciu nie syszy']\n",
      "['charlotte bronte  dziwne losy jane eyre tum', 'teresa swiderska  isbn 9788328870925     rozdzia i  niepodobna byo tego dnia wyjsc na spacer', 'rano co prawda snulismy sie z godzine po bezlistnym ogrodzie ale po obiedzie pani reed gdy nie byo gosci jadaa wczesnie chodny wiatr zimowy napedzi tak ciemne chmury i deszcz tak przenikliwy ze dalsze przebywanie na swiezym powietrzu stao sie niemozliwe', 'rada byam z tego nigdy nie lubiam dugich spacerow zwaszcza w chodne popoudnia  tak sie obawiaam tych powrotow do domu o zmroku ze zmarznietymi palcami u rak i u nog z sercem scisnietym upomnieniami bessie naszej bony i upokorzonym w poczuciu ze eliza john i georgiana reed o tyle zreczniejsi i silniejsi sa ode mnie', 'eliza john i georgiana skupili sie teraz dokoa swej mamy w salonie', 'pani reed spoczywaa na kanapce przy kominku a majac wokoo siebie pieszczochow ktorzy w tej chwili nie kocili sie ani nie krzyczeli sprawiaa wrazenie zupenie szczesliwej', 'mnie zabronia zblizyc sie do siebie mowiac ze zauje iz musi trzymac mnie z daleka lecz dopoki nie usyszy od bessie i sama nie zauwazy ze naprawde staram sie wyrobic w sobie bardziej towarzyskie odpowiedniejsze dla dziecka usposobienie ze staram sie byc naturalniejsza zywsza i przyjemniejsza w obejsciu dopoty bedzie musiaa odmowic mi tych przywilejow jakie sie naleza tylko zadowolonym i wesoym dzieciom', ' o co bessie skarzya sie na mnie', ' zapytaam', ' jane nie znosze chwytania za sowa i dopytywan']\n",
      "3864\n",
      "35\n",
      "1416\n",
      "1331\n"
     ]
    }
   ],
   "source": [
    "mickiewicz_data = preprocess(mickiewicz)\n",
    "tuwim_data = preprocess(tuwim)\n",
    "slowacki_data = preprocess(słowacki)\n",
    "bronte_data = preprocess(bronte)\n",
    "print(len(mickiewicz_data))\n",
    "print(len(tuwim_data))\n",
    "print(len(slowacki_data))\n",
    "print(len(bronte_data))\n"
   ]
  },
  {
   "cell_type": "code",
   "execution_count": null,
   "metadata": {},
   "outputs": [],
   "source": []
  },
  {
   "cell_type": "code",
   "execution_count": 1963,
   "metadata": {},
   "outputs": [
    {
     "name": "stdout",
     "output_type": "stream",
     "text": [
      "[0 0 0 ... 0 0 0]\n",
      "                                                text  label\n",
      "0  adam mickiewicz  pan tadeusz czyli ostatni zaj...      0\n",
      "1                                      ojczyzno moja      0\n",
      "2  ty jestes jak zdrowie ile cie trzeba cenic ten...      0\n",
      "3  dzis pieknosc twa w caej ozdobie widze i opisu...      0\n",
      "4  panno swieta co jasnej bronisz czestochowy i w...      0\n"
     ]
    }
   ],
   "source": [
    "import pandas as pd\n",
    "\n",
    "mickiewicz_dict = {\n",
    "    \"text\" : mickiewicz_data,\n",
    "    \"label\": np.zeros(len(mickiewicz_data), dtype=np.int16)\n",
    "}\n",
    "\n",
    "# tuwim_dict = {\n",
    "#     \"text\" : tuwim_data,\n",
    "#     \"label\": np.ones(len(tuwim_data), dtype=np.int16)\n",
    "# }\n",
    "\n",
    "slowacki_dict = {\n",
    "    \"text\" : slowacki_data,\n",
    "    \"label\": np.full(len(slowacki_data), 1, dtype=np.int16)\n",
    "}\n",
    "\n",
    "bronte_dict = {\n",
    "    \"text\" : bronte_data,\n",
    "    \"label\": np.full(len(bronte_data), 2, dtype=np.int16)\n",
    "}\n",
    "\n",
    "print(mickiewicz_dict[\"label\"])\n",
    "mickiewicz_df = pd.DataFrame.from_dict(mickiewicz_dict)\n",
    "# tuwim_df = pd.DataFrame.from_dict(tuwim_dict)\n",
    "slowacki_df = pd.DataFrame.from_dict(slowacki_dict)\n",
    "bronte_df = pd.DataFrame.from_dict(bronte_dict)\n",
    "print(mickiewicz_df.head())\n",
    "# print(tuwim_df.head())\n"
   ]
  },
  {
   "cell_type": "code",
   "execution_count": 1964,
   "metadata": {},
   "outputs": [
    {
     "data": {
      "text/html": [
       "<div>\n",
       "<style scoped>\n",
       "    .dataframe tbody tr th:only-of-type {\n",
       "        vertical-align: middle;\n",
       "    }\n",
       "\n",
       "    .dataframe tbody tr th {\n",
       "        vertical-align: top;\n",
       "    }\n",
       "\n",
       "    .dataframe thead th {\n",
       "        text-align: right;\n",
       "    }\n",
       "</style>\n",
       "<table border=\"1\" class=\"dataframe\">\n",
       "  <thead>\n",
       "    <tr style=\"text-align: right;\">\n",
       "      <th></th>\n",
       "      <th>text</th>\n",
       "      <th>label</th>\n",
       "    </tr>\n",
       "  </thead>\n",
       "  <tbody>\n",
       "    <tr>\n",
       "      <th>0</th>\n",
       "      <td>serwis potem zabrany czasu wojny szwedzkiej pr...</td>\n",
       "      <td>0</td>\n",
       "    </tr>\n",
       "    <tr>\n",
       "      <th>1</th>\n",
       "      <td>siedemdziesiat dwa lat liczy maciej starzec dz...</td>\n",
       "      <td>0</td>\n",
       "    </tr>\n",
       "    <tr>\n",
       "      <th>2</th>\n",
       "      <td>a na boskie rany</td>\n",
       "      <td>0</td>\n",
       "    </tr>\n",
       "    <tr>\n",
       "      <th>3</th>\n",
       "      <td>wojna tuz nad nami</td>\n",
       "      <td>0</td>\n",
       "    </tr>\n",
       "    <tr>\n",
       "      <th>4</th>\n",
       "      <td>w innych krajach jak sysze trzyma urzad drabow...</td>\n",
       "      <td>0</td>\n",
       "    </tr>\n",
       "  </tbody>\n",
       "</table>\n",
       "</div>"
      ],
      "text/plain": [
       "                                                text  label\n",
       "0  serwis potem zabrany czasu wojny szwedzkiej pr...      0\n",
       "1  siedemdziesiat dwa lat liczy maciej starzec dz...      0\n",
       "2                                   a na boskie rany      0\n",
       "3                                 wojna tuz nad nami      0\n",
       "4  w innych krajach jak sysze trzyma urzad drabow...      0"
      ]
     },
     "execution_count": 1964,
     "metadata": {},
     "output_type": "execute_result"
    }
   ],
   "source": [
    "df = pd.concat([mickiewicz_df, slowacki_df, bronte_df], ignore_index=True)\n",
    "df = df.sample(frac=1).reset_index(drop=True)\n",
    "df.head()"
   ]
  },
  {
   "cell_type": "code",
   "execution_count": 1965,
   "metadata": {},
   "outputs": [
    {
     "data": {
      "text/plain": [
       "array([0., 0., 0., 0., 0., 0., 0., 0., 0., 0., 0., 0., 0., 0., 0., 0., 0.,\n",
       "       0., 0., 0., 0., 0., 0., 0., 0., 0., 0., 0., 0., 0., 0., 0., 0., 0.,\n",
       "       0., 0., 0., 0., 0., 0., 0., 0., 0., 0., 0., 0., 0., 0., 0., 0., 0.,\n",
       "       0., 0., 0., 0., 0., 0., 0., 0., 0., 0., 0., 0., 0., 0., 0., 0., 0.,\n",
       "       0., 0., 0., 0., 0., 0., 0., 0., 0., 0., 0., 0., 0., 0., 0., 0., 0.,\n",
       "       0., 0., 0., 0., 0., 0., 0., 0., 0., 0., 0., 0., 0., 0., 0., 0., 0.,\n",
       "       0., 0., 0., 0., 0., 0., 0., 0., 0., 0., 0., 0., 0., 0., 0., 0., 0.,\n",
       "       0., 0., 0., 0., 0., 0., 0., 0., 0., 0., 0., 0., 0., 0., 0., 0., 0.,\n",
       "       0., 0., 0., 0., 0., 0., 0., 0., 0., 0., 0., 0., 0., 0., 0., 0., 0.,\n",
       "       0., 0., 0., 0., 0., 0., 0., 0., 0., 0., 0., 0., 0., 0., 0., 0., 0.,\n",
       "       0., 0., 0., 0., 0., 0., 0., 0., 0., 0., 0., 0., 0., 0., 0., 0., 0.,\n",
       "       0., 0., 0., 0., 0., 0., 0., 0., 0., 0., 0., 0., 0., 0., 0., 0., 0.,\n",
       "       0., 0., 0., 0., 0., 0., 0., 0., 0., 0., 0., 0., 0., 0., 0., 0., 0.,\n",
       "       0., 0., 0., 0., 0., 0., 0., 0., 0., 0., 0., 0., 0., 0., 0., 0., 0.,\n",
       "       0., 0., 0., 0., 0., 0., 0., 0., 0., 0., 0., 0., 0., 0., 0., 0., 0.,\n",
       "       0., 0., 0., 0., 0., 0., 0., 0., 0., 0., 0., 0., 0., 0., 0., 0., 0.,\n",
       "       0., 0., 0., 0., 0., 0., 0., 0., 0., 0., 0., 0., 0., 0., 0., 0., 0.,\n",
       "       0., 0., 0., 0., 0., 0., 0., 0., 0., 0., 0., 0., 0., 0., 0., 0., 0.,\n",
       "       0., 0., 0., 0., 0., 0., 0., 0., 0., 0., 0., 0., 0., 0., 0., 0., 0.,\n",
       "       0., 0., 0., 0., 0., 0., 0., 0., 0., 0., 0., 0., 0., 0., 0., 0., 0.,\n",
       "       0., 0., 0., 0., 0., 0., 0., 0., 0., 0., 0., 0., 0., 0., 0., 0., 0.,\n",
       "       0., 0., 0., 0., 0., 0., 0., 0., 0., 0., 0., 0., 0., 0., 0., 0., 0.,\n",
       "       0., 0., 0., 0., 0., 0., 0., 0., 0., 0., 0., 0., 0., 0., 0., 0., 0.,\n",
       "       0., 0., 0., 0., 0., 0., 0., 0., 0., 0., 0., 0., 0., 0., 0., 0., 0.,\n",
       "       0., 0., 0., 0., 0., 0., 0., 0., 0., 0., 0., 0., 0., 0., 0., 0., 0.,\n",
       "       0., 0., 0., 0., 0., 0., 0., 0., 0., 0., 0., 0., 0., 0., 0., 0., 0.,\n",
       "       0., 0., 0., 0., 0., 0., 0., 0., 0., 0., 0., 0., 0., 0., 0., 0., 1.,\n",
       "       0., 0., 0., 0., 0., 0., 0., 0., 0., 0., 0., 0., 0., 0., 0., 0., 0.,\n",
       "       0., 0., 0., 0., 0., 0., 0., 0., 0., 0., 0., 0., 0., 0., 0., 0., 0.,\n",
       "       0., 0., 0., 0., 0., 0., 0., 0., 0., 0., 0., 0., 0., 0., 0., 0., 0.,\n",
       "       0., 0., 0., 0., 0., 0., 0., 0., 0., 0., 0., 0., 0., 0., 0., 0., 0.,\n",
       "       0., 0., 0., 0., 0., 0., 0., 0., 0., 0., 0., 0., 0., 0., 0., 0., 0.,\n",
       "       0., 0., 0., 0., 0., 0., 0., 0., 0., 0., 0., 0., 0., 0., 0., 0., 0.,\n",
       "       0., 0., 0., 0., 0., 0., 0., 0., 0., 0., 0., 0., 0., 0., 0., 0., 0.,\n",
       "       0., 0., 0., 0., 0., 0., 0., 0., 0., 0., 0., 0., 0., 0., 0., 0., 0.,\n",
       "       0., 0., 0., 0., 0., 0., 0., 0., 0., 0., 0., 0., 0., 0., 0., 0., 0.,\n",
       "       0., 0., 0., 0., 0., 0., 0., 0., 0., 0., 0., 0., 0., 0., 0., 0., 0.,\n",
       "       0., 0., 0., 0., 0., 0., 0., 0., 0., 0., 0., 0., 0., 0., 0., 0., 0.,\n",
       "       0., 0., 0., 0., 0., 0., 0., 0., 0., 0., 0., 0., 0., 0., 0., 0., 0.,\n",
       "       0., 0., 0., 0., 0., 0., 0., 0., 0., 0., 0., 0., 0., 0., 0., 0., 0.,\n",
       "       0., 0., 0., 0., 0., 0., 0., 0., 0., 0., 0., 0., 0., 0., 0., 0., 0.,\n",
       "       0., 0., 0., 0., 0., 0., 0., 0., 0., 0., 0., 0., 0., 0., 0., 0., 0.,\n",
       "       0., 0., 0., 0., 0., 0., 0., 0., 0., 0., 0., 0., 0., 0., 0., 0., 0.,\n",
       "       0., 0., 0., 0., 0., 0., 0., 0., 0., 0., 0., 0., 0., 0., 0., 0., 0.,\n",
       "       0., 0., 0., 0., 0., 0., 0., 0., 0., 0., 0., 0., 0., 0., 0., 0., 0.,\n",
       "       0., 0., 0., 0., 0., 0., 0., 0., 0., 0., 0., 0., 0., 0., 0., 0., 0.,\n",
       "       0., 0., 0., 0., 0., 0., 0., 0., 0., 0., 0., 0., 0., 0., 0., 0., 0.,\n",
       "       0., 0., 0., 0., 0., 0., 0., 0., 0., 0., 0., 0., 0., 0., 0., 0., 0.,\n",
       "       0., 0., 0., 0., 0., 0., 0., 0., 0., 0., 0., 0., 0., 0., 0., 0., 0.,\n",
       "       0., 0., 0., 0., 0., 0., 0., 0., 0., 0., 0., 0., 0., 0., 0., 0., 0.,\n",
       "       0., 0., 0., 0., 0., 0., 0., 0., 0., 0., 0., 0., 0., 0., 0., 0., 0.,\n",
       "       0., 0., 0., 0., 0., 0., 0., 0., 0., 0., 0., 0., 0., 0., 0., 0., 0.,\n",
       "       0., 0., 0., 0., 0., 0., 0., 0., 0., 0., 0., 0., 0., 0., 0., 0., 0.,\n",
       "       0., 0., 0., 0., 0., 0., 0., 0., 0., 0., 0., 0., 0., 0., 0., 0., 0.,\n",
       "       0., 0., 0., 0., 0., 0., 0., 0., 0., 0., 0., 0., 0., 0., 0., 0., 0.,\n",
       "       0., 0., 0., 0., 0., 0., 0., 0., 0., 0., 0., 0., 0., 0., 0., 0., 0.,\n",
       "       0., 0., 0., 0., 0., 0., 0., 0., 0., 0., 0., 0., 0., 0., 0., 0., 0.,\n",
       "       0., 0., 0., 0., 0., 0., 0., 0., 0., 0., 0., 0., 0., 0., 0., 0., 0.,\n",
       "       0., 0., 0., 0., 0., 0., 0., 0., 0., 0., 0., 0., 0., 0.])"
      ]
     },
     "execution_count": 1965,
     "metadata": {},
     "output_type": "execute_result"
    }
   ],
   "source": [
    "from sklearn.feature_extraction.text import CountVectorizer, TfidfVectorizer\n",
    "vectorizer = TfidfVectorizer(max_features=1000, min_df= 3, max_df=0.6)\n",
    "X = vectorizer.fit_transform(df[\"text\"]).toarray()\n",
    "X[2]"
   ]
  },
  {
   "cell_type": "code",
   "execution_count": 1966,
   "metadata": {},
   "outputs": [
    {
     "data": {
      "text/plain": [
       "6611"
      ]
     },
     "execution_count": 1966,
     "metadata": {},
     "output_type": "execute_result"
    }
   ],
   "source": [
    "y = df[\"label\"].values\n",
    "y\n",
    "len(y)"
   ]
  },
  {
   "cell_type": "code",
   "execution_count": 1967,
   "metadata": {},
   "outputs": [
    {
     "data": {
      "text/plain": [
       "(5288, 1000)"
      ]
     },
     "execution_count": 1967,
     "metadata": {},
     "output_type": "execute_result"
    }
   ],
   "source": [
    "from sklearn.feature_extraction.text import CountVectorizer, TfidfVectorizer\n",
    "\n",
    "from sklearn.model_selection import train_test_split\n",
    "\n",
    "X_train, X_test, y_train, y_test = train_test_split(X, y, test_size=0.2, random_state=42)\n",
    "\n",
    "X_train.shape\n"
   ]
  },
  {
   "cell_type": "code",
   "execution_count": 1968,
   "metadata": {},
   "outputs": [],
   "source": [
    "import torch\n",
    "import torch.nn as nn\n",
    "\n",
    "X_train = torch.from_numpy(X_train).float()\n",
    "y_train = torch.from_numpy(y_train).long()\n",
    "X_test = torch.from_numpy(X_test).float()\n",
    "y_test = torch.from_numpy(y_test).long()\n"
   ]
  },
  {
   "cell_type": "code",
   "execution_count": 1969,
   "metadata": {},
   "outputs": [
    {
     "data": {
      "text/plain": [
       "(torch.Size([5288, 1000]), torch.Size([5288, 1000]))"
      ]
     },
     "execution_count": 1969,
     "metadata": {},
     "output_type": "execute_result"
    }
   ],
   "source": [
    "X_train.shape, X_train.shape"
   ]
  },
  {
   "cell_type": "code",
   "execution_count": 1970,
   "metadata": {},
   "outputs": [],
   "source": [
    "input_size = 1000\n",
    "output_size = 4\n",
    "hidden_size = 500"
   ]
  },
  {
   "cell_type": "code",
   "execution_count": 1971,
   "metadata": {},
   "outputs": [],
   "source": [
    "class Net(nn.Module):\n",
    "    def __init__(self):\n",
    "        super(Net, self).__init__()\n",
    "        self.fc1 = nn.Linear(input_size, hidden_size)\n",
    "        self.relu = nn.ReLU()\n",
    "        self.fc2 = nn.Linear(hidden_size, hidden_size)\n",
    "        self.fc3 = nn.Linear(hidden_size, output_size)\n",
    "        self.softmax = nn.LogSoftmax(dim=1)\n",
    "\n",
    "    def forward(self, X):\n",
    "        out = self.fc1(X)\n",
    "        out = self.relu(out)\n",
    "        out = self.fc2(out)\n",
    "        out = self.relu(out)\n",
    "        out = self.fc3(out)\n",
    "        out = self.softmax(out)\n",
    "        return out"
   ]
  },
  {
   "cell_type": "code",
   "execution_count": 1972,
   "metadata": {},
   "outputs": [],
   "source": [
    "from sklearn.metrics import roc_auc_score\n",
    "def train_model(model, X_train, y_train, epochs, lr):\n",
    "    model.train()\n",
    "    criterion = nn.CrossEntropyLoss()\n",
    "\n",
    "    optimizer = torch.optim.Adam(model.parameters(), lr=lr)\n",
    "    loss_data = []\n",
    "    for epoch in range(epochs):\n",
    "        optimizer.zero_grad()\n",
    "        out = model(X_train)\n",
    "        loss = criterion(out, y_train)\n",
    "        loss_data.append(loss.detach().numpy())\n",
    "        loss.backward()\n",
    "        optimizer.step()\n",
    "\n",
    "        if epoch % 10 == 0:\n",
    "            print(f\"Epoch {epoch} loss is {loss}\")\n",
    "\n",
    "    plt.figure(figsize=(8, 4))\n",
    "    plt.plot(loss_data, label=\"Training loss\")\n",
    "    plt.legend()\n",
    "    return model\n",
    "\n",
    "def test_model(model, X_test, y_test):\n",
    "    model.eval()\n",
    "    with torch.no_grad():\n",
    "        output = model(X_test)\n",
    "        roc_auc = roc_auc_score(y_test, output, multi_class=\"ovo\")\n",
    "\n",
    "        _, predicted = torch.max(output, 1)\n",
    "\n",
    "        correct = (predicted == y_test).sum().item()\n",
    "\n",
    "        print(X_test[:10])\n",
    "        print(y_test[:10])\n",
    "        print(predicted[:10])\n",
    "\n",
    "        print(f\"Accuracy: {correct/len(y_test)}\")\n",
    "        print(f\"ROC AUC: {roc_auc}\")\n"
   ]
  },
  {
   "cell_type": "code",
   "execution_count": 1973,
   "metadata": {},
   "outputs": [
    {
     "name": "stdout",
     "output_type": "stream",
     "text": [
      "Epoch 0 loss is 1.3952254056930542\n",
      "Epoch 10 loss is 1.3739475011825562\n",
      "Epoch 20 loss is 1.3507453203201294\n",
      "Epoch 30 loss is 1.3221303224563599\n",
      "Epoch 40 loss is 1.2850475311279297\n",
      "Epoch 50 loss is 1.2369393110275269\n",
      "Epoch 60 loss is 1.1766055822372437\n",
      "Epoch 70 loss is 1.1094326972961426\n",
      "Epoch 80 loss is 1.0476446151733398\n",
      "Epoch 90 loss is 0.9991100430488586\n",
      "Epoch 100 loss is 0.9596875905990601\n",
      "Epoch 110 loss is 0.9247461557388306\n",
      "Epoch 120 loss is 0.8925307393074036\n",
      "Epoch 130 loss is 0.8610468506813049\n",
      "Epoch 140 loss is 0.8286484479904175\n",
      "Epoch 150 loss is 0.7942129969596863\n",
      "Epoch 160 loss is 0.756898820400238\n",
      "Epoch 170 loss is 0.7165942192077637\n",
      "Epoch 180 loss is 0.6737816333770752\n",
      "Epoch 190 loss is 0.629703164100647\n",
      "Epoch 200 loss is 0.5857967138290405\n",
      "Epoch 210 loss is 0.5436259508132935\n",
      "Epoch 220 loss is 0.504561722278595\n",
      "Epoch 230 loss is 0.4695298969745636\n",
      "Epoch 240 loss is 0.4388643205165863\n",
      "Epoch 250 loss is 0.41236916184425354\n",
      "Epoch 260 loss is 0.3896239697933197\n",
      "Epoch 270 loss is 0.3700251281261444\n",
      "Epoch 280 loss is 0.3529331386089325\n",
      "Epoch 290 loss is 0.33784857392311096\n",
      "Epoch 300 loss is 0.3243721127510071\n",
      "Epoch 310 loss is 0.31221362948417664\n",
      "Epoch 320 loss is 0.3011474013328552\n",
      "Epoch 330 loss is 0.29096266627311707\n",
      "Epoch 340 loss is 0.2815167307853699\n",
      "Epoch 350 loss is 0.2727035880088806\n",
      "Epoch 360 loss is 0.2644233703613281\n",
      "Epoch 370 loss is 0.25659820437431335\n",
      "Epoch 380 loss is 0.24916724860668182\n",
      "Epoch 390 loss is 0.24209022521972656\n",
      "Epoch 400 loss is 0.2353171408176422\n",
      "Epoch 410 loss is 0.22879783809185028\n",
      "Epoch 420 loss is 0.22251904010772705\n",
      "Epoch 430 loss is 0.2164606750011444\n",
      "Epoch 440 loss is 0.2106257975101471\n",
      "Epoch 450 loss is 0.20501062273979187\n",
      "Epoch 460 loss is 0.19960467517375946\n",
      "Epoch 470 loss is 0.19439944624900818\n",
      "Epoch 480 loss is 0.18938776850700378\n",
      "Epoch 490 loss is 0.18456560373306274\n"
     ]
    },
    {
     "ename": "ValueError",
     "evalue": "Target scores need to be probabilities for multiclass roc_auc, i.e. they should sum up to 1.0 over classes",
     "output_type": "error",
     "traceback": [
      "\u001b[0;31m---------------------------------------------------------------------------\u001b[0m",
      "\u001b[0;31mValueError\u001b[0m                                Traceback (most recent call last)",
      "Cell \u001b[0;32mIn[1973], line 7\u001b[0m\n\u001b[1;32m      4\u001b[0m model \u001b[38;5;241m=\u001b[39m Net()\n\u001b[1;32m      6\u001b[0m model \u001b[38;5;241m=\u001b[39m train_model(model, X_train, y_train, epochs, learning_rate)\n\u001b[0;32m----> 7\u001b[0m \u001b[43mtest_model\u001b[49m\u001b[43m(\u001b[49m\u001b[43mmodel\u001b[49m\u001b[43m,\u001b[49m\u001b[43m \u001b[49m\u001b[43mX_test\u001b[49m\u001b[43m,\u001b[49m\u001b[43m \u001b[49m\u001b[43my_test\u001b[49m\u001b[43m)\u001b[49m\n",
      "Cell \u001b[0;32mIn[1972], line 28\u001b[0m, in \u001b[0;36mtest_model\u001b[0;34m(model, X_test, y_test)\u001b[0m\n\u001b[1;32m     26\u001b[0m \u001b[38;5;28;01mwith\u001b[39;00m torch\u001b[38;5;241m.\u001b[39mno_grad():\n\u001b[1;32m     27\u001b[0m     output \u001b[38;5;241m=\u001b[39m model(X_test)\n\u001b[0;32m---> 28\u001b[0m     roc_auc \u001b[38;5;241m=\u001b[39m \u001b[43mroc_auc_score\u001b[49m\u001b[43m(\u001b[49m\u001b[43my_test\u001b[49m\u001b[43m,\u001b[49m\u001b[43m \u001b[49m\u001b[43moutput\u001b[49m\u001b[43m,\u001b[49m\u001b[43m \u001b[49m\u001b[43mmulti_class\u001b[49m\u001b[38;5;241;43m=\u001b[39;49m\u001b[38;5;124;43m\"\u001b[39;49m\u001b[38;5;124;43movo\u001b[39;49m\u001b[38;5;124;43m\"\u001b[39;49m\u001b[43m)\u001b[49m\n\u001b[1;32m     30\u001b[0m     _, predicted \u001b[38;5;241m=\u001b[39m torch\u001b[38;5;241m.\u001b[39mmax(output, \u001b[38;5;241m1\u001b[39m)\n\u001b[1;32m     32\u001b[0m     correct \u001b[38;5;241m=\u001b[39m (predicted \u001b[38;5;241m==\u001b[39m y_test)\u001b[38;5;241m.\u001b[39msum()\u001b[38;5;241m.\u001b[39mitem()\n",
      "File \u001b[0;32m~/opt/miniconda3/envs/mldd23/lib/python3.9/site-packages/sklearn/metrics/_ranking.py:566\u001b[0m, in \u001b[0;36mroc_auc_score\u001b[0;34m(y_true, y_score, average, sample_weight, max_fpr, multi_class, labels)\u001b[0m\n\u001b[1;32m    564\u001b[0m     \u001b[38;5;28;01mif\u001b[39;00m multi_class \u001b[38;5;241m==\u001b[39m \u001b[38;5;124m\"\u001b[39m\u001b[38;5;124mraise\u001b[39m\u001b[38;5;124m\"\u001b[39m:\n\u001b[1;32m    565\u001b[0m         \u001b[38;5;28;01mraise\u001b[39;00m \u001b[38;5;167;01mValueError\u001b[39;00m(\u001b[38;5;124m\"\u001b[39m\u001b[38;5;124mmulti_class must be in (\u001b[39m\u001b[38;5;124m'\u001b[39m\u001b[38;5;124movo\u001b[39m\u001b[38;5;124m'\u001b[39m\u001b[38;5;124m, \u001b[39m\u001b[38;5;124m'\u001b[39m\u001b[38;5;124movr\u001b[39m\u001b[38;5;124m'\u001b[39m\u001b[38;5;124m)\u001b[39m\u001b[38;5;124m\"\u001b[39m)\n\u001b[0;32m--> 566\u001b[0m     \u001b[38;5;28;01mreturn\u001b[39;00m \u001b[43m_multiclass_roc_auc_score\u001b[49m\u001b[43m(\u001b[49m\n\u001b[1;32m    567\u001b[0m \u001b[43m        \u001b[49m\u001b[43my_true\u001b[49m\u001b[43m,\u001b[49m\u001b[43m \u001b[49m\u001b[43my_score\u001b[49m\u001b[43m,\u001b[49m\u001b[43m \u001b[49m\u001b[43mlabels\u001b[49m\u001b[43m,\u001b[49m\u001b[43m \u001b[49m\u001b[43mmulti_class\u001b[49m\u001b[43m,\u001b[49m\u001b[43m \u001b[49m\u001b[43maverage\u001b[49m\u001b[43m,\u001b[49m\u001b[43m \u001b[49m\u001b[43msample_weight\u001b[49m\n\u001b[1;32m    568\u001b[0m \u001b[43m    \u001b[49m\u001b[43m)\u001b[49m\n\u001b[1;32m    569\u001b[0m \u001b[38;5;28;01melif\u001b[39;00m y_type \u001b[38;5;241m==\u001b[39m \u001b[38;5;124m\"\u001b[39m\u001b[38;5;124mbinary\u001b[39m\u001b[38;5;124m\"\u001b[39m:\n\u001b[1;32m    570\u001b[0m     labels \u001b[38;5;241m=\u001b[39m np\u001b[38;5;241m.\u001b[39munique(y_true)\n",
      "File \u001b[0;32m~/opt/miniconda3/envs/mldd23/lib/python3.9/site-packages/sklearn/metrics/_ranking.py:639\u001b[0m, in \u001b[0;36m_multiclass_roc_auc_score\u001b[0;34m(y_true, y_score, labels, multi_class, average, sample_weight)\u001b[0m\n\u001b[1;32m    637\u001b[0m \u001b[38;5;66;03m# validation of the input y_score\u001b[39;00m\n\u001b[1;32m    638\u001b[0m \u001b[38;5;28;01mif\u001b[39;00m \u001b[38;5;129;01mnot\u001b[39;00m np\u001b[38;5;241m.\u001b[39mallclose(\u001b[38;5;241m1\u001b[39m, y_score\u001b[38;5;241m.\u001b[39msum(axis\u001b[38;5;241m=\u001b[39m\u001b[38;5;241m1\u001b[39m)):\n\u001b[0;32m--> 639\u001b[0m     \u001b[38;5;28;01mraise\u001b[39;00m \u001b[38;5;167;01mValueError\u001b[39;00m(\n\u001b[1;32m    640\u001b[0m         \u001b[38;5;124m\"\u001b[39m\u001b[38;5;124mTarget scores need to be probabilities for multiclass \u001b[39m\u001b[38;5;124m\"\u001b[39m\n\u001b[1;32m    641\u001b[0m         \u001b[38;5;124m\"\u001b[39m\u001b[38;5;124mroc_auc, i.e. they should sum up to 1.0 over classes\u001b[39m\u001b[38;5;124m\"\u001b[39m\n\u001b[1;32m    642\u001b[0m     )\n\u001b[1;32m    644\u001b[0m \u001b[38;5;66;03m# validation for multiclass parameter specifications\u001b[39;00m\n\u001b[1;32m    645\u001b[0m average_options \u001b[38;5;241m=\u001b[39m (\u001b[38;5;124m\"\u001b[39m\u001b[38;5;124mmacro\u001b[39m\u001b[38;5;124m\"\u001b[39m, \u001b[38;5;124m\"\u001b[39m\u001b[38;5;124mweighted\u001b[39m\u001b[38;5;124m\"\u001b[39m, \u001b[38;5;28;01mNone\u001b[39;00m)\n",
      "\u001b[0;31mValueError\u001b[0m: Target scores need to be probabilities for multiclass roc_auc, i.e. they should sum up to 1.0 over classes"
     ]
    },
    {
     "data": {
      "image/png": "[encoded data removed]",
      "text/plain": [
       "<Figure size 800x400 with 1 Axes>"
      ]
     },
     "metadata": {},
     "output_type": "display_data"
    }
   ],
   "source": [
    "epochs = 500\n",
    "learning_rate = 0.0001\n",
    "\n",
    "model = Net()\n",
    "\n",
    "model = train_model(model, X_train, y_train, epochs, learning_rate)\n",
    "test_model(model, X_test, y_test)\n"
   ]
  },
  {
   "cell_type": "code",
   "execution_count": null,
   "metadata": {},
   "outputs": [
    {
     "name": "stdout",
     "output_type": "stream",
     "text": [
      "(150,)\n",
      "(150, 3)\n"
     ]
    },
    {
     "data": {
      "text/plain": [
       "0.9913333333333334"
      ]
     },
     "execution_count": 1944,
     "metadata": {},
     "output_type": "execute_result"
    }
   ],
   "source": [
    "from sklearn.datasets import load_iris\n",
    "from sklearn.linear_model import LogisticRegression\n",
    "X, y = load_iris(return_X_y=True)\n",
    "print(y.shape)\n",
    "clf = LogisticRegression(solver=\"liblinear\").fit(X, y)\n",
    "print(clf.predict_proba(X).shape)\n",
    "roc_auc_score(y, clf.predict_proba(X), multi_class='ovr')"
   ]
  },
  {
   "cell_type": "code",
   "execution_count": null,
   "metadata": {},
   "outputs": [],
   "source": [
    "class ConvolutionalNet(nn.Module):\n",
    "    def __init__(self, input_dim, hidden_size, output_dim):\n",
    "        super(ConvolutionalNet, self).__init__()\n",
    "        self.conv1 = nn.Conv1d(input_dim, hidden_size, 3, padding=1)\n",
    "        self.batchNorm1 = nn.BatchNorm1d(hidden_size)\n",
    "        self.dropout = nn.Dropout(0.3)\n",
    "        # self.pool1 = nn.MaxPool1d(3, stride=1, padding=1)\n",
    "        self.conv2 = nn.Conv1d(hidden_size, hidden_size, 3, padding=1)\n",
    "        # self.pool2 = nn.MaxPool1d(3, stride=1, padding=1)\n",
    "        self.batchNorm2 = nn.BatchNorm1d(hidden_size)\n",
    "        self.fc1 = nn.Linear(hidden_size, 500)\n",
    "        self.fc2 = nn.Linear(500, output_dim)\n",
    "        self.softMax = nn.Softmax()\n",
    "\n",
    "    def forward(self, X):\n",
    "        X = X.squeeze(0)\n",
    "        out = self.conv1(X)\n",
    "        # out = self.pool1(out)\n",
    "        out = out.T\n",
    "        out = self.batchNorm1(out)\n",
    "        out = out.T\n",
    "        out = self.dropout(out)\n",
    "        out = self.conv2(out)\n",
    "        # out = self.pool2(out)\n",
    "        out = out.T\n",
    "        out = self.batchNorm2(out)\n",
    "        out = out.T\n",
    "        out = self.dropout(out)\n",
    "        out = self.fc1(out.T)\n",
    "        out = self.fc2(out)\n",
    "        out = self.softMax(out)\n",
    "        return out\n"
   ]
  },
  {
   "cell_type": "code",
   "execution_count": null,
   "metadata": {},
   "outputs": [
    {
     "name": "stderr",
     "output_type": "stream",
     "text": [
      "/Users/krystynawaniova/opt/miniconda3/envs/mldd23/lib/python3.9/site-packages/torch/nn/modules/module.py:1518: UserWarning: Implicit dimension choice for softmax has been deprecated. Change the call to include dim=X as an argument.\n",
      "  return self._call_impl(*args, **kwargs)\n"
     ]
    },
    {
     "name": "stdout",
     "output_type": "stream",
     "text": [
      "Epoch 0 loss is 1.1024304628372192\n"
     ]
    },
    {
     "name": "stdout",
     "output_type": "stream",
     "text": [
      "Epoch 10 loss is 0.8958378434181213\n",
      "Epoch 20 loss is 0.7362686991691589\n",
      "Epoch 30 loss is 0.6539173722267151\n",
      "Epoch 40 loss is 0.618255078792572\n",
      "Epoch 50 loss is 0.6029603481292725\n",
      "Epoch 60 loss is 0.5944657325744629\n",
      "Epoch 70 loss is 0.5909842848777771\n",
      "Epoch 80 loss is 0.5888648629188538\n",
      "Epoch 90 loss is 0.5873066782951355\n",
      "Epoch 100 loss is 0.5861530900001526\n",
      "Epoch 110 loss is 0.5840400457382202\n",
      "Epoch 120 loss is 0.5838475823402405\n",
      "Epoch 130 loss is 0.5832175016403198\n",
      "Epoch 140 loss is 0.5826820731163025\n",
      "Epoch 150 loss is 0.5824298858642578\n",
      "Epoch 160 loss is 0.5819775462150574\n",
      "Epoch 170 loss is 0.5821532011032104\n",
      "Epoch 180 loss is 0.5819277167320251\n",
      "Epoch 190 loss is 0.5818344950675964\n",
      "Epoch 200 loss is 0.5815555453300476\n",
      "Epoch 210 loss is 0.5815309882164001\n",
      "Epoch 220 loss is 0.5815644264221191\n",
      "Epoch 230 loss is 0.5812825560569763\n",
      "Epoch 240 loss is 0.5812718868255615\n",
      "Epoch 250 loss is 0.5811854004859924\n",
      "Epoch 260 loss is 0.581086277961731\n",
      "Epoch 270 loss is 0.5811387896537781\n",
      "Epoch 280 loss is 0.5809587836265564\n",
      "Epoch 290 loss is 0.5807124972343445\n"
     ]
    },
    {
     "data": {
      "image/png": "[encoded data removed]",
      "text/plain": [
       "<Figure size 800x400 with 1 Axes>"
      ]
     },
     "metadata": {},
     "output_type": "display_data"
    }
   ],
   "source": [
    "epochs = 300\n",
    "learning_rate = 0.0001\n",
    "\n",
    "model = ConvolutionalNet(input_dim=input_size, hidden_size=512, output_dim=3)\n",
    "lr= 0.0001\n",
    "\n",
    "model = train_model(model, X_train.T, y_train, epochs, learning_rate)\n"
   ]
  },
  {
   "cell_type": "markdown",
   "metadata": {},
   "source": []
  },
  {
   "cell_type": "code",
   "execution_count": null,
   "metadata": {},
   "outputs": [
    {
     "name": "stdout",
     "output_type": "stream",
     "text": [
      "tensor([[0., 0., 0.,  ..., 0., 0., 0.],\n",
      "        [0., 0., 0.,  ..., 0., 0., 0.],\n",
      "        [0., 0., 0.,  ..., 0., 0., 0.],\n",
      "        ...,\n",
      "        [0., 0., 0.,  ..., 0., 0., 0.],\n",
      "        [0., 0., 0.,  ..., 0., 0., 0.],\n",
      "        [0., 0., 0.,  ..., 0., 0., 0.]])\n",
      "tensor([0, 0, 1, 0, 0, 2, 0, 0, 0, 1])\n",
      "tensor([0, 1, 1, 0, 0, 2, 0, 0, 2, 0])\n",
      "Accuracy: 0.6704459561602418\n",
      "ROC AUC: 0.8189582189318152\n"
     ]
    }
   ],
   "source": [
    "test_model(model, X_test.T, y_test)\n"
   ]
  },
  {
   "cell_type": "code",
   "execution_count": null,
   "metadata": {},
   "outputs": [
    {
     "name": "stdout",
     "output_type": "stream",
     "text": [
      "tensor([[0., 0., 0.,  ..., 0., 0., 0.],\n",
      "        [0., 0., 0.,  ..., 0., 0., 0.],\n",
      "        [0., 0., 0.,  ..., 0., 0., 0.],\n",
      "        ...,\n",
      "        [0., 0., 0.,  ..., 0., 0., 0.],\n",
      "        [0., 0., 0.,  ..., 0., 0., 0.],\n",
      "        [0., 0., 0.,  ..., 0., 0., 0.]])\n",
      "tensor([0, 0, 1, 0, 0, 2, 0, 0, 0, 1])\n",
      "tensor([0, 1, 1, 0, 0, 2, 0, 0, 2, 0])\n",
      "Accuracy: 0.6704459561602418\n",
      "ROC AUC: 0.8189582189318152\n"
     ]
    },
    {
     "name": "stderr",
     "output_type": "stream",
     "text": [
      "/Users/krystynawaniova/opt/miniconda3/envs/mldd23/lib/python3.9/site-packages/torch/nn/modules/module.py:1518: UserWarning: Implicit dimension choice for softmax has been deprecated. Change the call to include dim=X as an argument.\n",
      "  return self._call_impl(*args, **kwargs)\n"
     ]
    }
   ],
   "source": [
    "test_model(model, X_test.T, y_test)"
   ]
  },
  {
   "cell_type": "code",
   "execution_count": null,
   "metadata": {},
   "outputs": [],
   "source": [
    "# print(tuwim_data)\n",
    "# tuwim_data_set = set(tuwim_data)"
   ]
  },
  {
   "cell_type": "code",
   "execution_count": null,
   "metadata": {},
   "outputs": [],
   "source": [
    "# import pandas as pd\n",
    "# import os\n",
    "# class CustomImageDataset():\n",
    "#     def __init__(self, words, labels):\n",
    "#         self.labels = labels\n",
    "#         self.words = words\n",
    "\n",
    "#     def __len__(self):\n",
    "#         return len(self.img_labels)\n",
    "\n",
    "#     def __getitem__(self, idx):\n",
    "#         img_path = os.path.join(self.img_dir, self.img_labels.iloc[idx, 0])\n",
    "#         # image = read_image(img_path)\n",
    "#         label = self.img_labels.iloc[idx, 1]\n",
    "#         if self.transform:\n",
    "#             image = self.transform(image)\n",
    "#         if self.target_transform:\n",
    "#             label = self.target_transform(label)\n",
    "#         return image, label"
   ]
  },
  {
   "cell_type": "code",
   "execution_count": null,
   "metadata": {},
   "outputs": [],
   "source": [
    "# def word_pairs(words):\n",
    "#     pairs = []\n",
    "#     for i in range(len(words) - 1):\n",
    "#          pairs.append((words[i], words[i + 1]))\n",
    "#     return pairs\n",
    "\n",
    "# def convert_pairs_to_vectors(pairs, word2idx):\n",
    "#     x,y=[],[]\n",
    "#     for pair in pairs:\n",
    "#         x.append(word2idx[pair[0]])\n",
    "#         y.append(word2idx[pair[1]])\n",
    "#     return x,y\n",
    "\n",
    "# def create_word2idx(words):\n",
    "#     word2idx = {word: i for i, word in enumerate(set(words))}\n",
    "#     idx2word = {i: word for word, i in word2idx.items()}\n",
    "#     return word2idx, idx2word\n",
    "\n",
    "# word2idx, idx2word = create_word2idx(tuwim_data)\n",
    "# word_pairs(tuwim_data)\n",
    "# vectors = convert_pairs_to_vectors(word_pairs(tuwim_data), word2idx)"
   ]
  },
  {
   "cell_type": "code",
   "execution_count": null,
   "metadata": {},
   "outputs": [],
   "source": [
    "# embeds = nn.Embedding(len(tuwim_data), 2)  # 2 words in vocab, 5 dimensional embeddings\n",
    "# lookup_tensor = torch.tensor(vectors, dtype=torch.long)\n",
    "# embeded_tuwim = embeds(lookup_tensor)[0].detach().numpy()\n",
    "# # print(embeded_tuwim)\n",
    "\n",
    "# import matplotlib.pyplot as plt\n",
    "# for i, label in enumerate(set(tuwim_data)):\n",
    "#     # print(embeded_tuwim[i])\n",
    "#     x, y = embeded_tuwim[i]\n",
    "#     plt.scatter(x, y)\n",
    "#     plt.text(x, y, label)"
   ]
  }
 ],
 "metadata": {
  "kernelspec": {
   "display_name": "base",
   "language": "python",
   "name": "python3"
  },
  "language_info": {
   "codemirror_mode": {
    "name": "ipython",
    "version": 3
   },
   "file_extension": ".py",
   "mimetype": "text/x-python",
   "name": "python",
   "nbconvert_exporter": "python",
   "pygments_lexer": "ipython3",
   "version": "3.9.18"
  }
 },
 "nbformat": 4,
 "nbformat_minor": 2
}
