{
 "cells": [
  {
   "cell_type": "code",
   "execution_count": 193,
   "metadata": {},
   "outputs": [],
   "source": [
    "import torch\n",
    "import torch.nn as nn\n",
    "import torch.nn.functional as F\n",
    "import torch.optim as optim\n",
    "import numpy as np\n",
    "import matplotlib.pyplot as plt\n"
   ]
  },
  {
   "cell_type": "markdown",
   "metadata": {},
   "source": [
    "# Text preprocessing"
   ]
  },
  {
   "cell_type": "code",
   "execution_count": 194,
   "metadata": {},
   "outputs": [
    {
     "data": {
      "text/plain": [
       "466662"
      ]
     },
     "execution_count": 194,
     "metadata": {},
     "output_type": "execute_result"
    }
   ],
   "source": [
    "mickiewicz_pan_tadeusz = open('mickiewicz/pan_tadeusz.txt', 'r').read()\n",
    "mickiewicz_dziady = open('mickiewicz/dziady.txt', 'r').read()\n",
    "\n",
    "mickiewicz = mickiewicz_pan_tadeusz + mickiewicz_dziady\n",
    "\n",
    "len(mickiewicz)"
   ]
  },
  {
   "cell_type": "code",
   "execution_count": 195,
   "metadata": {},
   "outputs": [],
   "source": [
    "slowacki_kordian = open('slowacki/kordian.txt', 'r').read()\n",
    "len(slowacki_kordian)\n",
    "słowacki = slowacki_kordian"
   ]
  },
  {
   "cell_type": "code",
   "execution_count": 196,
   "metadata": {},
   "outputs": [
    {
     "data": {
      "text/plain": [
       "2940"
      ]
     },
     "execution_count": 196,
     "metadata": {},
     "output_type": "execute_result"
    }
   ],
   "source": [
    "tuwim_matka = open('tuwim/matka.txt', 'r').read()\n",
    "tuwim_lokomotywa = open('tuwim/lokomotywa.txt', 'r').read()\n",
    "tuwim = tuwim_matka + tuwim_lokomotywa\n",
    "len(tuwim)"
   ]
  },
  {
   "cell_type": "code",
   "execution_count": 197,
   "metadata": {},
   "outputs": [
    {
     "data": {
      "text/plain": [
       "112892"
      ]
     },
     "execution_count": 197,
     "metadata": {},
     "output_type": "execute_result"
    }
   ],
   "source": [
    "bronte = open('bronte/jane_eyre_fragment.txt', 'r').read()\n",
    "len(bronte)"
   ]
  },
  {
   "cell_type": "code",
   "execution_count": 198,
   "metadata": {},
   "outputs": [],
   "source": [
    "# !pip install nltk"
   ]
  },
  {
   "cell_type": "code",
   "execution_count": 199,
   "metadata": {},
   "outputs": [],
   "source": [
    "# !pip install inflect\n"
   ]
  },
  {
   "cell_type": "code",
   "execution_count": 200,
   "metadata": {},
   "outputs": [],
   "source": [
    "from helpers import remove_non_ascii, to_lowercase, remove_punctuation, replace_numbers, remove_stopwords, stem_words, lemmatize_verbs, normalize"
   ]
  },
  {
   "cell_type": "code",
   "execution_count": 201,
   "metadata": {},
   "outputs": [],
   "source": [
    "import nltk\n",
    "sent = nltk.data.load(\n",
    "    'tokenizers/punkt/polish.pickle'\n",
    ")\n",
    "\n",
    "def remove_end_lines(text):\n",
    "    data = []\n",
    "    for item in text:\n",
    "        data.append(item.replace('\\n', ' '))\n",
    "    return data\n",
    "\n",
    "def preprocess(text):\n",
    "    words = sent.tokenize(text)\n",
    "    words = normalize(words)\n",
    "    words = remove_end_lines(words)\n",
    "    print(words[:10])\n",
    "    return words"
   ]
  },
  {
   "cell_type": "code",
   "execution_count": 202,
   "metadata": {},
   "outputs": [
    {
     "name": "stdout",
     "output_type": "stream",
     "text": [
      "['adam mickiewicz  pan tadeusz czyli ostatni zajazd na litwie   ksiega pierwsza    gospodarstwo  powrot panicza  spotkanie sie pierwsze w pokoiku drugie u stou  wazna sedziego nauka o grzecznosci  podkomorzego uwagi polityczne nad modami  poczatek sporu o kusego i sokoa  zale wojskiego  ostatni wozny trybunau  rzut oka na owczesny stan polityczny litwy i europy      litwo', 'ojczyzno moja', 'ty jestes jak zdrowie ile cie trzeba cenic ten tylko sie dowie kto cie straci', 'dzis pieknosc twa w caej ozdobie widze i opisuje bo tesknie po tobie', 'panno swieta co jasnej bronisz czestochowy i w ostrej swiecisz bramie', 'ty co grod zamkowy nowogrodzki ochraniasz z jego wiernym ludem', 'jak mnie dziecko do zdrowia powrocias cudem gdy od paczacej matki pod twoja opieke ofiarowany martwa podniosem powieke i zaraz mogem pieszo do twych swiatyn progu isc za wrocone zycie podziekowac bogu tak nas powrocisz cudem na ojczyzny ono', 'tymczasem przenos moja dusze uteskniona do tych pagorkow lesnych do tych ak zielonych szeroko nad bekitnym niemnem rozciagnionych do tych pol malowanych zbozem rozmaitem wyzacanych pszenica posrebrzanych zytem gdzie bursztynowy swierzop gryka jak snieg biaa gdzie panienskim rumiencem dziecielina paa a wszystko przepasane jakby wstega miedza zielona na niej z rzadka ciche grusze siedza', 'srod takich pol przed laty nad brzegiem ruczaju na pagorku niewielkim we brzozowym gaju sta dwor szlachecki z drzewa lecz podmurowany swieciy sie z daleka pobielane sciany tym bielsze ze odbite od ciemnej zieleni topoli co go bronia od wiatrow jesieni', 'dom mieszkalny niewielki lecz zewszad chedogi i stodoe mia wielka i przy niej trzy stogi uzatku co pod strzecha zmiescic sie nie moze']\n",
      "['julian tuwim  matka  i  jest na odzkim cmentarzu na cmentarzu zydowskim grob polski mojej matki mojej matki zydowskiej', 'grob mojej matki polki mojej matki zydowki znad wisy ja przywiozem na brzeg fabrycznej odki', 'gaz mogie przywali a na gazie pobladym troche lisci wawrzynu ktore z brzozy opady', 'a gdy wietrzyk soneczny igra z nimi zociscie w polonie w komandorie ukadaja sie liscie', 'ii  zastrzeli ja faszysta kiedy myslaa o mnie zastrzeli ja faszysta kiedy tesknia do mnie', 'nabi  zabi tesknote znowu zacza nabijac zeby potem  lecz potem nie byo juz co zabijac', 'przestrzeli swiat matczyny dwie pieszczotliwe zgoski trupa z okna wyrzuci na swiety bruk otwocki', 'zapamietaj coreczko', 'przypomnij pozny wnuku', 'wypenio sie sowo idea siegna bruku']\n",
      "['juliusz sowacki  kordian czesc pierwsza trylogii spisek koronacyjny   wiec bede spiewa i dazy do kresu ozywie ogien jesli jest w iskierce', 'tak egipcjanin w liscie z aloesu obwija zwiede umarego serce na lisciu pisze zmartwychwstania sowa chociaz w tym lisciu serce nie ozyje lecz od zepsucia wiecznie sie zachowa w proch nie rozsypie godzina wybije kiedy mysl sowa tajemna odgadnie wtenczas odpowiedz bedzie w sercu  na dnie', 'juliusza sowackiego  lambro     przygotowanie    roku 1799 dnia 31 grudnia w nocy   chata sawnego niegdys czarnoksieznika twardowskiego w gorach karpackich  przy chacie obszerny dziedziniec  dalej skay  w dole bezlistne bukowe lasy', 'ciemnosc przerwana byskawicami', '   czarownica czesze wosy i spiewa    czarownica      z gwiazd obakanych     z wosow czesanych     iskry padaja     jak z polskiej szabli     widza je diabli     odpowiadaja     byskami chmur', 'leca  swist pior     buki ugina', ' szatan zlatuje w postaci pieknego anioa    szatan  ha czarownico', 'czy bia godzina', 'czarownica  ktora', 'szatan                          godzina ktorej zaden czowiek dwa razy w zyciu nie syszy']\n",
      "['charlotte bronte  dziwne losy jane eyre tum', 'teresa swiderska  isbn 9788328870925     rozdzia i  niepodobna byo tego dnia wyjsc na spacer', 'rano co prawda snulismy sie z godzine po bezlistnym ogrodzie ale po obiedzie pani reed gdy nie byo gosci jadaa wczesnie chodny wiatr zimowy napedzi tak ciemne chmury i deszcz tak przenikliwy ze dalsze przebywanie na swiezym powietrzu stao sie niemozliwe', 'rada byam z tego nigdy nie lubiam dugich spacerow zwaszcza w chodne popoudnia  tak sie obawiaam tych powrotow do domu o zmroku ze zmarznietymi palcami u rak i u nog z sercem scisnietym upomnieniami bessie naszej bony i upokorzonym w poczuciu ze eliza john i georgiana reed o tyle zreczniejsi i silniejsi sa ode mnie', 'eliza john i georgiana skupili sie teraz dokoa swej mamy w salonie', 'pani reed spoczywaa na kanapce przy kominku a majac wokoo siebie pieszczochow ktorzy w tej chwili nie kocili sie ani nie krzyczeli sprawiaa wrazenie zupenie szczesliwej', 'mnie zabronia zblizyc sie do siebie mowiac ze zauje iz musi trzymac mnie z daleka lecz dopoki nie usyszy od bessie i sama nie zauwazy ze naprawde staram sie wyrobic w sobie bardziej towarzyskie odpowiedniejsze dla dziecka usposobienie ze staram sie byc naturalniejsza zywsza i przyjemniejsza w obejsciu dopoty bedzie musiaa odmowic mi tych przywilejow jakie sie naleza tylko zadowolonym i wesoym dzieciom', ' o co bessie skarzya sie na mnie', ' zapytaam', ' jane nie znosze chwytania za sowa i dopytywan']\n",
      "3864\n",
      "35\n",
      "1416\n",
      "1331\n"
     ]
    }
   ],
   "source": [
    "mickiewicz_data = preprocess(mickiewicz)\n",
    "tuwim_data = preprocess(tuwim)\n",
    "slowacki_data = preprocess(słowacki)\n",
    "bronte_data = preprocess(bronte)\n",
    "print(len(mickiewicz_data))\n",
    "print(len(tuwim_data))\n",
    "print(len(slowacki_data))\n",
    "print(len(bronte_data))\n"
   ]
  },
  {
   "cell_type": "code",
   "execution_count": null,
   "metadata": {},
   "outputs": [],
   "source": []
  },
  {
   "cell_type": "code",
   "execution_count": 203,
   "metadata": {},
   "outputs": [
    {
     "name": "stdout",
     "output_type": "stream",
     "text": [
      "[0 0 0 ... 0 0 0]\n",
      "                                                text  label\n",
      "0  adam mickiewicz  pan tadeusz czyli ostatni zaj...      0\n",
      "1                                      ojczyzno moja      0\n",
      "2  ty jestes jak zdrowie ile cie trzeba cenic ten...      0\n",
      "3  dzis pieknosc twa w caej ozdobie widze i opisu...      0\n",
      "4  panno swieta co jasnej bronisz czestochowy i w...      0\n",
      "                                                text  label\n",
      "0  julian tuwim  matka  i  jest na odzkim cmentar...      1\n",
      "1  grob mojej matki polki mojej matki zydowki zna...      1\n",
      "2  gaz mogie przywali a na gazie pobladym troche ...      1\n",
      "3  a gdy wietrzyk soneczny igra z nimi zociscie w...      1\n",
      "4  ii  zastrzeli ja faszysta kiedy myslaa o mnie ...      1\n"
     ]
    }
   ],
   "source": [
    "import pandas as pd\n",
    "\n",
    "mickiewicz_dict = {\n",
    "    \"text\" : mickiewicz_data,\n",
    "    \"label\": np.zeros(len(mickiewicz_data), dtype=np.int16)\n",
    "}\n",
    "\n",
    "tuwim_dict = {\n",
    "    \"text\" : tuwim_data,\n",
    "    \"label\": np.ones(len(tuwim_data), dtype=np.int16)\n",
    "}\n",
    "\n",
    "slowacki_dict = {\n",
    "    \"text\" : slowacki_data,\n",
    "    \"label\": np.full(len(slowacki_data), 2, dtype=np.int16)\n",
    "}\n",
    "\n",
    "bronte_dict = {\n",
    "    \"text\" : bronte_data,\n",
    "    \"label\": np.full(len(bronte_data), 3, dtype=np.int16)\n",
    "}\n",
    "\n",
    "print(mickiewicz_dict[\"label\"])\n",
    "mickiewicz_df = pd.DataFrame.from_dict(mickiewicz_dict)\n",
    "tuwim_df = pd.DataFrame.from_dict(tuwim_dict)\n",
    "slowacki_df = pd.DataFrame.from_dict(slowacki_dict)\n",
    "bronte_df = pd.DataFrame.from_dict(bronte_dict)\n",
    "print(mickiewicz_df.head())\n",
    "print(tuwim_df.head())\n"
   ]
  },
  {
   "cell_type": "code",
   "execution_count": 204,
   "metadata": {},
   "outputs": [
    {
     "data": {
      "text/html": [
       "<div>\n",
       "<style scoped>\n",
       "    .dataframe tbody tr th:only-of-type {\n",
       "        vertical-align: middle;\n",
       "    }\n",
       "\n",
       "    .dataframe tbody tr th {\n",
       "        vertical-align: top;\n",
       "    }\n",
       "\n",
       "    .dataframe thead th {\n",
       "        text-align: right;\n",
       "    }\n",
       "</style>\n",
       "<table border=\"1\" class=\"dataframe\">\n",
       "  <thead>\n",
       "    <tr style=\"text-align: right;\">\n",
       "      <th></th>\n",
       "      <th>text</th>\n",
       "      <th>label</th>\n",
       "    </tr>\n",
       "  </thead>\n",
       "  <tbody>\n",
       "    <tr>\n",
       "      <th>0</th>\n",
       "      <td>jezeli oni mnie nie kochali to i ja rowniez ic...</td>\n",
       "      <td>3</td>\n",
       "    </tr>\n",
       "    <tr>\n",
       "      <th>1</th>\n",
       "      <td>jej zjawienie sie nage jej wzrost i uroda jej ...</td>\n",
       "      <td>0</td>\n",
       "    </tr>\n",
       "    <tr>\n",
       "      <th>2</th>\n",
       "      <td>szatan  taki sie teraz zrobi czuy i pobozny ja...</td>\n",
       "      <td>2</td>\n",
       "    </tr>\n",
       "    <tr>\n",
       "      <th>3</th>\n",
       "      <td>ale hrabia do niej chcia koniecznie cos mowic ...</td>\n",
       "      <td>0</td>\n",
       "    </tr>\n",
       "    <tr>\n",
       "      <th>4</th>\n",
       "      <td>obok lamus spichrz gumno obora i stajnie wszys...</td>\n",
       "      <td>0</td>\n",
       "    </tr>\n",
       "  </tbody>\n",
       "</table>\n",
       "</div>"
      ],
      "text/plain": [
       "                                                text  label\n",
       "0  jezeli oni mnie nie kochali to i ja rowniez ic...      3\n",
       "1  jej zjawienie sie nage jej wzrost i uroda jej ...      0\n",
       "2  szatan  taki sie teraz zrobi czuy i pobozny ja...      2\n",
       "3  ale hrabia do niej chcia koniecznie cos mowic ...      0\n",
       "4  obok lamus spichrz gumno obora i stajnie wszys...      0"
      ]
     },
     "execution_count": 204,
     "metadata": {},
     "output_type": "execute_result"
    }
   ],
   "source": [
    "df = pd.concat([mickiewicz_df, slowacki_df, bronte_df], ignore_index=True)\n",
    "df = df.sample(frac=1).reset_index(drop=True)\n",
    "df.head()"
   ]
  },
  {
   "cell_type": "code",
   "execution_count": 205,
   "metadata": {},
   "outputs": [
    {
     "data": {
      "text/plain": [
       "array([0.        , 0.        , 0.        , 0.        , 0.        ,\n",
       "       0.        , 0.        , 0.        , 0.        , 0.        ,\n",
       "       0.        , 0.        , 0.        , 0.        , 0.        ,\n",
       "       0.        , 0.        , 0.        , 0.        , 0.        ,\n",
       "       0.        , 0.        , 0.        , 0.        , 0.        ,\n",
       "       0.        , 0.        , 0.        , 0.        , 0.        ,\n",
       "       0.        , 0.        , 0.        , 0.        , 0.        ,\n",
       "       0.        , 0.        , 0.        , 0.        , 0.        ,\n",
       "       0.        , 0.        , 0.        , 0.        , 0.        ,\n",
       "       0.        , 0.        , 0.        , 0.        , 0.        ,\n",
       "       0.        , 0.        , 0.        , 0.        , 0.        ,\n",
       "       0.        , 0.        , 0.        , 0.        , 0.        ,\n",
       "       0.        , 0.        , 0.        , 0.        , 0.        ,\n",
       "       0.        , 0.        , 0.        , 0.        , 0.        ,\n",
       "       0.        , 0.        , 0.        , 0.        , 0.        ,\n",
       "       0.        , 0.        , 0.        , 0.        , 0.        ,\n",
       "       0.        , 0.        , 0.        , 0.        , 0.        ,\n",
       "       0.        , 0.        , 0.        , 0.        , 0.1777205 ,\n",
       "       0.        , 0.        , 0.        , 0.        , 0.        ,\n",
       "       0.28603845, 0.        , 0.        , 0.        , 0.        ,\n",
       "       0.        , 0.        , 0.        , 0.        , 0.        ,\n",
       "       0.        , 0.        , 0.        , 0.        , 0.        ,\n",
       "       0.        , 0.        , 0.        , 0.        , 0.        ,\n",
       "       0.        , 0.        , 0.        , 0.        , 0.        ,\n",
       "       0.        , 0.        , 0.        , 0.        , 0.        ,\n",
       "       0.        , 0.        , 0.        , 0.        , 0.        ,\n",
       "       0.        , 0.        , 0.        , 0.        , 0.        ,\n",
       "       0.35270366, 0.        , 0.        , 0.        , 0.        ,\n",
       "       0.15021985, 0.        , 0.        , 0.        , 0.        ,\n",
       "       0.        , 0.        , 0.        , 0.        , 0.        ,\n",
       "       0.        , 0.        , 0.        , 0.        , 0.        ,\n",
       "       0.        , 0.        , 0.        , 0.        , 0.        ,\n",
       "       0.        , 0.        , 0.        , 0.        , 0.        ,\n",
       "       0.        , 0.        , 0.        , 0.        , 0.        ,\n",
       "       0.        , 0.        , 0.        , 0.        , 0.        ,\n",
       "       0.        , 0.        , 0.        , 0.        , 0.        ,\n",
       "       0.        , 0.        , 0.        , 0.        , 0.        ,\n",
       "       0.        , 0.        , 0.        , 0.        , 0.        ,\n",
       "       0.        , 0.        , 0.        , 0.        , 0.        ,\n",
       "       0.        , 0.        , 0.        , 0.        , 0.        ,\n",
       "       0.        , 0.        , 0.        , 0.        , 0.        ,\n",
       "       0.        , 0.        , 0.        , 0.        , 0.        ,\n",
       "       0.        , 0.        , 0.        , 0.        , 0.        ,\n",
       "       0.        , 0.        , 0.        , 0.        , 0.        ,\n",
       "       0.        , 0.        , 0.        , 0.        , 0.        ,\n",
       "       0.        , 0.        , 0.        , 0.        , 0.        ,\n",
       "       0.        , 0.        , 0.        , 0.        , 0.        ,\n",
       "       0.        , 0.        , 0.        , 0.        , 0.        ,\n",
       "       0.        , 0.        , 0.        , 0.        , 0.        ,\n",
       "       0.        , 0.        , 0.        , 0.        , 0.        ,\n",
       "       0.        , 0.        , 0.        , 0.        , 0.        ,\n",
       "       0.1534542 , 0.        , 0.        , 0.        , 0.        ,\n",
       "       0.        , 0.        , 0.        , 0.        , 0.        ,\n",
       "       0.        , 0.        , 0.        , 0.        , 0.        ,\n",
       "       0.        , 0.        , 0.        , 0.        , 0.        ,\n",
       "       0.        , 0.        , 0.        , 0.        , 0.        ,\n",
       "       0.        , 0.        , 0.        , 0.        , 0.        ,\n",
       "       0.        , 0.        , 0.        , 0.        , 0.        ,\n",
       "       0.        , 0.        , 0.        , 0.        , 0.        ,\n",
       "       0.        , 0.        , 0.        , 0.        , 0.        ,\n",
       "       0.        , 0.        , 0.        , 0.        , 0.        ,\n",
       "       0.        , 0.        , 0.        , 0.        , 0.        ,\n",
       "       0.        , 0.        , 0.        , 0.        , 0.        ,\n",
       "       0.        , 0.        , 0.        , 0.        , 0.        ,\n",
       "       0.        , 0.32931395, 0.        , 0.        , 0.        ,\n",
       "       0.        , 0.        , 0.        , 0.        , 0.        ,\n",
       "       0.        , 0.        , 0.        , 0.        , 0.        ,\n",
       "       0.        , 0.3396199 , 0.        , 0.        , 0.        ,\n",
       "       0.        , 0.        , 0.        , 0.        , 0.        ,\n",
       "       0.        , 0.        , 0.        , 0.        , 0.        ,\n",
       "       0.        , 0.        , 0.        , 0.        , 0.        ,\n",
       "       0.        , 0.        , 0.        , 0.        , 0.        ,\n",
       "       0.        , 0.        , 0.        , 0.20403807, 0.        ,\n",
       "       0.        , 0.        , 0.        , 0.        , 0.        ,\n",
       "       0.        , 0.        , 0.        , 0.        , 0.        ,\n",
       "       0.        , 0.        , 0.        , 0.        , 0.        ,\n",
       "       0.        , 0.        , 0.        , 0.        , 0.        ,\n",
       "       0.        , 0.        , 0.        , 0.        , 0.        ,\n",
       "       0.        , 0.        , 0.        , 0.        , 0.        ,\n",
       "       0.        , 0.        , 0.        , 0.        , 0.        ,\n",
       "       0.        , 0.        , 0.        , 0.        , 0.        ,\n",
       "       0.        , 0.        , 0.        , 0.        , 0.        ,\n",
       "       0.        , 0.        , 0.        , 0.        , 0.        ,\n",
       "       0.        , 0.        , 0.        , 0.        , 0.        ,\n",
       "       0.        , 0.        , 0.        , 0.        , 0.        ,\n",
       "       0.        , 0.        , 0.        , 0.        , 0.        ,\n",
       "       0.        , 0.        , 0.        , 0.        , 0.        ,\n",
       "       0.        , 0.        , 0.        , 0.        , 0.        ,\n",
       "       0.        , 0.        , 0.        , 0.        , 0.        ,\n",
       "       0.        , 0.        , 0.        , 0.        , 0.        ,\n",
       "       0.        , 0.        , 0.        , 0.        , 0.        ,\n",
       "       0.        , 0.        , 0.        , 0.        , 0.        ,\n",
       "       0.        , 0.        , 0.28700426, 0.        , 0.        ,\n",
       "       0.        , 0.        , 0.        , 0.        , 0.        ,\n",
       "       0.        , 0.        , 0.        , 0.        , 0.        ,\n",
       "       0.        , 0.        , 0.        , 0.        , 0.        ,\n",
       "       0.        , 0.        , 0.        , 0.        , 0.        ,\n",
       "       0.        , 0.        , 0.        , 0.        , 0.        ,\n",
       "       0.        , 0.        , 0.        , 0.        , 0.        ,\n",
       "       0.        , 0.        , 0.        , 0.        , 0.        ,\n",
       "       0.        , 0.        , 0.        , 0.        , 0.        ,\n",
       "       0.        , 0.        , 0.        , 0.        , 0.        ,\n",
       "       0.        , 0.        , 0.        , 0.        , 0.        ,\n",
       "       0.        , 0.        , 0.        , 0.        , 0.        ,\n",
       "       0.        , 0.        , 0.        , 0.        , 0.        ,\n",
       "       0.        , 0.        , 0.        , 0.        , 0.        ,\n",
       "       0.        , 0.        , 0.        , 0.        , 0.        ,\n",
       "       0.        , 0.        , 0.        , 0.        , 0.        ,\n",
       "       0.        , 0.        , 0.        , 0.        , 0.        ,\n",
       "       0.        , 0.        , 0.        , 0.        , 0.        ,\n",
       "       0.        , 0.        , 0.        , 0.        , 0.        ,\n",
       "       0.        , 0.        , 0.        , 0.        , 0.        ,\n",
       "       0.        , 0.        , 0.        , 0.        , 0.        ,\n",
       "       0.        , 0.        , 0.        , 0.        , 0.        ,\n",
       "       0.        , 0.        , 0.        , 0.        , 0.        ,\n",
       "       0.        , 0.        , 0.        , 0.        , 0.        ,\n",
       "       0.        , 0.        , 0.        , 0.        , 0.        ,\n",
       "       0.        , 0.        , 0.        , 0.        , 0.        ,\n",
       "       0.        , 0.        , 0.        , 0.        , 0.        ,\n",
       "       0.        , 0.        , 0.        , 0.        , 0.        ,\n",
       "       0.        , 0.        , 0.        , 0.        , 0.        ,\n",
       "       0.        , 0.        , 0.        , 0.        , 0.        ,\n",
       "       0.        , 0.        , 0.        , 0.        , 0.        ,\n",
       "       0.        , 0.        , 0.        , 0.        , 0.        ,\n",
       "       0.        , 0.        , 0.        , 0.        , 0.        ,\n",
       "       0.        , 0.        , 0.        , 0.        , 0.        ,\n",
       "       0.        , 0.        , 0.        , 0.        , 0.        ,\n",
       "       0.        , 0.        , 0.        , 0.        , 0.        ,\n",
       "       0.        , 0.        , 0.        , 0.        , 0.        ,\n",
       "       0.        , 0.        , 0.        , 0.        , 0.        ,\n",
       "       0.        , 0.        , 0.        , 0.        , 0.        ,\n",
       "       0.        , 0.        , 0.        , 0.        , 0.        ,\n",
       "       0.        , 0.        , 0.        , 0.        , 0.        ,\n",
       "       0.        , 0.        , 0.        , 0.        , 0.        ,\n",
       "       0.        , 0.        , 0.        , 0.        , 0.        ,\n",
       "       0.        , 0.        , 0.        , 0.        , 0.        ,\n",
       "       0.        , 0.        , 0.        , 0.        , 0.        ,\n",
       "       0.        , 0.        , 0.        , 0.        , 0.        ,\n",
       "       0.        , 0.        , 0.        , 0.        , 0.        ,\n",
       "       0.        , 0.        , 0.        , 0.        , 0.11150294,\n",
       "       0.        , 0.        , 0.        , 0.        , 0.        ,\n",
       "       0.        , 0.        , 0.        , 0.        , 0.        ,\n",
       "       0.        , 0.        , 0.        , 0.        , 0.        ,\n",
       "       0.        , 0.        , 0.        , 0.        , 0.        ,\n",
       "       0.        , 0.        , 0.        , 0.        , 0.        ,\n",
       "       0.        , 0.        , 0.        , 0.        , 0.        ,\n",
       "       0.        , 0.        , 0.        , 0.        , 0.        ,\n",
       "       0.        , 0.        , 0.        , 0.        , 0.        ,\n",
       "       0.        , 0.        , 0.        , 0.        , 0.        ,\n",
       "       0.        , 0.        , 0.        , 0.        , 0.        ,\n",
       "       0.        , 0.        , 0.        , 0.        , 0.        ,\n",
       "       0.        , 0.        , 0.        , 0.        , 0.        ,\n",
       "       0.        , 0.        , 0.        , 0.        , 0.        ,\n",
       "       0.        , 0.        , 0.        , 0.        , 0.        ,\n",
       "       0.        , 0.        , 0.        , 0.        , 0.        ,\n",
       "       0.        , 0.        , 0.        , 0.        , 0.        ,\n",
       "       0.        , 0.        , 0.        , 0.        , 0.30581377,\n",
       "       0.        , 0.        , 0.        , 0.        , 0.        ,\n",
       "       0.        , 0.        , 0.        , 0.        , 0.        ,\n",
       "       0.        , 0.        , 0.        , 0.        , 0.        ,\n",
       "       0.        , 0.        , 0.        , 0.30439999, 0.        ,\n",
       "       0.        , 0.        , 0.        , 0.        , 0.        ,\n",
       "       0.        , 0.        , 0.        , 0.        , 0.        ,\n",
       "       0.        , 0.23309874, 0.        , 0.        , 0.        ,\n",
       "       0.        , 0.        , 0.        , 0.        , 0.        ,\n",
       "       0.        , 0.        , 0.        , 0.        , 0.        ,\n",
       "       0.        , 0.        , 0.        , 0.        , 0.        ,\n",
       "       0.        , 0.        , 0.        , 0.        , 0.        ,\n",
       "       0.        , 0.        , 0.        , 0.        , 0.        ,\n",
       "       0.        , 0.        , 0.        , 0.        , 0.        ,\n",
       "       0.        , 0.        , 0.        , 0.        , 0.        ,\n",
       "       0.        , 0.        , 0.        , 0.        , 0.        ,\n",
       "       0.        , 0.        , 0.        , 0.        , 0.        ,\n",
       "       0.        , 0.        , 0.        , 0.        , 0.        ,\n",
       "       0.        , 0.        , 0.        , 0.        , 0.        ,\n",
       "       0.        , 0.        , 0.        , 0.        , 0.        ,\n",
       "       0.        , 0.        , 0.        , 0.        , 0.        ,\n",
       "       0.        , 0.        , 0.        , 0.        , 0.        ,\n",
       "       0.        , 0.        , 0.        , 0.        , 0.        ,\n",
       "       0.        , 0.        , 0.        , 0.        , 0.        ,\n",
       "       0.        , 0.        , 0.        , 0.        , 0.        ,\n",
       "       0.        , 0.        , 0.        , 0.        , 0.        ,\n",
       "       0.        , 0.        , 0.        , 0.        , 0.        ,\n",
       "       0.        , 0.        , 0.        , 0.        , 0.        ,\n",
       "       0.        , 0.        , 0.        , 0.        , 0.        ,\n",
       "       0.        , 0.        , 0.        , 0.        , 0.        ,\n",
       "       0.        , 0.        , 0.        , 0.        , 0.        ,\n",
       "       0.        , 0.        , 0.        , 0.        , 0.        ,\n",
       "       0.        , 0.        , 0.        , 0.        , 0.        ,\n",
       "       0.        , 0.        , 0.        , 0.        , 0.        ,\n",
       "       0.        , 0.        , 0.        , 0.        , 0.        ,\n",
       "       0.        , 0.        , 0.        , 0.        , 0.        ,\n",
       "       0.        , 0.        , 0.        , 0.        , 0.        ,\n",
       "       0.        , 0.        , 0.        , 0.        , 0.        ,\n",
       "       0.        , 0.        , 0.        , 0.        , 0.        ,\n",
       "       0.        , 0.        , 0.        , 0.        , 0.        ,\n",
       "       0.        , 0.        , 0.        , 0.        , 0.        ,\n",
       "       0.        , 0.        , 0.        , 0.        , 0.        ,\n",
       "       0.        , 0.3396199 , 0.        , 0.        , 0.        ,\n",
       "       0.        , 0.        , 0.        , 0.        , 0.        ])"
      ]
     },
     "execution_count": 205,
     "metadata": {},
     "output_type": "execute_result"
    }
   ],
   "source": [
    "from sklearn.feature_extraction.text import CountVectorizer, TfidfVectorizer\n",
    "vectorizer = TfidfVectorizer(max_features=1000, min_df= 3, max_df=0.6)\n",
    "X = vectorizer.fit_transform(df[\"text\"]).toarray()\n",
    "X[2]"
   ]
  },
  {
   "cell_type": "code",
   "execution_count": 206,
   "metadata": {},
   "outputs": [
    {
     "data": {
      "text/plain": [
       "6611"
      ]
     },
     "execution_count": 206,
     "metadata": {},
     "output_type": "execute_result"
    }
   ],
   "source": [
    "y = df[\"label\"].values\n",
    "y\n",
    "len(y)"
   ]
  },
  {
   "cell_type": "code",
   "execution_count": 207,
   "metadata": {},
   "outputs": [
    {
     "data": {
      "text/plain": [
       "(5288, 1000)"
      ]
     },
     "execution_count": 207,
     "metadata": {},
     "output_type": "execute_result"
    }
   ],
   "source": [
    "from sklearn.feature_extraction.text import CountVectorizer, TfidfVectorizer\n",
    "\n",
    "from sklearn.model_selection import train_test_split\n",
    "\n",
    "X_train, X_test, y_train, y_test = train_test_split(X, y, test_size=0.2, random_state=42)\n",
    "\n",
    "X_train.shape\n"
   ]
  },
  {
   "cell_type": "code",
   "execution_count": 208,
   "metadata": {},
   "outputs": [],
   "source": [
    "import torch\n",
    "import torch.nn as nn\n",
    "\n",
    "X_train = torch.from_numpy(X_train).float()\n",
    "y_train = torch.from_numpy(y_train).long()\n",
    "X_test = torch.from_numpy(X_test).float()\n",
    "y_test = torch.from_numpy(y_test).long()\n"
   ]
  },
  {
   "cell_type": "code",
   "execution_count": 209,
   "metadata": {},
   "outputs": [
    {
     "data": {
      "text/plain": [
       "(torch.Size([5288, 1000]), torch.Size([5288, 1000]))"
      ]
     },
     "execution_count": 209,
     "metadata": {},
     "output_type": "execute_result"
    }
   ],
   "source": [
    "X_train.shape, X_train.shape"
   ]
  },
  {
   "cell_type": "code",
   "execution_count": 210,
   "metadata": {},
   "outputs": [],
   "source": [
    "input_size = 1000\n",
    "output_size = 4\n",
    "hidden_size = 500"
   ]
  },
  {
   "cell_type": "code",
   "execution_count": 211,
   "metadata": {},
   "outputs": [],
   "source": [
    "class Net(nn.Module):\n",
    "    def __init__(self):\n",
    "        super(Net, self).__init__()\n",
    "        self.fc1 = nn.Linear(input_size, hidden_size)\n",
    "        self.relu = nn.ReLU()\n",
    "        self.fc2 = nn.Linear(hidden_size, hidden_size)\n",
    "        self.fc3 = nn.Linear(hidden_size, output_size)\n",
    "        self.softmax = nn.LogSoftmax(dim=1)\n",
    "\n",
    "    def forward(self, X):\n",
    "        out = self.fc1(X)\n",
    "        out = self.relu(out)\n",
    "        out = self.fc2(out)\n",
    "        out = self.relu(out)\n",
    "        out = self.fc3(out)\n",
    "        out = self.softmax(out)\n",
    "        return out"
   ]
  },
  {
   "cell_type": "code",
   "execution_count": 212,
   "metadata": {},
   "outputs": [],
   "source": [
    "def train_model(model, X_train, y_train, epochs, lr):\n",
    "    model.train()\n",
    "    criterion = nn.CrossEntropyLoss()\n",
    "\n",
    "    optimizer = torch.optim.Adam(model.parameters(), lr=lr)\n",
    "    loss_data = []\n",
    "    for epoch in range(epochs):\n",
    "        optimizer.zero_grad()\n",
    "        out = model(X_train)\n",
    "        loss = criterion(out, y_train)\n",
    "        loss_data.append(loss.detach().numpy())\n",
    "        loss.backward()\n",
    "        optimizer.step()\n",
    "\n",
    "        if epoch % 10 == 0:\n",
    "            print(f\"Epoch {epoch} loss is {loss}\")\n",
    "\n",
    "    plt.figure(figsize=(8, 4))\n",
    "    plt.plot(loss_data, label=\"Training loss\")\n",
    "    plt.legend()\n",
    "    return model\n",
    "\n",
    "def test_model(model, X_test, y_test):\n",
    "    model.eval()\n",
    "    with torch.no_grad():\n",
    "        output = model(X_test)\n",
    "        _, predicted = torch.max(output, 1)\n",
    "        correct = (predicted == y_test).sum().item()\n",
    "\n",
    "        print(f\"Accuracy: {correct/len(y_test)}\")\n",
    "\n",
    "        print(X_test[:10])\n",
    "        print(y_test[:10])\n",
    "        print(predicted[:10])\n",
    "        print(f\"Accuracy: {correct/len(y_test)}\")\n"
   ]
  },
  {
   "cell_type": "code",
   "execution_count": 213,
   "metadata": {},
   "outputs": [
    {
     "name": "stdout",
     "output_type": "stream",
     "text": [
      "Epoch 0 loss is 1.3974733352661133\n",
      "Epoch 10 loss is 1.37505304813385\n",
      "Epoch 20 loss is 1.349985122680664\n",
      "Epoch 30 loss is 1.3174060583114624\n",
      "Epoch 40 loss is 1.2736968994140625\n",
      "Epoch 50 loss is 1.2176949977874756\n",
      "Epoch 60 loss is 1.1505749225616455\n",
      "Epoch 70 loss is 1.0810134410858154\n",
      "Epoch 80 loss is 1.0229026079177856\n",
      "Epoch 90 loss is 0.9796628355979919\n",
      "Epoch 100 loss is 0.9438946843147278\n",
      "Epoch 110 loss is 0.9119485020637512\n",
      "Epoch 120 loss is 0.8822673559188843\n",
      "Epoch 130 loss is 0.8529866933822632\n",
      "Epoch 140 loss is 0.8229208588600159\n",
      "Epoch 150 loss is 0.7910920977592468\n",
      "Epoch 160 loss is 0.7567458152770996\n",
      "Epoch 170 loss is 0.7193754315376282\n",
      "Epoch 180 loss is 0.6793814897537231\n",
      "Epoch 190 loss is 0.6373729705810547\n",
      "Epoch 200 loss is 0.5946075320243835\n",
      "Epoch 210 loss is 0.5527302622795105\n",
      "Epoch 220 loss is 0.5130658149719238\n",
      "Epoch 230 loss is 0.47693541646003723\n",
      "Epoch 240 loss is 0.4450262188911438\n",
      "Epoch 250 loss is 0.4174070656299591\n",
      "Epoch 260 loss is 0.3936310112476349\n",
      "Epoch 270 loss is 0.3731411099433899\n",
      "Epoch 280 loss is 0.355337917804718\n",
      "Epoch 290 loss is 0.3396693468093872\n",
      "Epoch 300 loss is 0.3257141411304474\n",
      "Epoch 310 loss is 0.31311947107315063\n",
      "Epoch 320 loss is 0.3016309142112732\n",
      "Epoch 330 loss is 0.29107266664505005\n",
      "Epoch 340 loss is 0.2813071608543396\n",
      "Epoch 350 loss is 0.2722156345844269\n",
      "Epoch 360 loss is 0.2636982202529907\n",
      "Epoch 370 loss is 0.25567948818206787\n",
      "Epoch 380 loss is 0.2480946183204651\n",
      "Epoch 390 loss is 0.2408868372440338\n",
      "Epoch 400 loss is 0.23403418064117432\n",
      "Epoch 410 loss is 0.22750170528888702\n",
      "Epoch 420 loss is 0.2212509661912918\n",
      "Epoch 430 loss is 0.21526183187961578\n",
      "Epoch 440 loss is 0.20952296257019043\n",
      "Epoch 450 loss is 0.20402859151363373\n",
      "Epoch 460 loss is 0.1987520009279251\n",
      "Epoch 470 loss is 0.1936723291873932\n",
      "Epoch 480 loss is 0.1887817680835724\n",
      "Epoch 490 loss is 0.18407906591892242\n",
      "Accuracy: 0.7498110355253212\n",
      "tensor([[0., 0., 0.,  ..., 0., 0., 0.],\n",
      "        [0., 0., 0.,  ..., 0., 0., 0.],\n",
      "        [0., 0., 0.,  ..., 0., 0., 0.],\n",
      "        ...,\n",
      "        [0., 0., 0.,  ..., 0., 0., 0.],\n",
      "        [0., 0., 0.,  ..., 0., 0., 0.],\n",
      "        [0., 0., 0.,  ..., 0., 0., 0.]])\n",
      "tensor([0, 0, 2, 3, 0, 3, 0, 0, 0, 0])\n",
      "tensor([0, 0, 2, 3, 0, 3, 0, 0, 0, 0])\n",
      "Accuracy: 0.7498110355253212\n"
     ]
    },
    {
     "data": {
      "text/plain": [
       "<Figure size 1000x500 with 0 Axes>"
      ]
     },
     "execution_count": 213,
     "metadata": {},
     "output_type": "execute_result"
    },
    {
     "data": {
      "image/png": "[encoded data removed]",
      "text/plain": [
       "<Figure size 800x400 with 1 Axes>"
      ]
     },
     "metadata": {},
     "output_type": "display_data"
    },
    {
     "data": {
      "text/plain": [
       "<Figure size 1000x500 with 0 Axes>"
      ]
     },
     "metadata": {},
     "output_type": "display_data"
    }
   ],
   "source": [
    "epochs = 500\n",
    "learning_rate = 0.0001\n",
    "\n",
    "model = Net()\n",
    "\n",
    "model = train_model(model, X_train, y_train, epochs, learning_rate)\n",
    "test_model(model, X_test, y_test)\n",
    "\n",
    "plt.figure(figsize=(10, 5))\n"
   ]
  },
  {
   "cell_type": "code",
   "execution_count": null,
   "metadata": {},
   "outputs": [],
   "source": []
  },
  {
   "cell_type": "code",
   "execution_count": 214,
   "metadata": {},
   "outputs": [],
   "source": [
    "#test"
   ]
  },
  {
   "cell_type": "code",
   "execution_count": 215,
   "metadata": {},
   "outputs": [],
   "source": [
    "# print(tuwim_data)\n",
    "# tuwim_data_set = set(tuwim_data)"
   ]
  },
  {
   "cell_type": "code",
   "execution_count": 216,
   "metadata": {},
   "outputs": [],
   "source": [
    "# import pandas as pd\n",
    "# import os\n",
    "# class CustomImageDataset():\n",
    "#     def __init__(self, words, labels):\n",
    "#         self.labels = labels\n",
    "#         self.words = words\n",
    "\n",
    "#     def __len__(self):\n",
    "#         return len(self.img_labels)\n",
    "\n",
    "#     def __getitem__(self, idx):\n",
    "#         img_path = os.path.join(self.img_dir, self.img_labels.iloc[idx, 0])\n",
    "#         # image = read_image(img_path)\n",
    "#         label = self.img_labels.iloc[idx, 1]\n",
    "#         if self.transform:\n",
    "#             image = self.transform(image)\n",
    "#         if self.target_transform:\n",
    "#             label = self.target_transform(label)\n",
    "#         return image, label"
   ]
  },
  {
   "cell_type": "code",
   "execution_count": 217,
   "metadata": {},
   "outputs": [],
   "source": [
    "# def word_pairs(words):\n",
    "#     pairs = []\n",
    "#     for i in range(len(words) - 1):\n",
    "#          pairs.append((words[i], words[i + 1]))\n",
    "#     return pairs\n",
    "\n",
    "# def convert_pairs_to_vectors(pairs, word2idx):\n",
    "#     x,y=[],[]\n",
    "#     for pair in pairs:\n",
    "#         x.append(word2idx[pair[0]])\n",
    "#         y.append(word2idx[pair[1]])\n",
    "#     return x,y\n",
    "\n",
    "# def create_word2idx(words):\n",
    "#     word2idx = {word: i for i, word in enumerate(set(words))}\n",
    "#     idx2word = {i: word for word, i in word2idx.items()}\n",
    "#     return word2idx, idx2word\n",
    "\n",
    "# word2idx, idx2word = create_word2idx(tuwim_data)\n",
    "# word_pairs(tuwim_data)\n",
    "# vectors = convert_pairs_to_vectors(word_pairs(tuwim_data), word2idx)"
   ]
  },
  {
   "cell_type": "code",
   "execution_count": 218,
   "metadata": {},
   "outputs": [],
   "source": [
    "# embeds = nn.Embedding(len(tuwim_data), 2)  # 2 words in vocab, 5 dimensional embeddings\n",
    "# lookup_tensor = torch.tensor(vectors, dtype=torch.long)\n",
    "# embeded_tuwim = embeds(lookup_tensor)[0].detach().numpy()\n",
    "# # print(embeded_tuwim)\n",
    "\n",
    "# import matplotlib.pyplot as plt\n",
    "# for i, label in enumerate(set(tuwim_data)):\n",
    "#     # print(embeded_tuwim[i])\n",
    "#     x, y = embeded_tuwim[i]\n",
    "#     plt.scatter(x, y)\n",
    "#     plt.text(x, y, label)"
   ]
  }
 ],
 "metadata": {
  "kernelspec": {
   "display_name": "base",
   "language": "python",
   "name": "python3"
  },
  "language_info": {
   "codemirror_mode": {
    "name": "ipython",
    "version": 3
   },
   "file_extension": ".py",
   "mimetype": "text/x-python",
   "name": "python",
   "nbconvert_exporter": "python",
   "pygments_lexer": "ipython3",
   "version": "3.9.18"
  }
 },
 "nbformat": 4,
 "nbformat_minor": 2
}
