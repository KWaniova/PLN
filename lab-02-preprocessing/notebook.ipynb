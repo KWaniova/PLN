{
 "cells": [
  {
   "cell_type": "markdown",
   "metadata": {
    "colab_type": "text",
    "id": "view-in-github"
   },
   "source": [
    "[View in Colaboratory](https://colab.research.google.com/github/gmum/natural-language-processing-classes/blob/master/lab-2-preprocessing/notebook.ipynb)"
   ]
  },
  {
   "cell_type": "markdown",
   "metadata": {
    "colab_type": "text",
    "id": "RPP549L7OSGK"
   },
   "source": [
    "# Lecture 2 - Text preprocessing"
   ]
  },
  {
   "cell_type": "markdown",
   "metadata": {
    "colab_type": "text",
    "id": "wPq6nNVXRFos"
   },
   "source": [
    "## Example of preprocessing\n",
    "\n",
    "(from [article](https://www.kdnuggets.com/2017/12/general-approach-preprocessing-text-data.html) by Matthew Mayo)\n",
    "\n",
    "Beyond the standard Python libraries, we are also using the following:\n",
    "\n",
    "- [NLTK](http://www.nltk.org/) - The Natural Language ToolKit is one of the best-known and most-used NLP libraries in the Python ecosystem, useful for all sorts of tasks from tokenization, to stemming, to part of speech tagging, and beyond\n",
    "- [BeautifulSoup](https://www.crummy.com/software/BeautifulSoup/bs4/doc/) - BeautifulSoup is a useful library for extracting data from HTML and XML documents\n",
    "- [Inflect](https://pypi.org/project/inflect/) - This is a simple library for accomplishing the natural language related tasks of generating plurals, singular nouns, ordinals, and indefinite articles, and converting numbers to words"
   ]
  },
  {
   "cell_type": "code",
   "execution_count": 3,
   "metadata": {},
   "outputs": [
    {
     "name": "stdout",
     "output_type": "stream",
     "text": [
      "Collecting nltk\n",
      "  Downloading nltk-3.8.1-py3-none-any.whl (1.5 MB)\n",
      "\u001b[2K     \u001b[90m━━━━━━━━━━━━━━━━━━━━━━━━━━━━━━━━━━━━━━━━\u001b[0m \u001b[32m1.5/1.5 MB\u001b[0m \u001b[31m5.9 MB/s\u001b[0m eta \u001b[36m0:00:00\u001b[0m00:01\u001b[0m00:01\u001b[0m\n",
      "\u001b[?25hRequirement already satisfied: click in /Users/krystynawaniova/opt/miniconda3/lib/python3.8/site-packages (from nltk) (8.1.3)\n",
      "Requirement already satisfied: regex>=2021.8.3 in /Users/krystynawaniova/opt/miniconda3/lib/python3.8/site-packages (from nltk) (2023.3.23)\n",
      "Collecting joblib\n",
      "  Downloading joblib-1.3.2-py3-none-any.whl (302 kB)\n",
      "\u001b[2K     \u001b[90m━━━━━━━━━━━━━━━━━━━━━━━━━━━━━━━━━━━━━━━\u001b[0m \u001b[32m302.2/302.2 kB\u001b[0m \u001b[31m6.3 MB/s\u001b[0m eta \u001b[36m0:00:00\u001b[0m00:01\u001b[0m\n",
      "\u001b[?25hRequirement already satisfied: tqdm in /Users/krystynawaniova/opt/miniconda3/lib/python3.8/site-packages (from nltk) (4.64.1)\n",
      "Installing collected packages: joblib, nltk\n",
      "Successfully installed joblib-1.3.2 nltk-3.8.1\n"
     ]
    }
   ],
   "source": [
    "!pip install nltk"
   ]
  },
  {
   "cell_type": "code",
   "execution_count": 4,
   "metadata": {
    "colab": {
     "base_uri": "https://localhost:8080/",
     "height": 336
    },
    "colab_type": "code",
    "id": "gpOQNWkoM83V",
    "outputId": "635d0d68-c269-4844-e59d-e7b4a90d973b"
   },
   "outputs": [
    {
     "name": "stderr",
     "output_type": "stream",
     "text": [
      "[nltk_data] Downloading package punkt to\n",
      "[nltk_data]     /Users/krystynawaniova/nltk_data...\n",
      "[nltk_data]   Unzipping tokenizers/punkt.zip.\n",
      "[nltk_data] Downloading package stopwords to\n",
      "[nltk_data]     /Users/krystynawaniova/nltk_data...\n",
      "[nltk_data]   Unzipping corpora/stopwords.zip.\n",
      "[nltk_data] Downloading package wordnet to\n",
      "[nltk_data]     /Users/krystynawaniova/nltk_data...\n",
      "[nltk_data] Downloading package gutenberg to\n",
      "[nltk_data]     /Users/krystynawaniova/nltk_data...\n",
      "[nltk_data]   Unzipping corpora/gutenberg.zip.\n",
      "[nltk_data] Downloading package averaged_perceptron_tagger to\n",
      "[nltk_data]     /Users/krystynawaniova/nltk_data...\n",
      "[nltk_data]   Unzipping taggers/averaged_perceptron_tagger.zip.\n"
     ]
    },
    {
     "name": "stdout",
     "output_type": "stream",
     "text": [
      "Collecting inflect\n",
      "  Downloading inflect-7.0.0-py3-none-any.whl (34 kB)\n",
      "Requirement already satisfied: typing-extensions in /Users/krystynawaniova/opt/miniconda3/lib/python3.8/site-packages (from inflect) (4.5.0)\n",
      "Requirement already satisfied: pydantic>=1.9.1 in /Users/krystynawaniova/opt/miniconda3/lib/python3.8/site-packages (from inflect) (1.10.2)\n",
      "Installing collected packages: inflect\n",
      "Successfully installed inflect-7.0.0\n"
     ]
    }
   ],
   "source": [
    "import re, string, unicodedata\n",
    "import nltk\n",
    "nltk.download('punkt')\n",
    "nltk.download('stopwords')\n",
    "nltk.download('wordnet')\n",
    "nltk.download('gutenberg')\n",
    "nltk.download('averaged_perceptron_tagger')\n",
    "from bs4 import BeautifulSoup\n",
    "from nltk.tokenize import word_tokenize, sent_tokenize, TweetTokenizer\n",
    "from nltk.corpus import stopwords\n",
    "from nltk.stem import LancasterStemmer, PorterStemmer,WordNetLemmatizer\n",
    "!pip install inflect\n",
    "import inflect"
   ]
  },
  {
   "cell_type": "code",
   "execution_count": 118,
   "metadata": {},
   "outputs": [
    {
     "name": "stdout",
     "output_type": "stream",
     "text": [
      "\n",
      "\n",
      "[0, 1]\n",
      "Index out of bounds\n",
      "\n",
      "\n",
      "\n",
      "\n",
      "\n",
      "\n",
      "\n",
      "\n",
      "\n",
      "\n",
      "\n",
      "\n",
      "\n",
      "\n",
      "\n"
     ]
    }
   ],
   "source": [
    "from typing import List\n",
    "\n",
    "def sortWithIndexes(arr):\n",
    "  data =  [(i, number) for i, number in zip(range(len(arr)), arr)]\n",
    "  data = sorted(data, key=lambda temp: temp[1])\n",
    "  return [x[1] for x in data], [x[0] for x in data]\n",
    "\n",
    "def twoSum(nums: List[int], target: int) -> List[int]:\n",
    "    # n * O(log n)\n",
    "    i = target\n",
    "    nums, indexes = sortWithIndexes(nums)\n",
    "    result = []\n",
    "    while i > 0:\n",
    "      try:\n",
    "        idx = bisearch_idx(nums, i)\n",
    "        if idx >= 0:\n",
    "          remaining = target - i\n",
    "          try:\n",
    "            remaining_idx = bisearch_idx(nums[:idx], remaining)\n",
    "          except Exception as X:\n",
    "            print(X)\n",
    "          if remaining_idx >= 0:\n",
    "            result = [remaining_idx, idx]\n",
    "            break\n",
    "      except Exception as X:\n",
    "        print()\n",
    "      i = i - 1\n",
    "    # print(f'result: {result}')\n",
    "    return [indexes[result[0]], indexes[result[1]]]\n",
    "\n",
    "\n",
    "\n",
    "def bisearch_idx(arr, target):\n",
    "    idx = int(len(arr) / 2)\n",
    "    # print(idx)\n",
    "    if idx >= len(arr):\n",
    "      raise Exception('Index out of bounds')\n",
    "    middle = arr[idx]\n",
    "    if middle < target:\n",
    "      return idx + 1 + bisearch_idx(arr[(idx + 1):], target)\n",
    "    elif middle > target:\n",
    "      return bisearch_idx(arr[:idx], target)\n",
    "    elif middle == target:\n",
    "      return idx\n",
    "    raise Exception('Index out of bounds')\n",
    "\n",
    "\n",
    "# def bisearch(arr, target):\n",
    "#   idx = int(len(arr) / 2)\n",
    "#   if idx >= len(arr):\n",
    "#     return False\n",
    "#   middle = arr[idx]\n",
    "#   if middle < target:\n",
    "#     return bisearch(arr[(idx + 1):], target)\n",
    "#   elif middle > target:\n",
    "#     return bisearch(arr[:idx], target)\n",
    "#   elif middle == target:\n",
    "#     return idx\n",
    "#   return False\n",
    "\n",
    "\n",
    "\n",
    "# print(twoSum([1,2,3,5,6,7,8], 13))\n",
    "print(twoSum([2,7,11,15], 9))\n",
    "# print(bisearch_idx([1,2,3,4,5,6,7,8,9], 12))\n",
    "\n",
    "\n",
    "# assert bisearch_idx([1,2,3,4,5,6,7,8,9], 6) == 5\n",
    "# assert bisearch_idx([1,2,3,4,5,6,7,8,9], 7) == 6\n",
    "# assert bisearch_idx([1,2,3,4,5,6,7,8,9], 3) == 2\n",
    "# assert bisearch_idx([1,2,3,4,5,6,7,8,9], 1) == 0\n",
    "# assert bisearch([1,2,3,4,5,6,7,8,9], 7) == True\n",
    "# assert bisearch([1,2,3,4,5,6,7,8,9], 8) == True\n",
    "# assert bisearch([1,2,3,4,5,6,7,8,9], 9) == True\n",
    "# assert bisearch([1,2,3,4,5,6,7,8,9], 10) == False\n",
    "# assert bisearch_idx([1,2,3,4,5,6,7,8,9], 12) == -1\n",
    "\n",
    "assert twoSum([1,2,3], 3) == [0,1]\n",
    "assert twoSum([1,2,3,5,6,7,8], 13) == [3,6]\n",
    "assert twoSum([2,7,11,15], 9) == [0,1]\n",
    "assert twoSum([3,2,4], 6) == [1,2]\n",
    "assert twoSum([1,2,3,5,6,7,8], 13) == [3,6]\n",
    "# assert(twoSum([1,2,3], 3), [0,1])"
   ]
  },
  {
   "cell_type": "code",
   "execution_count": 194,
   "metadata": {},
   "outputs": [
    {
     "name": "stdout",
     "output_type": "stream",
     "text": [
      "Error:  Index out of bounds\n",
      "Error:  Index out of bounds\n",
      "[0, 3]\n",
      "Error:  Index out of bounds\n",
      "Error:  Index out of bounds\n",
      "Error:  Index out of bounds\n",
      "Error:  Index out of bounds\n",
      "Error:  Index out of bounds\n",
      "Error:  Index out of bounds\n",
      "Error:  Index out of bounds\n"
     ]
    }
   ],
   "source": [
    "class Solution:\n",
    "    def sortWithIndexes(self, arr):\n",
    "        data =  [(i, number) for i, number in zip(range(len(arr)), arr)]\n",
    "        data = sorted(data, key=lambda temp: temp[1])\n",
    "        return [x[1] for x in data], [x[0] for x in data]\n",
    "\n",
    "    # def bisearch_idx(self, arr, target, idx):\n",
    "    #     idx = int(len(arr) / 2)\n",
    "    #     if idx >= len(arr):\n",
    "    #         raise Exception('Index out of bounds')\n",
    "    #     middle = arr[idx]\n",
    "    #     if middle < target:\n",
    "    #         return idx + 1 + self.bisearch_idx(arr[(idx + 1):], target)\n",
    "    #     elif middle > target:\n",
    "    #         return self.bisearch_idx(arr[:idx], target)\n",
    "    #     elif middle == target:\n",
    "    #         return idx\n",
    "    #     else:\n",
    "    #         raise Exception('Index out of bounds')\n",
    "\n",
    "    def bisearch_idx(self, arr, target, index = 0):\n",
    "        idx = int(len(arr) / 2)\n",
    "        if idx >= len(arr):\n",
    "            raise Exception('Index out of bounds')\n",
    "        middle = arr[idx]\n",
    "        if middle < target:\n",
    "            return self.bisearch_idx(arr[(idx + 1):], target, index + idx + 1)\n",
    "        elif middle > target:\n",
    "            return self.bisearch_idx(arr[:idx], target, index )\n",
    "        elif middle == target:\n",
    "            return index + idx\n",
    "        else:\n",
    "            raise Exception('Index out of bounds')\n",
    "\n",
    "\n",
    "    def twoSum(self,  nums: List[int], target: int) -> List[int]:\n",
    "        # n * O(log n)\n",
    "        index = len(nums) - 1\n",
    "        nums, indexes = self.sortWithIndexes(nums)\n",
    "        result = []\n",
    "        while index >= 0:\n",
    "            i = nums[index]\n",
    "            try:\n",
    "                idx = self.bisearch_idx(nums, i)\n",
    "                while len(nums) > idx + 1 and nums[idx + 1] == i:\n",
    "                    idx = idx + 1\n",
    "                remaining = target - i\n",
    "                remaining_idx = self.bisearch_idx(nums[:idx], remaining)\n",
    "\n",
    "                if remaining_idx >= 0:\n",
    "                    result = [remaining_idx, index]\n",
    "                    break\n",
    "            except Exception as X:\n",
    "                print('Error: ', X)\n",
    "            index = index - 1\n",
    "        return [indexes[result[0]], indexes[result[1]]]\n",
    "\n",
    "\n",
    "\n",
    "solution = Solution()\n",
    "\n",
    "# assert solution.bisearch_idx([1,2,3,4,5,6,7,8,9], 6) == 5\n",
    "# assert solution.bisearch_idx([1,2,3,4,5,6,7,8,9], 7) == 6\n",
    "# assert solution.bisearch_idx([1,2,3,4,5,6,7,8,9], 3) == 2\n",
    "# assert solution.bisearch_idx([1,2,3,4,5,6,7,8,9], 1) == 0\n",
    "\n",
    "print(solution.twoSum([0,4,3,0], 0))\n",
    "assert solution.twoSum([3,2,3], 6) == [0,2]\n",
    "assert solution.twoSum([0,4,3,0], 0) == [0,3]\n",
    "assert solution.twoSum([-3,4,3,90], 0) == [0,2]\n",
    "\n",
    "assert solution.twoSum([1,2,3], 3) == [0,1]\n",
    "assert solution.twoSum([1,2,3,5,6,7,8], 13) == [3,6]\n",
    "assert solution.twoSum([2,7,11,15], 9) == [0,1]\n",
    "assert solution.twoSum([3,2,4], 6) == [1,2]\n",
    "assert solution.twoSum([1,2,3,5,6,7,8], 13) == [3,6]"
   ]
  },
  {
   "cell_type": "code",
   "execution_count": null,
   "metadata": {},
   "outputs": [],
   "source": []
  },
  {
   "cell_type": "code",
   "execution_count": 213,
   "metadata": {},
   "outputs": [
    {
     "name": "stdout",
     "output_type": "stream",
     "text": [
      "[88, 99]\n",
      "1457\n",
      "[70, 77, 87]\n"
     ]
    }
   ],
   "source": [
    "class Solution:\n",
    "    def timeRequiredToBuy(self, tickets: List[int], k: int) -> int:\n",
    "        less = [n for n in tickets if n < tickets[k]]\n",
    "        more = [n for n in tickets if n >= tickets[k]]\n",
    "        bigger_behind = [n for n in tickets[k + 1:] if n >= tickets[k]]\n",
    "        # print(less)\n",
    "        # print(more)\n",
    "        print(bigger_behind)\n",
    "        return tickets[k] * len(more) + sum(less) - len(bigger_behind)\n",
    "\n",
    "solution = Solution()\n",
    "\n",
    "print(solution.timeRequiredToBuy([15,66,3,47,71,27,54,43,97,34,94,33,54,26,15,52,20,71,88,42,50,6,66,88,36,99,27,82,7,72], 18))\n",
    "\n",
    "\n",
    "# assert solution.timeRequiredToBuy([2,3,4,5,6], 2) == 14\n",
    "# assert solution.timeRequiredToBuy([5,1,1,1], 0) == 8\n",
    "assert solution.timeRequiredToBuy([84,49,5,24,70,77,87,8], 3) == 154\n",
    "# assert solution.timeRequiredToBuy([15,66,3,47,71,27,54,43,97,34,94,33,54,26,15,52,20,71,88,42,50,6,66,88,36,99,27,82,7,72], 18) == 1457"
   ]
  },
  {
   "cell_type": "code",
   "execution_count": 216,
   "metadata": {},
   "outputs": [],
   "source": [
    "\n",
    "class Solution:\n",
    "    def timeRequiredToBuy(self, tickets: List[int], k: int) -> int:\n",
    "        less = list(filter(lambda x: x < tickets[k], tickets))\n",
    "        more = list(filter(lambda x: x >= tickets[k], tickets))\n",
    "        bigger_behind = list(filter(lambda x: x >= tickets[k], tickets[k + 1:]))\n",
    "\n",
    "        return tickets[k] * len(more) + sum(less) - len(bigger_behind)\n",
    "\n",
    "solution = Solution()\n",
    "\n",
    "assert solution.timeRequiredToBuy([84,49,5,24,70,77,87,8], 3) == 154\n"
   ]
  },
  {
   "cell_type": "markdown",
   "metadata": {
    "colab_type": "text",
    "id": "rolai6rhTXkI"
   },
   "source": [
    "We need some sample text. We'll start with something very small and artificial in order to easily see the results of what we are doing step by step."
   ]
  },
  {
   "cell_type": "code",
   "execution_count": 5,
   "metadata": {
    "colab": {},
    "colab_type": "code",
    "id": "mETl7nIUPEIn"
   },
   "outputs": [],
   "source": [
    "sample = \"\"\"<h1>Title Goes Here</h1>\n",
    "\n",
    "<b>Bolded Text</b>\n",
    "<i>Italicized Text</i>\n",
    "\n",
    "<img src=\"this should all be gone\"/>\n",
    "\n",
    "<a href=\"this will be gone, too\">But this will still be here!</a>\n",
    "\n",
    "I run. He ran. She is running. Will they stop running?\n",
    "\n",
    "I talked. She was talking. They talked to them about running. Who ran to the talking runner?\n",
    "\n",
    "[Some text we don't want to keep is in here]\n",
    "\n",
    "¡Sebastián, Nicolás, Alejandro and Jéronimo are going to the store tomorrow morning!\n",
    "\n",
    "something... is! wrong() with.,; this :: sentence.\n",
    "\n",
    "I can't do this anymore. I didn't know them. Why couldn't you have dinner at the restaurant?\n",
    "\n",
    "My favorite movie franchises, in order: Indiana Jones; Marvel Cinematic Universe; Star Wars; Back to the Future; Harry Potter.\n",
    "\n",
    "Don't do it.... Just don't. Billy! I know what you're doing. This is a great little house you've got here.\n",
    "\n",
    "[This is some other unwanted text]\n",
    "\n",
    "John: \"Well, well, well.\"\n",
    "James: \"There, there. There, there.\"\n",
    "\n",
    "&nbsp;&nbsp;\n",
    "\n",
    "There are a lot of reasons not to do this. There are 101 reasons not to do it. 1000000 reasons, actually.\n",
    "I have to go get 2 tutus from 2 different stores, too.\n",
    "\n",
    "22    45   1067   445\n",
    "\n",
    "{{Here is some stuff inside of double curly braces.}}\n",
    "{Here is more stuff in single curly braces.}\n",
    "\n",
    "[DELETE]\n",
    "\n",
    "</body>\n",
    "</html>\"\"\""
   ]
  },
  {
   "cell_type": "markdown",
   "metadata": {
    "colab_type": "text",
    "id": "JIq4ucjJTZOm"
   },
   "source": [
    "A toy dataset indeed, but make no mistake; the steps we are taking here to preprocessing this data are fully transferable.\n",
    "\n",
    "The text data preprocessing framework:\n",
    "\n",
    "![](https://www.kdnuggets.com/wp-content/uploads/text-preprocessing-framework-2.png)\n",
    "\n"
   ]
  },
  {
   "cell_type": "markdown",
   "metadata": {
    "colab_type": "text",
    "id": "I_PQ5VcpUULr"
   },
   "source": [
    "### Noise Removal\n",
    "\n",
    "Let's loosely define noise removal as text-specific normalization tasks which often take place prior to tokenization. Some would argue that, while the other 2 major steps of the preprocessing framework (tokenization and normalization) are basically task-independent, noise removal is much more task-specific.\n",
    "\n",
    "Sample noise removal tasks could include:\n",
    "\n",
    "- removing text file headers, footers\n",
    "- removing HTML, XML, etc. markup and metadata\n",
    "- extracting valuable data from other formats, such as JSON\n",
    "\n",
    "As you can imagine, the boundary between noise removal and data collection and assembly, on the one hand, is a fuzzy one, while the line between noise removal and normalization is blurred on the other. Given its close relationship with specific texts and their collection and assembly, many denoising tasks, such as parsing a JSON structure, would obviously need to be implemented prior to tokenization.\n",
    "\n",
    "In our data preprocessing pipeline, we will strip away HTML markup with the help of the BeautifulSoup library, and use regular expressions to remove open and close double brackets and anything in between them (we assume this is necessary based on our sample text)."
   ]
  },
  {
   "cell_type": "code",
   "execution_count": 6,
   "metadata": {
    "colab": {},
    "colab_type": "code",
    "id": "bLEWD4nzRfTJ"
   },
   "outputs": [
    {
     "name": "stdout",
     "output_type": "stream",
     "text": [
      "Title Goes Here\n",
      "Bolded Text\n",
      "Italicized Text\n",
      "\n",
      "But this will still be here!\n",
      "\n",
      "I run. He ran. She is running. Will they stop running?\n",
      "\n",
      "I talked. She was talking. They talked to them about running. Who ran to the talking runner?\n",
      "\n",
      "\n",
      "\n",
      "¡Sebastián, Nicolás, Alejandro and Jéronimo are going to the store tomorrow morning!\n",
      "\n",
      "something... is! wrong() with.,; this :: sentence.\n",
      "\n",
      "I can't do this anymore. I didn't know them. Why couldn't you have dinner at the restaurant?\n",
      "\n",
      "My favorite movie franchises, in order: Indiana Jones; Marvel Cinematic Universe; Star Wars; Back to the Future; Harry Potter.\n",
      "\n",
      "Don't do it.... Just don't. Billy! I know what you're doing. This is a great little house you've got here.\n",
      "\n",
      "\n",
      "\n",
      "John: \"Well, well, well.\"\n",
      "James: \"There, there. There, there.\"\n",
      "\n",
      "  \n",
      "\n",
      "There are a lot of reasons not to do this. There are 101 reasons not to do it. 1000000 reasons, actually.\n",
      "I have to go get 2 tutus from 2 different stores, too.\n",
      "\n",
      "22    45   1067   445\n",
      "\n",
      "{{Here is some stuff inside of double curly braces.}}\n",
      "{Here is more stuff in single curly braces.}\n",
      "\n",
      "\n",
      "\n",
      "\n",
      "\n"
     ]
    }
   ],
   "source": [
    "def strip_html(text):\n",
    "    soup = BeautifulSoup(text, \"html.parser\")\n",
    "    return soup.get_text()\n",
    "\n",
    "def remove_between_square_brackets(text):\n",
    "    return re.sub(r'\\[[^]]*\\]', '', text)\n",
    "\n",
    "def denoise_text(text):\n",
    "    text = strip_html(text)\n",
    "    text = remove_between_square_brackets(text)\n",
    "    return text\n",
    "\n",
    "sample = denoise_text(sample)\n",
    "print(sample)"
   ]
  },
  {
   "cell_type": "markdown",
   "metadata": {
    "colab_type": "text",
    "id": "KJFXqjZmUvg3"
   },
   "source": [
    "### Tokenization\n",
    "\n",
    "Tokenization is a step which splits longer strings of text into smaller pieces, or tokens. Larger chunks of text can be tokenized into sentences, sentences can be tokenized into words, etc. Further processing is generally performed after a piece of text has been appropriately tokenized. Tokenization is also referred to as text segmentation or lexical analysis. Sometimes segmentation is used to refer to the breakdown of a large chunk of text into pieces larger than words (e.g. paragraphs or sentences), while tokenization is reserved for the breakdown process which results exclusively in words.\n",
    "\n",
    "For our task, we will tokenize our sample text into a list of words. This is done using NTLK's word_tokenize() function.\n",
    "\n"
   ]
  },
  {
   "cell_type": "code",
   "execution_count": 7,
   "metadata": {
    "colab": {},
    "colab_type": "code",
    "id": "XwaEnLwYUSzn"
   },
   "outputs": [
    {
     "name": "stdout",
     "output_type": "stream",
     "text": [
      "['Title', 'Goes', 'Here', 'Bolded', 'Text', 'Italicized', 'Text', 'But', 'this', 'will', 'still', 'be', 'here', '!', 'I', 'run', '.', 'He', 'ran', '.', 'She', 'is', 'running', '.', 'Will', 'they', 'stop', 'running', '?', 'I', 'talked', '.', 'She', 'was', 'talking', '.', 'They', 'talked', 'to', 'them', 'about', 'running', '.', 'Who', 'ran', 'to', 'the', 'talking', 'runner', '?', '¡Sebastián', ',', 'Nicolás', ',', 'Alejandro', 'and', 'Jéronimo', 'are', 'going', 'to', 'the', 'store', 'tomorrow', 'morning', '!', 'something', '...', 'is', '!', 'wrong', '(', ')', 'with.', ',', ';', 'this', ':', ':', 'sentence', '.', 'I', 'ca', \"n't\", 'do', 'this', 'anymore', '.', 'I', 'did', \"n't\", 'know', 'them', '.', 'Why', 'could', \"n't\", 'you', 'have', 'dinner', 'at', 'the', 'restaurant', '?', 'My', 'favorite', 'movie', 'franchises', ',', 'in', 'order', ':', 'Indiana', 'Jones', ';', 'Marvel', 'Cinematic', 'Universe', ';', 'Star', 'Wars', ';', 'Back', 'to', 'the', 'Future', ';', 'Harry', 'Potter', '.', 'Do', \"n't\", 'do', 'it', '....', 'Just', 'do', \"n't\", '.', 'Billy', '!', 'I', 'know', 'what', 'you', \"'re\", 'doing', '.', 'This', 'is', 'a', 'great', 'little', 'house', 'you', \"'ve\", 'got', 'here', '.', 'John', ':', '``', 'Well', ',', 'well', ',', 'well', '.', \"''\", 'James', ':', '``', 'There', ',', 'there', '.', 'There', ',', 'there', '.', \"''\", 'There', 'are', 'a', 'lot', 'of', 'reasons', 'not', 'to', 'do', 'this', '.', 'There', 'are', '101', 'reasons', 'not', 'to', 'do', 'it', '.', '1000000', 'reasons', ',', 'actually', '.', 'I', 'have', 'to', 'go', 'get', '2', 'tutus', 'from', '2', 'different', 'stores', ',', 'too', '.', '22', '45', '1067', '445', '{', '{', 'Here', 'is', 'some', 'stuff', 'inside', 'of', 'double', 'curly', 'braces', '.', '}', '}', '{', 'Here', 'is', 'more', 'stuff', 'in', 'single', 'curly', 'braces', '.', '}']\n"
     ]
    }
   ],
   "source": [
    "words = nltk.word_tokenize(sample)\n",
    "print(words)"
   ]
  },
  {
   "cell_type": "markdown",
   "metadata": {
    "colab_type": "text",
    "id": "AxP_Pd7rWhtM"
   },
   "source": [
    "### Normalization\n",
    " \n",
    "Normalization generally refers to a series of related tasks meant to put all text on a level playing field: converting all text to the same case (upper or lower), removing punctuation, converting numbers to their word equivalents, and so on. Normalization puts all words on equal footing, and allows processing to proceed uniformly.\n",
    "\n",
    "Normalizing text can mean performing a number of tasks, but for our framework we will approach normalization in 3 distinct steps: \n",
    "- stemming, \n",
    "- lemmatization,\n",
    "- everything else. \n",
    "\n",
    "For specifics on what these distinct steps may be, [see this post](https://www.kdnuggets.com/2017/12/general-approach-preprocessing-text-data.html).\n",
    "\n",
    "Remember, after tokenization, we are no longer working at a text level, but now at a word level. Our normalization functions, shown below, reflect this. Function names and comments should provide the necessary insight into what each does."
   ]
  },
  {
   "cell_type": "code",
   "execution_count": 8,
   "metadata": {
    "colab": {},
    "colab_type": "code",
    "id": "FAtYfNqoWOLd"
   },
   "outputs": [
    {
     "name": "stdout",
     "output_type": "stream",
     "text": [
      "['title', 'goes', 'bolded', 'text', 'italicized', 'text', 'still', 'run', 'ran', 'running', 'stop', 'running', 'talked', 'talking', 'talked', 'running', 'ran', 'talking', 'runner', 'sebastian', 'nicolas', 'alejandro', 'jeronimo', 'going', 'store', 'tomorrow', 'morning', 'something', 'wrong', 'sentence', 'ca', 'nt', 'anymore', 'nt', 'know', 'could', 'nt', 'dinner', 'restaurant', 'favorite', 'movie', 'franchises', 'order', 'indiana', 'jones', 'marvel', 'cinematic', 'universe', 'star', 'wars', 'back', 'future', 'harry', 'potter', 'nt', 'nt', 'billy', 'know', 'great', 'little', 'house', 'got', 'john', 'well', 'well', 'well', 'james', 'lot', 'reasons', 'one hundred and one', 'reasons', 'one million', 'reasons', 'actually', 'go', 'get', 'two', 'tutus', 'two', 'different', 'stores', 'twenty-two', 'forty-five', 'one thousand and sixty-seven', 'four hundred and forty-five', 'stuff', 'inside', 'double', 'curly', 'braces', 'stuff', 'single', 'curly', 'braces']\n"
     ]
    }
   ],
   "source": [
    "def remove_non_ascii(words):\n",
    "    \"\"\"Remove non-ASCII characters from list of tokenized words\"\"\"\n",
    "    new_words = []\n",
    "    for word in words:\n",
    "        new_word = unicodedata.normalize('NFKD', word).encode('ascii', 'ignore').decode('utf-8', 'ignore')\n",
    "        new_words.append(new_word)\n",
    "    return new_words\n",
    "\n",
    "def to_lowercase(words):\n",
    "    \"\"\"Convert all characters to lowercase from list of tokenized words\"\"\"\n",
    "    new_words = []\n",
    "    for word in words:\n",
    "        new_word = word.lower()\n",
    "        new_words.append(new_word)\n",
    "    return new_words\n",
    "\n",
    "def remove_punctuation(words):\n",
    "    \"\"\"Remove punctuation from list of tokenized words\"\"\"\n",
    "    new_words = []\n",
    "    for word in words:\n",
    "        new_word = re.sub(r'[^\\w\\s]', '', word)\n",
    "        if new_word != '':\n",
    "            new_words.append(new_word)\n",
    "    return new_words\n",
    "\n",
    "def replace_numbers(words):\n",
    "    \"\"\"Replace all interger occurrences in list of tokenized words with textual representation\"\"\"\n",
    "    p = inflect.engine()\n",
    "    new_words = []\n",
    "    for word in words:\n",
    "        if word.isdigit():\n",
    "            new_word = p.number_to_words(word)\n",
    "            new_words.append(new_word)\n",
    "        else:\n",
    "            new_words.append(word)\n",
    "    return new_words\n",
    "\n",
    "def remove_stopwords(words):\n",
    "    \"\"\"Remove stop words from list of tokenized words\"\"\"\n",
    "    new_words = []\n",
    "    for word in words:\n",
    "        if word not in stopwords.words('english'):\n",
    "            new_words.append(word)\n",
    "    return new_words\n",
    "\n",
    "def stem_words(words):\n",
    "    \"\"\"Stem words in list of tokenized words\"\"\"\n",
    "    stemmer = LancasterStemmer()\n",
    "    stems = []\n",
    "    for word in words:\n",
    "        stem = stemmer.stem(word)\n",
    "        stems.append(stem)\n",
    "    return stems\n",
    "\n",
    "def lemmatize_verbs(words):\n",
    "    \"\"\"Lemmatize list of tokenized words as verbs\"\"\"\n",
    "    lemmatizer = WordNetLemmatizer()\n",
    "    lemmas = []\n",
    "    for word in words:\n",
    "        lemma = lemmatizer.lemmatize(word, pos='v')\n",
    "        lemmas.append(lemma)\n",
    "    return lemmas\n",
    "\n",
    "def normalize(words):\n",
    "    words = remove_non_ascii(words)\n",
    "    words = to_lowercase(words)\n",
    "    words = remove_punctuation(words)\n",
    "    words = replace_numbers(words)\n",
    "    words = remove_stopwords(words)\n",
    "    return words\n",
    "\n",
    "words = normalize(words)\n",
    "print(words)"
   ]
  },
  {
   "cell_type": "markdown",
   "metadata": {
    "colab_type": "text",
    "id": "PUrEKj91ZaPb"
   },
   "source": [
    "Calling the stemming and lemming functions are done as below:"
   ]
  },
  {
   "cell_type": "code",
   "execution_count": 9,
   "metadata": {
    "colab": {},
    "colab_type": "code",
    "id": "CINpnkB4YwHY"
   },
   "outputs": [
    {
     "name": "stdout",
     "output_type": "stream",
     "text": [
      "Stemmed:\n",
      " ['titl', 'goe', 'bold', 'text', 'it', 'text', 'stil', 'run', 'ran', 'run', 'stop', 'run', 'talk', 'talk', 'talk', 'run', 'ran', 'talk', 'run', 'sebast', 'nicola', 'alejandro', 'jeronimo', 'going', 'stor', 'tomorrow', 'morn', 'someth', 'wrong', 'sent', 'ca', 'nt', 'anym', 'nt', 'know', 'could', 'nt', 'din', 'resta', 'favorit', 'movy', 'franch', 'ord', 'indian', 'jon', 'marvel', 'cinem', 'univers', 'star', 'war', 'back', 'fut', 'harry', 'pot', 'nt', 'nt', 'bil', 'know', 'gre', 'littl', 'hous', 'got', 'john', 'wel', 'wel', 'wel', 'jam', 'lot', 'reason', 'one hundred and on', 'reason', 'one million', 'reason', 'act', 'go', 'get', 'two', 'tut', 'two', 'diff', 'stor', 'twenty-two', 'forty-five', 'one thousand and sixty-seven', 'four hundred and forty-five', 'stuff', 'insid', 'doubl', 'cur', 'brac', 'stuff', 'singl', 'cur', 'brac']\n",
      "\n",
      "Lemmatized:\n",
      " ['title', 'go', 'bolded', 'text', 'italicize', 'text', 'still', 'run', 'run', 'run', 'stop', 'run', 'talk', 'talk', 'talk', 'run', 'run', 'talk', 'runner', 'sebastian', 'nicolas', 'alejandro', 'jeronimo', 'go', 'store', 'tomorrow', 'morning', 'something', 'wrong', 'sentence', 'ca', 'nt', 'anymore', 'nt', 'know', 'could', 'nt', 'dinner', 'restaurant', 'favorite', 'movie', 'franchise', 'order', 'indiana', 'jones', 'marvel', 'cinematic', 'universe', 'star', 'war', 'back', 'future', 'harry', 'potter', 'nt', 'nt', 'billy', 'know', 'great', 'little', 'house', 'get', 'john', 'well', 'well', 'well', 'jam', 'lot', 'reason', 'one hundred and one', 'reason', 'one million', 'reason', 'actually', 'go', 'get', 'two', 'tutus', 'two', 'different', 'store', 'twenty-two', 'forty-five', 'one thousand and sixty-seven', 'four hundred and forty-five', 'stuff', 'inside', 'double', 'curly', 'brace', 'stuff', 'single', 'curly', 'brace']\n"
     ]
    }
   ],
   "source": [
    "\n",
    "# While stemming involves chopping off prefixes or suffixes from words to obtain a common root,\n",
    "# lemmatization aims for a valid base form through linguistic analysis.\n",
    "# Lemmatization tends to be more accurate but can be computationally more expensive than stemming.\n",
    "\n",
    "def stem_and_lemmatize(words):\n",
    "    stems = stem_words(words)\n",
    "    lemmas = lemmatize_verbs(words)\n",
    "    return stems, lemmas\n",
    "\n",
    "stems, lemmas = stem_and_lemmatize(words)\n",
    "print('Stemmed:\\n', stems)\n",
    "print('\\nLemmatized:\\n', lemmas)"
   ]
  },
  {
   "cell_type": "markdown",
   "metadata": {
    "colab_type": "text",
    "id": "JnJWHosGZ7Fe"
   },
   "source": [
    "Depending on your NLP task or preference, one of these may be more appropriate than the other. See here for a [discussion on lemmatization vs stemming](https://blog.bitext.com/what-is-the-difference-between-stemming-and-lemmatization/)."
   ]
  },
  {
   "cell_type": "markdown",
   "metadata": {
    "colab_type": "text",
    "id": "gW6rm0134_E-"
   },
   "source": [
    "In order to resolve ambiguous cases, lemmatization usually requires tokens to be accompanied by part-of-speech tags. For example, the word lemma for rose depends on whether it is used as a noun or a verb:"
   ]
  },
  {
   "cell_type": "code",
   "execution_count": 10,
   "metadata": {
    "colab": {},
    "colab_type": "code",
    "id": "UnsGwUpg5JDa"
   },
   "outputs": [
    {
     "name": "stdout",
     "output_type": "stream",
     "text": [
      "noun lemmatization: rose\n",
      "verb lemmatization: rise\n"
     ]
    }
   ],
   "source": [
    "lemmer = WordNetLemmatizer()\n",
    "print(f\"noun lemmatization: {lemmer.lemmatize('rose', 'n')}\")\n",
    "print(f\"verb lemmatization: {lemmer.lemmatize('rose', 'v')}\")"
   ]
  },
  {
   "cell_type": "markdown",
   "metadata": {
    "colab_type": "text",
    "id": "YUXQmKLG5h_g"
   },
   "source": [
    "## Exercise 1."
   ]
  },
  {
   "cell_type": "code",
   "execution_count": 18,
   "metadata": {
    "colab": {},
    "colab_type": "code",
    "id": "q9CtaF3zZcRR"
   },
   "outputs": [],
   "source": [
    "text_1 = \"\"\"Now the Children of Ilu´vatar are Elves and Men, the Firstborn\n",
    "and the Followers. And amid all the splendours of the\n",
    "World, its vast halls and spaces, and its wheeling fires, Ilu´vatar\n",
    "chose a place for their habitation in the Deeps of Time\n",
    "and in the midst of the innumerable stars. And this habitation\n",
    "might seem a little thing to those who consider only the\n",
    "majesty of the Ainur, and not their terrible sharpness; as who\n",
    "should take the whole field of Arda for the foundation of a\n",
    "pillar and so raise it until the cone of its summit were more\n",
    "bitter than a needle; or who consider only the immeasurable\n",
    "vastness of the World, which still the Ainur are shaping, and\n",
    "not the minute precision to which they shape all things\n",
    "therein. But when the Ainur had beheld this habitation in a\n",
    "vision and had seen the Children of Ilu´vatar arise therein,\n",
    "then many of the most mighty among them bent all their\n",
    "thought and their desire towards that place. And of these\n",
    "Melkor was the chief, even as he was in the beginning the\n",
    "greatest of the Ainur who took part in the Music. And he\n",
    "feigned, even to himself at first, that he desired to go thither\n",
    "and order all things for the good of the Children of Ilu´vatar,\n",
    "controlling the turmoils of the heat and the cold that had\n",
    "come to pass through him. But he desired rather to subdue\n",
    "to his will both Elves and Men, envying the gifts with which\n",
    "Ilu´vatar promised to endow them; and he wished himself to\n",
    "have subjects and servants, and to be called Lord, and to be\n",
    "a master over other wills.\n",
    "But the other Ainur looked upon this habitation set within\n",
    "the vast spaces of the World, which the Elves call Arda,\n",
    "the Earth; and their hearts rejoiced in light, and their eyes\n",
    "beholding many colours were filled with gladness; but\n",
    "because of the roaring of the sea they felt a great unquiet.\n",
    "And they observed the winds and the air, and the matters of\n",
    "which Arda was made, of iron and stone and silver and gold\n",
    "and many substances: but of all these water they most greatly\n",
    "praised. And it is said by the Eldar that in water there lives\n",
    "yet the echo of the Music of the Ainur more than in any\n",
    "substance else that is in this Earth; and many of the Children\n",
    "of Ilu´vatar hearken still unsated to the voices of the Sea, and\n",
    "yet know not for what they listen.\n",
    "Now to water had that Ainu whom the Elves call Ulmo\n",
    "turned his thought, and of all most deeply was he instructed\n",
    "by Ilu´vatar in music. But of the airs and winds Manwe¨ most\n",
    "had pondered, who is the noblest of the Ainur. Of the fabric\n",
    "of Earth had Aule¨ thought, to whom Ilu´vatar had given skill\n",
    "and knowledge scare less than to Melkor; but the delight and\n",
    "pride of Aule¨ is in the deed of making, and in the thing made,\n",
    "and neither in possession nor in his own mastery; wherefore\n",
    "he gives and hoards not, and is free from care, passing ever\n",
    "on to some new work.\n",
    "And Ilu´vatar spoke to Ulmo, and said: ‘Seest thou not how\n",
    "here in this little realm in the Deeps of Time Melkor hath\n",
    "made war upon thy province? He hath bethought him of\n",
    "bitter cold immoderate, and yet hath not destroyed the beauty\n",
    "of thy fountains, nor of thy clear pools. Behold the snow,\n",
    "and the cunning work of frost! Melkor hath devised heats\n",
    "and fire without restraint, and hath not dried up thy desire\n",
    "nor utterly quelled the music of the sea. Behold rather the\n",
    "height and glory of the clouds, and the everchanging mists;\n",
    "and listen to the fall of rain upon the Earth! And in these\n",
    "clouds thou art drawn nearer to Manwe¨, thy friend, whom\n",
    "thou lovest.’\n",
    "Then Ulmo answered: ‘Truly, Water is become now fairer\n",
    "than my heart imagined, neither had my secret thought conceived\n",
    "the snowflake, nor in all my music was contained the\n",
    "falling of the rain. I will seek Manwe¨, that he and I may make\n",
    "melodies for ever to thy delight!’ And Manwe¨ and Ulmo have\n",
    "from the beginning been allied, and in all things have served\n",
    "most faithfully the purpose of Ilu´vatar.\n",
    "But even as Ulmo spoke, and while the Ainur were yet\n",
    "gazing upon this vision, it was taken away and hidden from\n",
    "their sight; and it seemed to them that in that moment they\n",
    "perceived a new thing, Darkness, which they had not known\n",
    "before except in thought. But they had become enamoured\n",
    "of the beauty of the vision and engrossed in the unfolding\n",
    "of the World which came there to being, and their minds\n",
    "were filled with it; for the history was incomplete and the\n",
    "circles of time not full-wrought when the vision was taken\n",
    "away. And some have said that the vision ceased ere the\n",
    "fulfilment of the Dominion of Men and the fading of the\n",
    "Firstborn; wherefore, though the Music is over all, the Valar\n",
    "have not seen as with sight the Later Ages or the ending of\n",
    "the World.\n",
    "Then there was unrest among the Ainur; but Ilu´vatar called\n",
    "to them, and said: ‘I know the desire of your minds that what\n",
    "ye have seen should verily be, not only in your thought, but\n",
    "even as ye yourselves are, and yet other. Therefore I say: Ea¨!\n",
    "Let these things Be! And I will send forth into the Void the\n",
    "Flame Imperishable, and it shall be at the heart of the World,\n",
    "and the World shall Be; and those of you that will may go\n",
    "down into it.’ And suddenly the Ainur saw afar off a light,\n",
    "as it were a cloud with a living heart of flame; and they knew\n",
    "that this was no vision only, but that Ilu´vatar had made a\n",
    "new thing: Ea¨, the World that Is.\"\"\".replace(\"\\n\", \" \")"
   ]
  },
  {
   "cell_type": "markdown",
   "metadata": {
    "colab_type": "text",
    "id": "Tb2vn6GldyWo"
   },
   "source": [
    "\n",
    "\n",
    "1. Make a vocabulary that for each token contains the number of its occurencies in above text. Store the vocabulary as a list of tuples. Sort this vocabulary by the number of occurences, from biggest to smallest. Return the second most popular word from the dictionary. Use word_tokenize from nltk.\n",
    "\n",
    "2. Repeat this process, but this time also convert all tokens to lowercase and lemmatize all tokens as verbs.\n",
    "\n",
    "3. Use sentence tokenizer (nltk.sent_tokenize) to find the longest sentence (with respect to number of characters) in the text and return the number of words in this sentence (excluding punctuation!)\n",
    "\n",
    "4. Read about [different tokenizers](https://www.nltk.org/api/nltk.tokenize.html) from NLTK. Give example of sentence, that would be tokenized better by TweetTokenizer().tokenize() and a sentence that would be better after word_tokenize().\n"
   ]
  },
  {
   "cell_type": "code",
   "execution_count": 64,
   "metadata": {},
   "outputs": [],
   "source": [
    "def create_dictionary(words):\n",
    "    word_freq = {}\n",
    "    for word in words:\n",
    "        if word not in word_freq:\n",
    "            word_freq[word] = 0\n",
    "        word_freq[word] += 1\n",
    "    return word_freq\n",
    "\n",
    "words = nltk.word_tokenize(text_1)\n"
   ]
  },
  {
   "cell_type": "code",
   "execution_count": 65,
   "metadata": {
    "colab": {},
    "colab_type": "code",
    "id": "57F0W2O4jzZh"
   },
   "outputs": [
    {
     "name": "stdout",
     "output_type": "stream",
     "text": [
      "['Now', 'the', 'Children', 'of', 'Ilu´vatar', 'are', 'Elves', 'and', 'Men', ',', 'the', 'Firstborn', 'and', 'the', 'Followers', '.', 'And', 'amid', 'all', 'the', 'splendours', 'of', 'the', 'World', ',', 'its', 'vast', 'halls', 'and', 'spaces', ',', 'and', 'its', 'wheeling', 'fires', ',', 'Ilu´vatar', 'chose', 'a', 'place', 'for', 'their', 'habitation', 'in', 'the', 'Deeps', 'of', 'Time', 'and', 'in', 'the', 'midst', 'of', 'the', 'innumerable', 'stars', '.', 'And', 'this', 'habitation', 'might', 'seem', 'a', 'little', 'thing', 'to', 'those', 'who', 'consider', 'only', 'the', 'majesty', 'of', 'the', 'Ainur', ',', 'and', 'not', 'their', 'terrible', 'sharpness', ';', 'as', 'who', 'should', 'take', 'the', 'whole', 'field', 'of', 'Arda', 'for', 'the', 'foundation', 'of', 'a', 'pillar', 'and', 'so', 'raise', 'it', 'until', 'the', 'cone', 'of', 'its', 'summit', 'were', 'more', 'bitter', 'than', 'a', 'needle', ';', 'or', 'who', 'consider', 'only', 'the', 'immeasurable', 'vastness', 'of', 'the', 'World', ',', 'which', 'still', 'the', 'Ainur', 'are', 'shaping', ',', 'and', 'not', 'the', 'minute', 'precision', 'to', 'which', 'they', 'shape', 'all', 'things', 'therein', '.', 'But', 'when', 'the', 'Ainur', 'had', 'beheld', 'this', 'habitation', 'in', 'a', 'vision', 'and', 'had', 'seen', 'the', 'Children', 'of', 'Ilu´vatar', 'arise', 'therein', ',', 'then', 'many', 'of', 'the', 'most', 'mighty', 'among', 'them', 'bent', 'all', 'their', 'thought', 'and', 'their', 'desire', 'towards', 'that', 'place', '.', 'And', 'of', 'these', 'Melkor', 'was', 'the', 'chief', ',', 'even', 'as', 'he', 'was', 'in', 'the', 'beginning', 'the', 'greatest', 'of', 'the', 'Ainur', 'who', 'took', 'part', 'in', 'the', 'Music', '.', 'And', 'he', 'feigned', ',', 'even', 'to', 'himself', 'at', 'first', ',', 'that', 'he', 'desired', 'to', 'go', 'thither', 'and', 'order', 'all', 'things', 'for', 'the', 'good', 'of', 'the', 'Children', 'of', 'Ilu´vatar', ',', 'controlling', 'the', 'turmoils', 'of', 'the', 'heat', 'and', 'the', 'cold', 'that', 'had', 'come', 'to', 'pass', 'through', 'him', '.', 'But', 'he', 'desired', 'rather', 'to', 'subdue', 'to', 'his', 'will', 'both', 'Elves', 'and', 'Men', ',', 'envying', 'the', 'gifts', 'with', 'which', 'Ilu´vatar', 'promised', 'to', 'endow', 'them', ';', 'and', 'he', 'wished', 'himself', 'to', 'have', 'subjects', 'and', 'servants', ',', 'and', 'to', 'be', 'called', 'Lord', ',', 'and', 'to', 'be', 'a', 'master', 'over', 'other', 'wills', '.', 'But', 'the', 'other', 'Ainur', 'looked', 'upon', 'this', 'habitation', 'set', 'within', 'the', 'vast', 'spaces', 'of', 'the', 'World', ',', 'which', 'the', 'Elves', 'call', 'Arda', ',', 'the', 'Earth', ';', 'and', 'their', 'hearts', 'rejoiced', 'in', 'light', ',', 'and', 'their', 'eyes', 'beholding', 'many', 'colours', 'were', 'filled', 'with', 'gladness', ';', 'but', 'because', 'of', 'the', 'roaring', 'of', 'the', 'sea', 'they', 'felt', 'a', 'great', 'unquiet', '.', 'And', 'they', 'observed', 'the', 'winds', 'and', 'the', 'air', ',', 'and', 'the', 'matters', 'of', 'which', 'Arda', 'was', 'made', ',', 'of', 'iron', 'and', 'stone', 'and', 'silver', 'and', 'gold', 'and', 'many', 'substances', ':', 'but', 'of', 'all', 'these', 'water', 'they', 'most', 'greatly', 'praised', '.', 'And', 'it', 'is', 'said', 'by', 'the', 'Eldar', 'that', 'in', 'water', 'there', 'lives', 'yet', 'the', 'echo', 'of', 'the', 'Music', 'of', 'the', 'Ainur', 'more', 'than', 'in', 'any', 'substance', 'else', 'that', 'is', 'in', 'this', 'Earth', ';', 'and', 'many', 'of', 'the', 'Children', 'of', 'Ilu´vatar', 'hearken', 'still', 'unsated', 'to', 'the', 'voices', 'of', 'the', 'Sea', ',', 'and', 'yet', 'know', 'not', 'for', 'what', 'they', 'listen', '.', 'Now', 'to', 'water', 'had', 'that', 'Ainu', 'whom', 'the', 'Elves', 'call', 'Ulmo', 'turned', 'his', 'thought', ',', 'and', 'of', 'all', 'most', 'deeply', 'was', 'he', 'instructed', 'by', 'Ilu´vatar', 'in', 'music', '.', 'But', 'of', 'the', 'airs', 'and', 'winds', 'Manwe¨', 'most', 'had', 'pondered', ',', 'who', 'is', 'the', 'noblest', 'of', 'the', 'Ainur', '.', 'Of', 'the', 'fabric', 'of', 'Earth', 'had', 'Aule¨', 'thought', ',', 'to', 'whom', 'Ilu´vatar', 'had', 'given', 'skill', 'and', 'knowledge', 'scare', 'less', 'than', 'to', 'Melkor', ';', 'but', 'the', 'delight', 'and', 'pride', 'of', 'Aule¨', 'is', 'in', 'the', 'deed', 'of', 'making', ',', 'and', 'in', 'the', 'thing', 'made', ',', 'and', 'neither', 'in', 'possession', 'nor', 'in', 'his', 'own', 'mastery', ';', 'wherefore', 'he', 'gives', 'and', 'hoards', 'not', ',', 'and', 'is', 'free', 'from', 'care', ',', 'passing', 'ever', 'on', 'to', 'some', 'new', 'work', '.', 'And', 'Ilu´vatar', 'spoke', 'to', 'Ulmo', ',', 'and', 'said', ':', '‘', 'Seest', 'thou', 'not', 'how', 'here', 'in', 'this', 'little', 'realm', 'in', 'the', 'Deeps', 'of', 'Time', 'Melkor', 'hath', 'made', 'war', 'upon', 'thy', 'province', '?', 'He', 'hath', 'bethought', 'him', 'of', 'bitter', 'cold', 'immoderate', ',', 'and', 'yet', 'hath', 'not', 'destroyed', 'the', 'beauty', 'of', 'thy', 'fountains', ',', 'nor', 'of', 'thy', 'clear', 'pools', '.', 'Behold', 'the', 'snow', ',', 'and', 'the', 'cunning', 'work', 'of', 'frost', '!', 'Melkor', 'hath', 'devised', 'heats', 'and', 'fire', 'without', 'restraint', ',', 'and', 'hath', 'not', 'dried', 'up', 'thy', 'desire', 'nor', 'utterly', 'quelled', 'the', 'music', 'of', 'the', 'sea', '.', 'Behold', 'rather', 'the', 'height', 'and', 'glory', 'of', 'the', 'clouds', ',', 'and', 'the', 'everchanging', 'mists', ';', 'and', 'listen', 'to', 'the', 'fall', 'of', 'rain', 'upon', 'the', 'Earth', '!', 'And', 'in', 'these', 'clouds', 'thou', 'art', 'drawn', 'nearer', 'to', 'Manwe¨', ',', 'thy', 'friend', ',', 'whom', 'thou', 'lovest.', '’', 'Then', 'Ulmo', 'answered', ':', '‘', 'Truly', ',', 'Water', 'is', 'become', 'now', 'fairer', 'than', 'my', 'heart', 'imagined', ',', 'neither', 'had', 'my', 'secret', 'thought', 'conceived', 'the', 'snowflake', ',', 'nor', 'in', 'all', 'my', 'music', 'was', 'contained', 'the', 'falling', 'of', 'the', 'rain', '.', 'I', 'will', 'seek', 'Manwe¨', ',', 'that', 'he', 'and', 'I', 'may', 'make', 'melodies', 'for', 'ever', 'to', 'thy', 'delight', '!', '’', 'And', 'Manwe¨', 'and', 'Ulmo', 'have', 'from', 'the', 'beginning', 'been', 'allied', ',', 'and', 'in', 'all', 'things', 'have', 'served', 'most', 'faithfully', 'the', 'purpose', 'of', 'Ilu´vatar', '.', 'But', 'even', 'as', 'Ulmo', 'spoke', ',', 'and', 'while', 'the', 'Ainur', 'were', 'yet', 'gazing', 'upon', 'this', 'vision', ',', 'it', 'was', 'taken', 'away', 'and', 'hidden', 'from', 'their', 'sight', ';', 'and', 'it', 'seemed', 'to', 'them', 'that', 'in', 'that', 'moment', 'they', 'perceived', 'a', 'new', 'thing', ',', 'Darkness', ',', 'which', 'they', 'had', 'not', 'known', 'before', 'except', 'in', 'thought', '.', 'But', 'they', 'had', 'become', 'enamoured', 'of', 'the', 'beauty', 'of', 'the', 'vision', 'and', 'engrossed', 'in', 'the', 'unfolding', 'of', 'the', 'World', 'which', 'came', 'there', 'to', 'being', ',', 'and', 'their', 'minds', 'were', 'filled', 'with', 'it', ';', 'for', 'the', 'history', 'was', 'incomplete', 'and', 'the', 'circles', 'of', 'time', 'not', 'full-wrought', 'when', 'the', 'vision', 'was', 'taken', 'away', '.', 'And', 'some', 'have', 'said', 'that', 'the', 'vision', 'ceased', 'ere', 'the', 'fulfilment', 'of', 'the', 'Dominion', 'of', 'Men', 'and', 'the', 'fading', 'of', 'the', 'Firstborn', ';', 'wherefore', ',', 'though', 'the', 'Music', 'is', 'over', 'all', ',', 'the', 'Valar', 'have', 'not', 'seen', 'as', 'with', 'sight', 'the', 'Later', 'Ages', 'or', 'the', 'ending', 'of', 'the', 'World', '.', 'Then', 'there', 'was', 'unrest', 'among', 'the', 'Ainur', ';', 'but', 'Ilu´vatar', 'called', 'to', 'them', ',', 'and', 'said', ':', '‘', 'I', 'know', 'the', 'desire', 'of', 'your', 'minds', 'that', 'what', 'ye', 'have', 'seen', 'should', 'verily', 'be', ',', 'not', 'only', 'in', 'your', 'thought', ',', 'but', 'even', 'as', 'ye', 'yourselves', 'are', ',', 'and', 'yet', 'other', '.', 'Therefore', 'I', 'say', ':', 'Ea¨', '!', 'Let', 'these', 'things', 'Be', '!', 'And', 'I', 'will', 'send', 'forth', 'into', 'the', 'Void', 'the', 'Flame', 'Imperishable', ',', 'and', 'it', 'shall', 'be', 'at', 'the', 'heart', 'of', 'the', 'World', ',', 'and', 'the', 'World', 'shall', 'Be', ';', 'and', 'those', 'of', 'you', 'that', 'will', 'may', 'go', 'down', 'into', 'it.', '’', 'And', 'suddenly', 'the', 'Ainur', 'saw', 'afar', 'off', 'a', 'light', ',', 'as', 'it', 'were', 'a', 'cloud', 'with', 'a', 'living', 'heart', 'of', 'flame', ';', 'and', 'they', 'knew', 'that', 'this', 'was', 'no', 'vision', 'only', ',', 'but', 'that', 'Ilu´vatar', 'had', 'made', 'a', 'new', 'thing', ':', 'Ea¨', ',', 'the', 'World', 'that', 'Is', '.']\n",
      "1113\n",
      "{'Now': 2, 'the': 99, 'Children': 4, 'of': 55, 'Ilu´vatar': 12, 'are': 3, 'Elves': 4, 'and': 59, 'Men': 3, ',': 57, 'Firstborn': 2, 'Followers': 1, '.': 22, 'And': 12, 'amid': 1, 'all': 9, 'splendours': 1, 'World': 8, 'its': 3, 'vast': 2, 'halls': 1, 'spaces': 2, 'wheeling': 1, 'fires': 1, 'chose': 1, 'a': 12, 'place': 2, 'for': 6, 'their': 8, 'habitation': 4, 'in': 23, 'Deeps': 2, 'Time': 2, 'midst': 1, 'innumerable': 1, 'stars': 1, 'this': 7, 'might': 1, 'seem': 1, 'little': 2, 'thing': 4, 'to': 23, 'those': 2, 'who': 5, 'consider': 2, 'only': 4, 'majesty': 1, 'Ainur': 10, 'not': 11, 'terrible': 1, 'sharpness': 1, ';': 15, 'as': 6, 'should': 2, 'take': 1, 'whole': 1, 'field': 1, 'Arda': 3, 'foundation': 1, 'pillar': 1, 'so': 1, 'raise': 1, 'it': 7, 'until': 1, 'cone': 1, 'summit': 1, 'were': 5, 'more': 2, 'bitter': 2, 'than': 4, 'needle': 1, 'or': 2, 'immeasurable': 1, 'vastness': 1, 'which': 7, 'still': 2, 'shaping': 1, 'minute': 1, 'precision': 1, 'they': 9, 'shape': 1, 'things': 4, 'therein': 2, 'But': 6, 'when': 2, 'had': 11, 'beheld': 1, 'vision': 6, 'seen': 3, 'arise': 1, 'then': 1, 'many': 4, 'most': 5, 'mighty': 1, 'among': 2, 'them': 4, 'bent': 1, 'thought': 6, 'desire': 3, 'towards': 1, 'that': 15, 'these': 4, 'Melkor': 4, 'was': 10, 'chief': 1, 'even': 4, 'he': 8, 'beginning': 2, 'greatest': 1, 'took': 1, 'part': 1, 'Music': 3, 'feigned': 1, 'himself': 2, 'at': 2, 'first': 1, 'desired': 2, 'go': 2, 'thither': 1, 'order': 1, 'good': 1, 'controlling': 1, 'turmoils': 1, 'heat': 1, 'cold': 2, 'come': 1, 'pass': 1, 'through': 1, 'him': 2, 'rather': 2, 'subdue': 1, 'his': 3, 'will': 4, 'both': 1, 'envying': 1, 'gifts': 1, 'with': 5, 'promised': 1, 'endow': 1, 'wished': 1, 'have': 6, 'subjects': 1, 'servants': 1, 'be': 4, 'called': 2, 'Lord': 1, 'master': 1, 'over': 2, 'other': 3, 'wills': 1, 'looked': 1, 'upon': 4, 'set': 1, 'within': 1, 'call': 2, 'Earth': 4, 'hearts': 1, 'rejoiced': 1, 'light': 2, 'eyes': 1, 'beholding': 1, 'colours': 1, 'filled': 2, 'gladness': 1, 'but': 6, 'because': 1, 'roaring': 1, 'sea': 2, 'felt': 1, 'great': 1, 'unquiet': 1, 'observed': 1, 'winds': 2, 'air': 1, 'matters': 1, 'made': 4, 'iron': 1, 'stone': 1, 'silver': 1, 'gold': 1, 'substances': 1, ':': 6, 'water': 3, 'greatly': 1, 'praised': 1, 'is': 7, 'said': 4, 'by': 2, 'Eldar': 1, 'there': 3, 'lives': 1, 'yet': 5, 'echo': 1, 'any': 1, 'substance': 1, 'else': 1, 'hearken': 1, 'unsated': 1, 'voices': 1, 'Sea': 1, 'know': 2, 'what': 2, 'listen': 2, 'Ainu': 1, 'whom': 3, 'Ulmo': 5, 'turned': 1, 'deeply': 1, 'instructed': 1, 'music': 3, 'airs': 1, 'Manwe¨': 4, 'pondered': 1, 'noblest': 1, 'Of': 1, 'fabric': 1, 'Aule¨': 2, 'given': 1, 'skill': 1, 'knowledge': 1, 'scare': 1, 'less': 1, 'delight': 2, 'pride': 1, 'deed': 1, 'making': 1, 'neither': 2, 'possession': 1, 'nor': 4, 'own': 1, 'mastery': 1, 'wherefore': 2, 'gives': 1, 'hoards': 1, 'free': 1, 'from': 3, 'care': 1, 'passing': 1, 'ever': 2, 'on': 1, 'some': 2, 'new': 3, 'work': 2, 'spoke': 2, '‘': 3, 'Seest': 1, 'thou': 3, 'how': 1, 'here': 1, 'realm': 1, 'hath': 5, 'war': 1, 'thy': 6, 'province': 1, '?': 1, 'He': 1, 'bethought': 1, 'immoderate': 1, 'destroyed': 1, 'beauty': 2, 'fountains': 1, 'clear': 1, 'pools': 1, 'Behold': 2, 'snow': 1, 'cunning': 1, 'frost': 1, '!': 5, 'devised': 1, 'heats': 1, 'fire': 1, 'without': 1, 'restraint': 1, 'dried': 1, 'up': 1, 'utterly': 1, 'quelled': 1, 'height': 1, 'glory': 1, 'clouds': 2, 'everchanging': 1, 'mists': 1, 'fall': 1, 'rain': 2, 'art': 1, 'drawn': 1, 'nearer': 1, 'friend': 1, 'lovest.': 1, '’': 3, 'Then': 2, 'answered': 1, 'Truly': 1, 'Water': 1, 'become': 2, 'now': 1, 'fairer': 1, 'my': 3, 'heart': 3, 'imagined': 1, 'secret': 1, 'conceived': 1, 'snowflake': 1, 'contained': 1, 'falling': 1, 'I': 5, 'seek': 1, 'may': 2, 'make': 1, 'melodies': 1, 'been': 1, 'allied': 1, 'served': 1, 'faithfully': 1, 'purpose': 1, 'while': 1, 'gazing': 1, 'taken': 2, 'away': 2, 'hidden': 1, 'sight': 2, 'seemed': 1, 'moment': 1, 'perceived': 1, 'Darkness': 1, 'known': 1, 'before': 1, 'except': 1, 'enamoured': 1, 'engrossed': 1, 'unfolding': 1, 'came': 1, 'being': 1, 'minds': 2, 'history': 1, 'incomplete': 1, 'circles': 1, 'time': 1, 'full-wrought': 1, 'ceased': 1, 'ere': 1, 'fulfilment': 1, 'Dominion': 1, 'fading': 1, 'though': 1, 'Valar': 1, 'Later': 1, 'Ages': 1, 'ending': 1, 'unrest': 1, 'your': 2, 'ye': 2, 'verily': 1, 'yourselves': 1, 'Therefore': 1, 'say': 1, 'Ea¨': 2, 'Let': 1, 'Be': 2, 'send': 1, 'forth': 1, 'into': 2, 'Void': 1, 'Flame': 1, 'Imperishable': 1, 'shall': 2, 'you': 1, 'down': 1, 'it.': 1, 'suddenly': 1, 'saw': 1, 'afar': 1, 'off': 1, 'cloud': 1, 'living': 1, 'flame': 1, 'knew': 1, 'no': 1, 'Is': 1}\n",
      "[('the', 99), ('and', 59), (',', 57), ('of', 55), ('in', 23), ('to', 23), ('.', 22), (';', 15), ('that', 15), ('Ilu´vatar', 12), ('And', 12), ('a', 12), ('not', 11), ('had', 11), ('Ainur', 10), ('was', 10), ('all', 9), ('they', 9), ('World', 8), ('their', 8), ('he', 8), ('this', 7), ('it', 7), ('which', 7), ('is', 7), ('for', 6), ('as', 6), ('But', 6), ('vision', 6), ('thought', 6), ('have', 6), ('but', 6), (':', 6), ('thy', 6), ('who', 5), ('were', 5), ('most', 5), ('with', 5), ('yet', 5), ('Ulmo', 5), ('hath', 5), ('!', 5), ('I', 5), ('Children', 4), ('Elves', 4), ('habitation', 4), ('thing', 4), ('only', 4), ('than', 4), ('things', 4), ('many', 4), ('them', 4), ('these', 4), ('Melkor', 4), ('even', 4), ('will', 4), ('be', 4), ('upon', 4), ('Earth', 4), ('made', 4), ('said', 4), ('Manwe¨', 4), ('nor', 4), ('are', 3), ('Men', 3), ('its', 3), ('Arda', 3), ('seen', 3), ('desire', 3), ('Music', 3), ('his', 3), ('other', 3), ('water', 3), ('there', 3), ('whom', 3), ('music', 3), ('from', 3), ('new', 3), ('‘', 3), ('thou', 3), ('’', 3), ('my', 3), ('heart', 3), ('Now', 2), ('Firstborn', 2), ('vast', 2), ('spaces', 2), ('place', 2), ('Deeps', 2), ('Time', 2), ('little', 2), ('those', 2), ('consider', 2), ('should', 2), ('more', 2), ('bitter', 2), ('or', 2), ('still', 2), ('therein', 2), ('when', 2), ('among', 2), ('beginning', 2), ('himself', 2), ('at', 2), ('desired', 2), ('go', 2), ('cold', 2), ('him', 2), ('rather', 2), ('called', 2), ('over', 2), ('call', 2), ('light', 2), ('filled', 2), ('sea', 2), ('winds', 2), ('by', 2), ('know', 2), ('what', 2), ('listen', 2), ('Aule¨', 2), ('delight', 2), ('neither', 2), ('wherefore', 2), ('ever', 2), ('some', 2), ('work', 2), ('spoke', 2), ('beauty', 2), ('Behold', 2), ('clouds', 2), ('rain', 2), ('Then', 2), ('become', 2), ('may', 2), ('taken', 2), ('away', 2), ('sight', 2), ('minds', 2), ('your', 2), ('ye', 2), ('Ea¨', 2), ('Be', 2), ('into', 2), ('shall', 2), ('Followers', 1), ('amid', 1), ('splendours', 1), ('halls', 1), ('wheeling', 1), ('fires', 1), ('chose', 1), ('midst', 1), ('innumerable', 1), ('stars', 1), ('might', 1), ('seem', 1), ('majesty', 1), ('terrible', 1), ('sharpness', 1), ('take', 1), ('whole', 1), ('field', 1), ('foundation', 1), ('pillar', 1), ('so', 1), ('raise', 1), ('until', 1), ('cone', 1), ('summit', 1), ('needle', 1), ('immeasurable', 1), ('vastness', 1), ('shaping', 1), ('minute', 1), ('precision', 1), ('shape', 1), ('beheld', 1), ('arise', 1), ('then', 1), ('mighty', 1), ('bent', 1), ('towards', 1), ('chief', 1), ('greatest', 1), ('took', 1), ('part', 1), ('feigned', 1), ('first', 1), ('thither', 1), ('order', 1), ('good', 1), ('controlling', 1), ('turmoils', 1), ('heat', 1), ('come', 1), ('pass', 1), ('through', 1), ('subdue', 1), ('both', 1), ('envying', 1), ('gifts', 1), ('promised', 1), ('endow', 1), ('wished', 1), ('subjects', 1), ('servants', 1), ('Lord', 1), ('master', 1), ('wills', 1), ('looked', 1), ('set', 1), ('within', 1), ('hearts', 1), ('rejoiced', 1), ('eyes', 1), ('beholding', 1), ('colours', 1), ('gladness', 1), ('because', 1), ('roaring', 1), ('felt', 1), ('great', 1), ('unquiet', 1), ('observed', 1), ('air', 1), ('matters', 1), ('iron', 1), ('stone', 1), ('silver', 1), ('gold', 1), ('substances', 1), ('greatly', 1), ('praised', 1), ('Eldar', 1), ('lives', 1), ('echo', 1), ('any', 1), ('substance', 1), ('else', 1), ('hearken', 1), ('unsated', 1), ('voices', 1), ('Sea', 1), ('Ainu', 1), ('turned', 1), ('deeply', 1), ('instructed', 1), ('airs', 1), ('pondered', 1), ('noblest', 1), ('Of', 1), ('fabric', 1), ('given', 1), ('skill', 1), ('knowledge', 1), ('scare', 1), ('less', 1), ('pride', 1), ('deed', 1), ('making', 1), ('possession', 1), ('own', 1), ('mastery', 1), ('gives', 1), ('hoards', 1), ('free', 1), ('care', 1), ('passing', 1), ('on', 1), ('Seest', 1), ('how', 1), ('here', 1), ('realm', 1), ('war', 1), ('province', 1), ('?', 1), ('He', 1), ('bethought', 1), ('immoderate', 1), ('destroyed', 1), ('fountains', 1), ('clear', 1), ('pools', 1), ('snow', 1), ('cunning', 1), ('frost', 1), ('devised', 1), ('heats', 1), ('fire', 1), ('without', 1), ('restraint', 1), ('dried', 1), ('up', 1), ('utterly', 1), ('quelled', 1), ('height', 1), ('glory', 1), ('everchanging', 1), ('mists', 1), ('fall', 1), ('art', 1), ('drawn', 1), ('nearer', 1), ('friend', 1), ('lovest.', 1), ('answered', 1), ('Truly', 1), ('Water', 1), ('now', 1), ('fairer', 1), ('imagined', 1), ('secret', 1), ('conceived', 1), ('snowflake', 1), ('contained', 1), ('falling', 1), ('seek', 1), ('make', 1), ('melodies', 1), ('been', 1), ('allied', 1), ('served', 1), ('faithfully', 1), ('purpose', 1), ('while', 1), ('gazing', 1), ('hidden', 1), ('seemed', 1), ('moment', 1), ('perceived', 1), ('Darkness', 1), ('known', 1), ('before', 1), ('except', 1), ('enamoured', 1), ('engrossed', 1), ('unfolding', 1), ('came', 1), ('being', 1), ('history', 1), ('incomplete', 1), ('circles', 1), ('time', 1), ('full-wrought', 1), ('ceased', 1), ('ere', 1), ('fulfilment', 1), ('Dominion', 1), ('fading', 1), ('though', 1), ('Valar', 1), ('Later', 1), ('Ages', 1), ('ending', 1), ('unrest', 1), ('verily', 1), ('yourselves', 1), ('Therefore', 1), ('say', 1), ('Let', 1), ('send', 1), ('forth', 1), ('Void', 1), ('Flame', 1), ('Imperishable', 1), ('you', 1), ('down', 1), ('it.', 1), ('suddenly', 1), ('saw', 1), ('afar', 1), ('off', 1), ('cloud', 1), ('living', 1), ('flame', 1), ('knew', 1), ('no', 1), ('Is', 1)]\n",
      "379\n"
     ]
    }
   ],
   "source": [
    "# 1. Tokenize the text into words\n",
    "print(words)\n",
    "print(len(words))\n",
    "print(create_dictionary(words))\n",
    "list_of_words_1 = [(word, freq) for word, freq in create_dictionary(words).items()]\n",
    "sorted_list_1 = sorted(list_of_words_1, key=lambda x: x[1], reverse=True)\n",
    "print(sorted_list_1)\n",
    "print(len(sorted_list_1))"
   ]
  },
  {
   "cell_type": "code",
   "execution_count": 66,
   "metadata": {},
   "outputs": [
    {
     "name": "stdout",
     "output_type": "stream",
     "text": [
      "[('the', 99), ('and', 71), (',', 57), ('of', 56), ('be', 34), ('in', 23), ('to', 23), ('.', 22), ('have', 17), (';', 15), ('that', 15), ('ilu´vatar', 12), ('a', 12), ('but', 12), ('not', 11), ('ainur', 10), ('all', 9), ('they', 9), ('he', 9), ('world', 8), ('their', 8), ('this', 7), ('it', 7), ('which', 7), ('for', 6), ('as', 6), ('vision', 6), ('think', 6), ('music', 6), ('make', 6), (':', 6), ('thy', 6), ('who', 5), ('most', 5), ('desire', 5), ('will', 5), ('with', 5), ('say', 5), ('yet', 5), ('ulmo', 5), ('hath', 5), ('!', 5), ('i', 5), ('children', 4), ('elves', 4), ('habitation', 4), ('thing', 4), ('only', 4), ('take', 4), ('than', 4), ('things', 4), ('behold', 4), ('many', 4), ('them', 4), ('these', 4), ('melkor', 4), ('even', 4), ('call', 4), ('upon', 4), ('earth', 4), ('water', 4), ('know', 4), ('manwe¨', 4), ('nor', 4), ('now', 3), ('men', 3), ('its', 3), ('time', 3), ('arda', 3), ('see', 3), ('then', 3), ('his', 3), ('other', 3), ('sea', 3), ('there', 3), ('whom', 3), ('from', 3), ('new', 3), ('‘', 3), ('thou', 3), ('cloud', 3), ('’', 3), ('my', 3), ('heart', 3), ('firstborn', 2), ('vast', 2), ('space', 2), ('fire', 2), ('place', 2), ('deeps', 2), ('seem', 2), ('little', 2), ('those', 2), ('consider', 2), ('should', 2), ('more', 2), ('bitter', 2), ('or', 2), ('still', 2), ('shape', 2), ('therein', 2), ('when', 2), ('among', 2), ('begin', 2), ('himself', 2), ('at', 2), ('go', 2), ('heat', 2), ('cold', 2), ('come', 2), ('pass', 2), ('him', 2), ('rather', 2), ('over', 2), ('light', 2), ('fill', 2), ('wind', 2), ('air', 2), ('by', 2), ('live', 2), ('what', 2), ('listen', 2), ('aule¨', 2), ('give', 2), ('delight', 2), ('neither', 2), ('wherefore', 2), ('ever', 2), ('some', 2), ('work', 2), ('speak', 2), ('beauty', 2), ('fall', 2), ('rain', 2), ('become', 2), ('may', 2), ('away', 2), ('sight', 2), ('mind', 2), ('your', 2), ('ye', 2), ('ea¨', 2), ('into', 2), ('flame', 2), ('shall', 2), ('followers', 1), ('amid', 1), ('splendours', 1), ('halls', 1), ('wheel', 1), ('choose', 1), ('midst', 1), ('innumerable', 1), ('star', 1), ('might', 1), ('majesty', 1), ('terrible', 1), ('sharpness', 1), ('whole', 1), ('field', 1), ('foundation', 1), ('pillar', 1), ('so', 1), ('raise', 1), ('until', 1), ('cone', 1), ('summit', 1), ('needle', 1), ('immeasurable', 1), ('vastness', 1), ('minute', 1), ('precision', 1), ('arise', 1), ('mighty', 1), ('bend', 1), ('towards', 1), ('chief', 1), ('greatest', 1), ('part', 1), ('feign', 1), ('first', 1), ('thither', 1), ('order', 1), ('good', 1), ('control', 1), ('turmoils', 1), ('through', 1), ('subdue', 1), ('both', 1), ('envy', 1), ('gift', 1), ('promise', 1), ('endow', 1), ('wish', 1), ('subject', 1), ('servants', 1), ('lord', 1), ('master', 1), ('look', 1), ('set', 1), ('within', 1), ('hearts', 1), ('rejoice', 1), ('eye', 1), ('colour', 1), ('gladness', 1), ('because', 1), ('roar', 1), ('felt', 1), ('great', 1), ('unquiet', 1), ('observe', 1), ('matter', 1), ('iron', 1), ('stone', 1), ('silver', 1), ('gold', 1), ('substances', 1), ('greatly', 1), ('praise', 1), ('eldar', 1), ('echo', 1), ('any', 1), ('substance', 1), ('else', 1), ('hearken', 1), ('unsated', 1), ('voice', 1), ('ainu', 1), ('turn', 1), ('deeply', 1), ('instruct', 1), ('ponder', 1), ('noblest', 1), ('fabric', 1), ('skill', 1), ('knowledge', 1), ('scare', 1), ('less', 1), ('pride', 1), ('deed', 1), ('possession', 1), ('own', 1), ('mastery', 1), ('hoard', 1), ('free', 1), ('care', 1), ('on', 1), ('seest', 1), ('how', 1), ('here', 1), ('realm', 1), ('war', 1), ('province', 1), ('?', 1), ('bethink', 1), ('immoderate', 1), ('destroy', 1), ('fountains', 1), ('clear', 1), ('pool', 1), ('snow', 1), ('cunning', 1), ('frost', 1), ('devise', 1), ('without', 1), ('restraint', 1), ('dry', 1), ('up', 1), ('utterly', 1), ('quell', 1), ('height', 1), ('glory', 1), ('everchanging', 1), ('mist', 1), ('art', 1), ('draw', 1), ('nearer', 1), ('friend', 1), ('lovest.', 1), ('answer', 1), ('truly', 1), ('fairer', 1), ('imagine', 1), ('secret', 1), ('conceive', 1), ('snowflake', 1), ('contain', 1), ('seek', 1), ('melodies', 1), ('ally', 1), ('serve', 1), ('faithfully', 1), ('purpose', 1), ('while', 1), ('gaze', 1), ('hide', 1), ('moment', 1), ('perceive', 1), ('darkness', 1), ('before', 1), ('except', 1), ('enamour', 1), ('engross', 1), ('unfold', 1), ('history', 1), ('incomplete', 1), ('circle', 1), ('full-wrought', 1), ('cease', 1), ('ere', 1), ('fulfilment', 1), ('dominion', 1), ('fade', 1), ('though', 1), ('valar', 1), ('later', 1), ('age', 1), ('end', 1), ('unrest', 1), ('verily', 1), ('yourselves', 1), ('therefore', 1), ('let', 1), ('send', 1), ('forth', 1), ('void', 1), ('imperishable', 1), ('you', 1), ('down', 1), ('it.', 1), ('suddenly', 1), ('saw', 1), ('afar', 1), ('off', 1), ('no', 1)]\n",
      "336\n"
     ]
    }
   ],
   "source": [
    "# 2. Tokenize the text into words, lemmatize and lowercase\n",
    "words_2 = to_lowercase(words)\n",
    "words_2 = lemmatize_verbs(words_2)\n",
    "\n",
    "list_of_words_2 = [(word, freq) for word, freq in create_dictionary(words_2).items()]\n",
    "sorted_list_2 = sorted(list_of_words_2, key=lambda x: x[1], reverse=True)\n",
    "print(sorted_list_2)\n",
    "print(len(sorted_list_2))"
   ]
  },
  {
   "cell_type": "code",
   "execution_count": 68,
   "metadata": {},
   "outputs": [
    {
     "name": "stdout",
     "output_type": "stream",
     "text": [
      "27\n",
      "[82, 79, 66, 56, 52, 49, 48, 48, 46, 45, 43, 42, 38, 38, 37, 36, 28, 26, 25, 23, 23, 23, 17, 14, 9, 4, 4]\n"
     ]
    }
   ],
   "source": [
    "sentenses =nltk.sent_tokenize(text_1)\n",
    "words_in_sentenses = [nltk.word_tokenize(sentense) for sentense in sentenses]\n",
    "words_in_sentenses_without_punctuation = [remove_punctuation(sentense) for sentense in words_in_sentenses]\n",
    "list_with_sentense_len = sorted([len(sentense) for sentense in words_in_sentenses_without_punctuation], reverse=True)\n",
    "print(len(sentenses))\n",
    "print(list_with_sentense_len)"
   ]
  },
  {
   "cell_type": "code",
   "execution_count": 69,
   "metadata": {
    "colab": {},
    "colab_type": "code",
    "id": "jT6qOuLnj0LL"
   },
   "outputs": [
    {
     "name": "stdout",
     "output_type": "stream",
     "text": [
      "('and', 59)\n",
      "('and', 71)\n"
     ]
    }
   ],
   "source": [
    "# 1\n",
    "vocab_1 = sorted_list_1\n",
    "second_most_popular_1 = sorted_list_1[1]\n",
    "# 2\n",
    "vocab_2 = sorted_list_2\n",
    "second_most_popular_2 = sorted_list_2[1]\n",
    "\n",
    "# 3\n",
    "num_tokens = list_with_sentense_len[0]\n",
    "\n",
    "\n",
    "assert len(vocab_1) == 379\n",
    "assert len(vocab_2) == 336\n",
    "assert num_tokens == 82\n",
    "print(second_most_popular_1)\n",
    "print(second_most_popular_2)"
   ]
  },
  {
   "cell_type": "markdown",
   "metadata": {
    "colab_type": "text",
    "id": "tY477m0kxvqD"
   },
   "source": [
    "## Exercise 2.\n",
    "\n"
   ]
  },
  {
   "cell_type": "code",
   "execution_count": 70,
   "metadata": {
    "colab": {},
    "colab_type": "code",
    "id": "Z77h33bpkxJu"
   },
   "outputs": [],
   "source": [
    "# You can download texts using NLTK :)\n",
    "\n",
    "raw = nltk.corpus.gutenberg.raw(\"burgess-busterbrown.txt\")\n",
    "# print(raw[:500])\n",
    "words = nltk.corpus.gutenberg.words(\"burgess-busterbrown.txt\")\n",
    "# print(words[:20])\n",
    "sents = nltk.corpus.gutenberg.sents(\"burgess-busterbrown.txt\")\n",
    "# print(sents[:5])"
   ]
  },
  {
   "cell_type": "markdown",
   "metadata": {
    "colab_type": "text",
    "id": "PthHXjgcvqa5"
   },
   "source": [
    "Using \"burgess-busterbrown.txt\", do the following:\n",
    "\n",
    "1. Count the number of sentences containing word \"the\" (case insensitive)\n",
    "2. Compute the average token length in the above corpus.\n",
    "3. (Stemming) Read about [Porter](http://snowball.tartarus.org/algorithms/english/stemmer.html) and [Lancaster](https://www.nltk.org/_modules/nltk/stem/lancaster.html) stemmers and (after lowercasing the tokens) find words from above file that have different stemmer outputs.\n",
    "4. (Lemmatization) Perform lemmatization on above corpus. Use POS tagger (defined below) to write a lemmatizer that uses a specific POS tag for each word. Give an example of sentences (from corpus) where using lemmatizer with POS tags is working better than lemmatize_verbs(), that assumes that each word is a verb."
   ]
  },
  {
   "cell_type": "code",
   "execution_count": 80,
   "metadata": {
    "colab": {},
    "colab_type": "code",
    "id": "9ViiHVVHwClI"
   },
   "outputs": [
    {
     "name": "stdout",
     "output_type": "stream",
     "text": [
      "1001\n",
      "1001\n"
     ]
    },
    {
     "data": {
      "text/plain": [
       "369"
      ]
     },
     "execution_count": 80,
     "metadata": {},
     "output_type": "execute_result"
    }
   ],
   "source": [
    "#solution 1.\n",
    "sentenses = nltk.sent_tokenize(raw)\n",
    "print(len(sentenses))\n",
    "sentenses_to_words = [to_lowercase(nltk.word_tokenize(sentense)) for sentense in sentenses]\n",
    "print(len(sentenses_to_words))\n",
    "result = list(filter(lambda x: \"the\" in x, sentenses_to_words))\n",
    "len(result)"
   ]
  },
  {
   "cell_type": "code",
   "execution_count": 87,
   "metadata": {},
   "outputs": [
    {
     "name": "stdout",
     "output_type": "stream",
     "text": [
      "18542\n",
      "Result:  3.6145507496494447\n"
     ]
    },
    {
     "data": {
      "text/plain": [
       "3.6145507496494447"
      ]
     },
     "execution_count": 87,
     "metadata": {},
     "output_type": "execute_result"
    }
   ],
   "source": [
    "import functools\n",
    "import statistics\n",
    "\n",
    "#solution 2.\n",
    "\n",
    "words = nltk.word_tokenize(raw)\n",
    "print(len(words))\n",
    "words_len = [len(word) for word in words]\n",
    "sum = functools.reduce(lambda x, y: x + y, words_len)\n",
    "print(\"Result: \" ,sum/len(words_len))\n",
    "result = statistics.mean(words_len)\n",
    "result"
   ]
  },
  {
   "cell_type": "code",
   "execution_count": 94,
   "metadata": {},
   "outputs": [
    {
     "name": "stdout",
     "output_type": "stream",
     "text": [
      "1538\n",
      "1538\n",
      "['the', 'adventur', 'of', 'buster', 'bear', 'by', 'thornton', 'w', 'burgess', '1920', 'i', 'goe', 'fish', 'yawn', 'as', 'he', 'lay', 'on', 'hi', 'comfort', 'bed', 'leav', 'and', 'watch', 'first', 'earli', 'morn', 'sunbeam', 'creep', 'through', 'green', 'forest', 'to', 'chase', 'out', 'black', 'shadow', 'onc', 'more', 'slowli', 'got', 'feet', 'shook', 'himself', 'then', 'walk', 'over', 'a', 'big', 'pinetre', 'stood', 'up', 'hind', 'leg', 'reach', 'high', 'trunk', 'tree', 'could', 'scratch', 'bark', 'with', 'great', 'claw', 'after', 'that', 'until', 'it', 'seem', 'if', 'jaw', 'would', 'crack', 'sat', 'down', 'think', 'what', 'want', 'for', 'breakfast', 'while', 'there', 'tri', 'make', 'mind', 'tast', 'best', 'wa', 'listen', 'sound', 'told', 'wake', 'all', 'littl', 'peopl', 'who', 'live', 'in', 'heard', 'sammi', 'jay', 'way', 'off', 'distanc', 'scream', 'thief', 'grin', 'wonder', 'thought', 'some', 'one', 'ha', 'stolen', 's', 'or', 'els', 'probabl', 'is', 'chatter', 'red', 'squirrel', 'scold', 'fast', 'tongu', 'go', 'work', 'into', 'terribl', 'rage', 'must', 'be', 'wrong', 'thi', 'blacki', 'crow', 'caw', 'at', 'top', 'lung', 'knew', 'sound', 'get', 'mischief', 'kind', 'sweet', 'voic', 'happi', 'singer', 'they', 'were', 'good', 'hear', 'but', 'most', 'listen', 'merri', 'low', 'silveri', 'laugh', 'never', 'stop', 'went', 'just', 'felt', 'too', 'voic', 'laugh', 'brook', 'suddenli', 'came', 'him', 'm', 'go', 'said', 'deep', 'grumblyrumbl', 'no', 'particular', 'ye', 'sir', 'want', 'fat', 'trout', 'my', 'shuffl', 'along', 'straight', 'pool', 'which', 'drew', 'near', 'took', 'greatest', 'care', 'not', 'teeniest', 'weeniest', 'bit', 'nois', 'now', 'happen', 'befor', 'when', 'sight', 'should', 'see', 'anoth', 'fisherman', 'had', 'alreadi', 'caught', 'fine', 'whi', 'joe', 'otter', 'sure', 'climb', 'bank', 'mouth', 'own', 'water', 'saw', 'prepar', 'enjoy', 'nt', 'seen', 'did', 'know', 'ani', 'anywher', 'tipto', 'veri', 'softli', 'right', 'behind', 'woof', 'deepest', 'look', 'myself', 'gave', 'frighten', 'squeal', 'without', 'even', 'turn', 'speak', 'drop', 'fish', 'dive', 'headfirst', 'sprang', 'forward', 'paw', 'slip', 'back', 'water', 'here', 'your', 'mr', 'put', 'head', 'so', 'come', 'get', 'illustr', '_page', '5_', 'fact', 'afraid', 'snarl', 'call', 'everyth', 'bad', 'seem', 'chuckl', 'joke', 'repeat', 'invit', 'turn', 'wast', 'such', 'thought', 'd', 'better', 'do', 'wonder', 'ate', 'start', 'tri', 'catch', 'ii', 'get', 'begin', 'beauti', 'day', 'taken', 'from', 'about', 'eat', 'anyway', 'billi', 'mink', 'perhap', 'tell', 'quit', 'exactli', 'you', 'badli', 'time', 'sit', 'besid', 'pool', 'bulli', 'away', 'me', 'belong', 'hate', 'long', 'enough', 'cours', 'nice', 'talk', 'anyth', 'spirit', 'temper', 'sometim', 'pretti', 'short', 'especi', 'hungri', 'actual', 'matter', 'amount', 'same', 'thing', 'perfectli', 'well', 'invit', 'dare', 'where', 'ask', 'somewher', 'wish', 'fall', 'drown', 'snap', 'idea', 'funni', 'except', 'smile', 'meadow', 'been', 'known', 'let', 'do', 'last', 'curios', 'fear', 'agre', 'two', 'browncoat', 'scamp', 'take', 'keep', 'themselv', 'gone', 'onli', 'whisper', 'shh', 'close', 'intent', 'longest', 'move', 'quick', 'flash', 'scoop', 'ventur', 'exclaim', 'plain', 'have', 'fun', 'eaten', 'move', 'next', 'are', '_our_', 'fierc', 'busi', 'catch', 'how', 'we', 'stop', 'cri', 'whose', 'an', 'pop', 'im', 'drive', 'muddi', 'll', 'mani', 'will', 'watch', 'slip', 'swiftli', 'swam', 'fled', 'everi', 'direct', 'stir', 'mud', 'dirti', 'have', 'under', 'nose', 'bear', 'spoil', 'iii', 'greatli', 'puzzl', 'enjoy', 'much', 'sinc', 'began', 'surpris', 'like', 'eat', 'finish', 'present', 'stole', 'frighten', 'edg', 'move', 'learn', 'ago', 'patient', 'unless', 'home', 'can', 'swim', 'them', 'chase', 'eye', 'lash', 'still', 'look', 'almost', 'stump', 'old', 'soon', 'three', 'may', 'clumsi', 'quicker', 'than', 'those', 'want', 'wink', 'foolish', 'eye', 'twinkl', 'smack', 'lip', 'use', 'stay', 'longer', 'wouldnt', 'spirit', 'finer', 'freshcaught', 'take', 'fill', 'stomach', 'kept', 'instead', 'be', 'clear', 'bottom', 'huh', 'found', 'other', 'puzzl', 'suspici', 'save', 'laughter', 'somehow', 'curiou', 'mutter', 'inde', 'look', 'today', 'understand', 'it', 'lucki', 'somebodi', 'ha', 'sudden', 'chuckl', 'final', 'believ', 'scamp', 'becaus', 'alway', 'enjoy', 'laugh', 'hold', 'side', 'whole', 'lot', 'done', 're', 'smart', 'chuckl', 'plan', 'iv', 'suppli', 'spite', 'doe', 'pay', 'apt', 'work', 'furnish', 'mean', 'oh', 'truth', 'prevent', 'acquaint', 'smarter', 'selfish', 'bobbi', 'coon', 'few', 'farmer', 'brown', 'boy', 'fish', 'made', 'angri', 'discov', 'their', 'mind', 'someth', 'least', 'again', 'tomorrow', 'come', 'guess', 'teach', 'our', 'alon', 'hid', 'daylight', 'given', 'fright', 'jolli', 'creep', 'chase', 'hurri', 'guess', 'far', 'watch', 'keep', 'place', 'shallow', 'hardli', 'thing', 'expect', 'abov', 'nowher', 'wait', 'scoop', 'take', 'save', 'wait', 'intent', 'spoke', 'oblig', 've', 'yesterday', 'hope', 'togeth', 'often', 'fit', 'kill', 'find', 'word', 'say', 'sulk', 'v', 'grandfath', 'frog', 'commonsens', 'noth', 'common', 'sens', 'smooth', 'troubl', 'plenti', 'wise', 'neighbor', 'look', 'forev', 'run', 'advic', 'respect', 'simpli', 'wisdom', 'spoil', 'realli', 'easier', 'left', 'climb', 'rock', 'stori', 'tickl', 'jerri', 'muskrat', 'angrier', 'ever', 'unkind', 'smart', 'declar', 'chugarum', 'bulli', 'though', 'doesnt', 'mine', 'protest', 'make', 'growl', 'round', 'bright', 'sun', 'wink', 'goggli', 'come', 'fli', 'belong', 'nobodi', 'fli', 'repli', 'mildli', 'hope', 'snap', 'suppos', 'happen', 'steal', 'accord', 'silli', 'age', 'retort', 'differ', 'between', 'continu', 'friend', 'bigger', 'stronger', 'pay', '26_', 'vi', 'enemi', 'friend', 'worri', 'put', 'end', 'admit', 'like', 'admit', 'deal', 'courag', 'willingli', 'quarrel', 'fighter', 'fight', 'selfish', 'thoughtless', 'hard', 'soberli', 'disrespect', 'young', 'fellow', 'spoil', 'disposit', 'heedless', 'delight', 'face', 'grave', 'solemn', 'pleas', 'advis', 'snif', 'declar', 'yet', 'goodnatur', 'full', 'rule', 'cool', 'work', 'drive', 'sheepish', 'grin', 'grew', 'wipe', 'tear', 'biggest', 'joe', 'favorit', 'food', 'didnt', 'bite', 'care', 'laid', 'log', 'late', 'nearli', 'lost', 'minut', 'couldnt', 'possibl', 'gotten', 'dart', 'side', 'also', 'smallest', 'cousin', 'shadow', 'weasel', 'altogeth', 'angrili', 'readi', 'give', 'shuffl', 'toward', 'breez', 'carri', 'scent', 'wrinkl', 'twinkl', 'pleasur', 'thought', 'leav', 'loud', 'rather', 'faint', 'thank', 'vii', 'luck', 'tramp', 'whistl', 'merrili', 'whistl', 'feel', 'lightheart', 'fond', 'make', 'follow', 'love', 'hide', 'whistl', 'whistl', 'bait', 'hook', 'might', 'brown', 'success', 'patienc', 'discourag', 'quiet', 'patient', 'nibbl', 'either', 'appetit', 'grown', 'brought', 'reward', 'faintest', 'trudg', 'frown', 'freckl', 'night', 'dream', 'delici', 'dinner', 'fri', 'splendid', 'dream', 'hide', 'life', 'hello', 'head', 'scowl', '_has_', 'pick', 'sharpli', 'wasnt', 'cut', 'knife', 'bitten', 'thereaft', 'sharp', 'lookout', 'sign', 'possibl', 'besid', 'rememb', 'around', 'catch', 'usual', 'hide', 'farther', 'feel', 'queer', 'fishermen', 'viii', 'hair', 'rise', 't', 'odd', 'surpris', 'anger', 'neck', 'bowser', 'hound', 'bristl', 'stand', 'tail', 'pussi', 'stand', 'her', 'twice', 'both', 'studi', 'pop', 'afterward', 'footprint', 'soft', 'minut', 'feel', 'chilli', 'although', 'warm', 'meet', 'gun', 'differ', '_was_', 'draw', 'breath', 'run', 'ix', 'news', 'fairli', 'burst', 'excit', 'contain', 'peter', 'rabbit', 'track', 'spotti', 'turtl', 'hope', 'face', 'reddi', 'fox', 'mr', 'redw', 'hickorytre', 'highest', 'part', 'excit', 'sparkl', 'hi', 'anybodi', 'glare', 'across', '45_', 'roll', 'unpleas', 'boaster', 'these', 'day', 'sli', 'buzz', 'taunt', 'gruffest', 'testili', 'eager', 'slowest', 'provok', 'drawl', 'lean', 'perch', 'live', 'whether', 'true', 'hadnt', 'singl', 'conclud', 'know', 'prowl', 'isnt', '_him_', 'x', 'becom', 'hero', 'see', 'spread', 'help', 'trust', 'everybodi', 'piec', 'becam', 'doubt', 'imagin', 'jealou', 'pretend', 'believ', 'rejoic', 'strong', 'past', 'tri', 'trap', 'hunt', 'proud', 'number', 'real', 'way', 'show', 'friendli', 'favor', 'whenev', 'met', 'great', 'wo', 'wash', 'neat', 'set', 'gloat', 'ah', 'brer', 'henhous', 'scare', 'favor', 'certnli', 'appreci', 'unc', 'possum', 'propos', 'caw', 'broke', 'wait', 'ourselv', 'tell', 'certainli', 'doubt', 'utmost', 'polit', 'yourself', 'eagerli', 'meet', 'sunup', 'xi', 'tell', 'dreamer', 'schemer', 'screamer', 'dream', 'scheme', 'smartest', 'cleverest', 'other', 'excit', 'chanc', 'harsh', 'gather', 'import', 'dearli', 'love', 'listen', 'lilypad', 'jumper', 'hare', 'danni', 'meadow', 'mous', 'johnni', 'chuck', 'jimmi', 'skunk', 'stripe', 'chipmunk', 'toad', 'digger', 'badger', 'jack', 'gray', 'clear', 'throat', 'loudli', 'speak', 'play', 'trick', 'mischiefmak', 'us', 'hurri', 'fuss', 'lead', 'run', 'simpl', 'abl', 'yourselv', 'promis', 'xii', 'grow', 'light', 'tallest', 'nearest', 'hous', 'instant', 'door', 'milk', 'cow', 'meanwhil', 'silent', 'open', 'step', 'each', 'hand', 'pail', 'scream', 'shout', 'flew', 'among', 'tree', 'wonder', 'start', 'barn', 'shrewd', 'mean', 'duti', 'except', 'scream', 'harder', 'louder', 'hoars', 'feed', 'disappear', 'snicker', 'your', 'hung', 'seldom', 'join', 'decid', 'pail', 'meant', '_had_', 'listen', 'racket', 'xiii', 'walk', 'wood', '_id_', 'hurri', 'year', 'wood', 'imagin', 'easi', 'mistaken', 'follow', 'stump', 'thick', 'branch', 'top', 'wideopen', 'busi', 'walk', 'hemlocktre', 'held', 'xiv', 'surpris', 'happen', 'tall', '_their_', 'stick', 'hollow', '_his_', 'hole', 'lie', 'flat', 'heap', 'brush', 'bolt', 'upright', 'hemlock', 'branch', 'ear', 'wide', 'open', 'moment', 'opposit', 'neither', 'gaze', 'hold', 'yell', 'yell', 'startl', 'fell', 'jump', 'doubt', 'ran', 'reach', 'dear', 'briarpatch', 'stumbl', 'scrambl', 'danc', 'sorri', 'shriek', 'forgot', 'crash', 'turn', 'bump', 'crash', 'bush', 'jump', 'log', 'page', '_71_', 'gasp', 'whyee', 'yo', 'scare', 'rememb', 'impot', 'attend', 'power', 'xv', 'fallen', 'whom', 'brave', 'prove', 'less', 'suppos', 'mere', 'footprint', 'respect', 'faster', 'hidden', 'lone', 'delight', 'uncomfort', 'within', 'hear', 'fli', 'safeti', 'teeth', 'livelong', 'dozen', 'time', 'grind', 'glare', 'impud', 'growl', 'shiver', 'shriek', 'scamper', 'climb', 'climber', 'stout', 'growl', 'chatter', 'nearer', 'tumbl', 'terror', 'worst', 'troubl', 'help', 'xvi', 'jump', 'reason', 'sauci', 'possess', 'wherev', 'abil', 'danger', 'clung', 'draw', 'growl', 'say', 'hate', 'chosen', 'sit', 'itself', '_could_', 'blame', 'case', 'deeper', 'sound', 'ground', 'below', 'wing', 'grrrr', 'manner', 'treat', 'better', 'swallow', 'scrambl', 'tip', 'cling', 'small', 'shut', 'faraway', 'kill', 'mother', 'natur', 'she', 'certain', 'power', 'arm', 'fall', 'otherwis', 'air', 'jerk', 'scold', 'balanc', 'sail', 'land', 'hit', 'second', 'scurri', 'taught', 'lesson', 'xvii', 'berri', 'think', 'overhear', 'habit', 'howev', 'secret', 'talk', 'think', 'becom', 'live', 'lonesom', 'habit', 'tempt', 'ought', 'need', 'chang', 'year', 'use', 'fresh', 'fruit', 'berri', 'forgotten', 'berri', 'ummmm', 'pastur', 'em', 'id', 'sigh', 'grow', 'wander', 'uneasili', 'seem', 'lick', 'hungrili', 'brighten', 'ill', 'peep', 'none', 'nap', 'visit', 'interest', 'dark', 'form', 'steal', 'join', 'xviii', 'pie', 'pie', 'awak', 'tin', 'wrap', 'piec', 'paper', 'lunch', 'fill', 'larg', 'lie', 'foot', 'mountain', 'extend', 'room', 'pick', 'roam', 'sky', 'world', 'am', 'folk', 'cowpath', 'cri', 'terribl', 'everywher', 'peer', 'peep', 'stone', 'find', 'front', 'gartersnak', 'children', 'stickyto', 'master', 'free', 'safe', 'xix', 'finest', 'touch', 'middl', 'patch', 'blueberri', 'honey', 'equal', 'raspberri', 'blackberri', 'ummm', 'mumbl', 'haunch', 'strip', 'greedili', 'enjoy', 'ripe', 'chomp', 'pat', 'sheer', 'crept', 'fulli', 'blue', 'shi', 'bash', 'desir', 'twoleg', 'creatur', 'men', 'like', 'fear', 'tast', 'hardest', 'higher', 'smile', 'gloriou', 'smile', 'broader', 'fill', 'shini', 'bluest', 'one', 'blink', 'greedi', 'rapidli', 'harmless', 'paw', 'push', 'gentli', 'tip', 'spill', 'sigh', 'pure', 'happi', 'xx', 'carri', 'question', 'belong', 'deliber', 'whoever', 'brim', 'shade', 'bush', 'pail', 'feast', 'help', 'upset', 'gobbl', 'thrust', 'threw', 'handl', 'matter', 'wors', 'shrill', 'shout', 'aw', 'human', 'be', 'whine', 'squeal', 'shake', 'pull', 'recogn', 'cattl', 'summer', 'stare', 'claw', 'frantic', 'mighti', 'path', 'funniest', 'hang', 'rid', 'bring', 'boy', 'xxi', 'bless', 'whatev', 'prick', 'understood', 'beat', 'yell', 'poor', 'death', 'slip', 'fix', 'humili', 'shame', 'dread', 'darkest', 'thickest', 'ol', 'mistah', 'buzzard', 'drop', 'seat', 'conveni', 'dead', 'redtail', 'hawk', 'scrapper', 'kingbird', 'blackbird', 'drummer', 'woodpeck', 'welcom', 'robin', 'tommi', 'tit', 'chickade', 'jenni', 'wren', 'redey', 'vireo', 'orchard', 'footstep', 'peep', 'prickli', 'porki', 'timid', 'whitefoot', 'peer', 'circl', 'safe', 'sore', 'proof', 'xxii', 'pleasant', 'ordinarili', 'person', 'rous', 'tenth', 'temper', 'arous', 'call', 'selfrespect', 'roar', 'charg', 'rush', 'roar', 'swift', 'nor', 'shake', 'trembl', '112_', 'vent', 'cuf', 'pull', 'helpless', 'blow', 'sent', 'clatter', 'against', 'knock', 'pound', 'till', 'recov', 'usual', 'shame', 'fault', 'deserv', 'twinkl', 'xxiii', 'lunch', 'glad', 'learn', 'philosoph', 'accept', 'cheer', 'dure', 'stupidli', 'kick', 'spill', 'enter', 'appear', 'struggl', 'tear', 'begun', 'worth', 'comic', 'chagrin', 'realiz', 'cheat', 'spring', 'happili', 'sandwich', 'stone', 'hungrier', 'crumb', 'man', 'coyot', 'rub', 'complet', 'trace', 'gape', 'foolishli', 'slow', 'sheepishli', 'strang', 'scratch', 'learn', 'book', 'insist', 'write']\n",
      "['the', 'adv', 'of', 'bust', 'bear', 'by', 'thornton', 'w', 'burgess', '1920', 'i', 'goe', 'fish', 'yawn', 'as', 'he', 'lay', 'on', 'his', 'comfort', 'bed', 'leav', 'and', 'watch', 'first', 'ear', 'morn', 'sunbeam', 'creep', 'through', 'green', 'forest', 'to', 'chas', 'out', 'black', 'shadow', 'ont', 'mor', 'slow', 'got', 'feet', 'shook', 'himself', 'then', 'walk', 'ov', 'a', 'big', 'pinet', 'stood', 'up', 'hind', 'leg', 'reach', 'high', 'trunk', 'tre', 'could', 'scratched', 'bark', 'with', 'gre', 'claw', 'aft', 'that', 'until', 'it', 'seem', 'if', 'jaw', 'would', 'crack', 'sat', 'down', 'think', 'what', 'want', 'for', 'breakfast', 'whil', 'ther', 'try', 'mak', 'mind', 'tast', 'best', 'was', 'list', 'sound', 'told', 'wak', 'al', 'littl', 'peopl', 'who', 'liv', 'in', 'heard', 'sammy', 'jay', 'way', 'off', 'dist', 'screaming', 'thief', 'grin', 'wond', 'thought', 'som', 'on', 'has', 'stol', 's', 'or', 'els', 'prob', 'is', 'chat', 'red', 'squirrel', 'scold', 'fast', 'tongu', 'go', 'work', 'into', 'terr', 'rag', 'must', 'be', 'wrong', 'thi', 'blacky', 'crow', 'caw', 'at', 'top', 'lung', 'knew', 'sound', 'get', 'mischief', 'kind', 'sweet', 'voic', 'happy', 'sing', 'they', 'wer', 'good', 'hear', 'but', 'most', 'list', 'merry', 'low', 'silvery', 'laugh', 'nev', 'stop', 'went', 'just', 'felt', 'too', 'voic', 'laugh', 'brook', 'sud', 'cam', 'him', 'm', 'going', 'said', 'deep', 'grumblyrumbl', 'no', 'particul', 'ye', 'sir', 'want', 'fat', 'trout', 'my', 'shuffl', 'along', 'straight', 'pool', 'which', 'drew', 'near', 'took', 'greatest', 'car', 'not', 'teeniest', 'weeniest', 'bit', 'nois', 'now', 'hap', 'bef', 'when', 'sight', 'should', 'see', 'anoth', 'fisherm', 'had', 'already', 'caught', 'fin', 'why', 'joe', 'ot', 'sur', 'climb', 'bank', 'mou', 'own', 'wat', 'saw', 'prep', 'enjoy', 'nt', 'seen', 'did', 'know', 'any', 'anywh', 'tipto', 'very', 'soft', 'right', 'behind', 'woof', 'deepest', 'look', 'myself', 'gav', 'fright', 'squ', 'without', 'ev', 'turn', 'speak', 'drop', 'fish', 'div', 'headfirst', 'sprang', 'forward', 'paw', 'slip', 'back', 'wat', 'her', 'yo', 'mr', 'put', 'head', 'so', 'com', 'get', 'illust', '_page', '5_', 'fact', 'afraid', 'snarl', 'cal', 'everyth', 'bad', 'seem', 'chuckl', 'jok', 'rep', 'invit', 'turn', 'wast', 'such', 'thought', 'd', 'bet', 'do', 'wond', 'at', 'start', 'try', 'catch', 'ii', 'get', 'begin', 'beauty', 'day', 'tak', 'from', 'about', 'eat', 'anyway', 'bil', 'mink', 'perhap', 'tel', 'quit', 'exact', 'you', 'bad', 'tim', 'sit', 'besid', 'pool', 'bul', 'away', 'me', 'belong', 'hat', 'long', 'enough', 'cours', 'nic', 'talk', 'anyth', 'spirit', 'temp', 'sometim', 'pretty', 'short', 'espec', 'hungry', 'act', 'mat', 'amount', 'sam', 'thing', 'perfect', 'wel', 'invit', 'dar', 'wher', 'ask', 'somewh', 'wish', 'fal', 'drown', 'snap', 'ide', 'funny', 'exceiv', 'smil', 'meadow', 'been', 'known', 'let', 'doing', 'last', 'curios', 'fear', 'agree', 'two', 'brownco', 'scamp', 'tak', 'keep', 'themselv', 'gon', 'on', 'whisp', 'shh', 'clos', 'int', 'longest', 'mov', 'quick', 'flash', 'scoop', 'vent', 'exclaim', 'plain', 'hav', 'fun', 'eat', 'mov', 'next', 'ar', '_our_', 'fierc', 'busy', 'catch', 'how', 'we', 'stop', 'cri', 'whos', 'an', 'pop', 'im', 'driv', 'muddy', 'll', 'many', 'wil', 'watch', 'slip', 'swift', 'swam', 'fled', 'every', 'direct', 'stir', 'mud', 'dirty', 'hav', 'und', 'nos', 'bear', 'spoil', 'ii', 'gre', 'puzzl', 'enjoy', 'much', 'sint', 'beg', 'surpr', 'lik', 'eat', 'fin', 'pres', 'stol', 'fright', 'edg', 'mov', 'learn', 'ago', 'paty', 'unless', 'hom', 'can', 'swim', 'them', 'chas', 'ey', 'lash', 'stil', 'look', 'almost', 'stump', 'old', 'soon', 'three', 'may', 'clumsy', 'quick', 'than', 'thos', 'want', 'wink', 'fool', 'ey', 'twinkl', 'smack', 'lip', 'us', 'stay', 'long', 'wouldnt', 'spirit', 'fin', 'freshcaught', 'tak', 'fil', 'stomach', 'kept', 'instead', 'being', 'clear', 'bottom', 'huh', 'found', 'oth', 'puzzl', 'suspicy', 'sav', 'laught', 'somehow', 'cury', 'mut', 'indee', 'look', 'today', 'understand', 'it', 'lucky', 'somebody', 'ha', 'sud', 'chuckl', 'fin', 'believ', 'scamp', 'becaus', 'alway', 'enjoy', 'laugh', 'hold', 'sid', 'whol', 'lot', 'don', 're', 'smart', 'chuckl', 'plan', 'iv', 'supply', 'spit', 'doe', 'pay', 'apt', 'work', 'furn', 'mean', 'oh', 'tru', 'prev', 'acquaint', 'smart', 'self', 'bobby', 'coon', 'few', 'farm', 'brown', 'boy', 'fish', 'mad', 'angry', 'discov', 'their', 'mind', 'someth', 'least', 'again', 'tomorrow', 'com', 'guess', 'teach', 'our', 'alon', 'hid', 'daylight', 'giv', 'fright', 'jol', 'creep', 'chas', 'hurry', 'guess', 'far', 'watch', 'keep', 'plac', 'shallow', 'hard', 'thing', 'expect', 'abov', 'nowh', 'wait', 'scoop', 'tak', 'sav', 'wait', 'int', 'spok', 'oblig', 've', 'yesterday', 'hop', 'togeth', 'oft', 'fit', 'kil', 'find', 'word', 'say', 'sulk', 'v', 'grandfath', 'frog', 'commonsens', 'noth', 'common', 'sens', 'smoo', 'troubl', 'plenty', 'wis', 'neighb', 'look', 'forev', 'run', 'adv', 'respect', 'simply', 'wisdom', 'spoil', 'real', 'easy', 'left', 'climb', 'rock', 'story', 'tickl', 'jerry', 'muskr', 'angry', 'ev', 'unkind', 'smart', 'decl', 'chugar', 'bul', 'though', 'doesnt', 'min', 'protest', 'mak', 'growl', 'round', 'bright', 'sun', 'wink', 'gog', 'com', 'fly', 'belong', 'nobody', 'fli', 'reply', 'mild', 'hop', 'snap', 'suppos', 'hap', 'ste', 'accord', 'sil', 'ag', 'retort', 'diff', 'between', 'continu', 'friend', 'big', 'stronger', 'pay', '26_', 'vi', 'enemy', 'friend', 'worry', 'put', 'end', 'admit', 'lik', 'admit', 'deal', 'cour', 'wil', 'quarrel', 'fight', 'fight', 'self', 'thoughtless', 'hard', 'sob', 'disrespect', 'young', 'fellow', 'spoil', 'disposit', 'heedless', 'delight', 'fac', 'grav', 'solemn', 'pleas', 'adv', 'sniff', 'decl', 'yet', 'goodn', 'ful', 'rul', 'cool', 'work', 'driv', 'sheep', 'grin', 'grew', 'wip', 'tear', 'biggest', 'joe', 'favorit', 'food', 'didnt', 'bit', 'car', 'laid', 'log', 'lat', 'near', 'lost', 'minut', 'couldnt', 'poss', 'got', 'dart', 'sid', 'also', 'smallest', 'cousin', 'shadow', 'weasel', 'altogeth', 'angry', 'ready', 'giv', 'shuffl', 'toward', 'breez', 'carry', 'scent', 'wrinkl', 'twinkl', 'pleas', 'thought', 'leav', 'loud', 'rath', 'faint', 'thank', 'vii', 'luck', 'tramp', 'whistl', 'merry', 'whistl', 'feel', 'lightheart', 'fond', 'mak', 'follow', 'lov', 'hid', 'whistl', 'whistl', 'bait', 'hook', 'might', 'brown', 'success', 'paty', 'disco', 'quiet', 'paty', 'nibbl', 'eith', 'appetit', 'grown', 'brought', 'reward', 'faintest', 'trudg', 'frown', 'freckl', 'night', 'dream', 'delicy', 'din', 'fri', 'splendid', 'dream', 'hid', 'lif', 'hello', 'head', 'scowl', '_has_', 'pick', 'sharply', 'wasnt', 'cut', 'knif', 'bit', 'thereaft', 'sharp', 'lookout', 'sign', 'poss', 'besid', 'rememb', 'around', 'catch', 'us', 'hid', 'farth', 'feel', 'que', 'fisherm', 'vii', 'hair', 'ris', 't', 'od', 'surpr', 'ang', 'neck', 'bows', 'hound', 'bristl', 'stand', 'tail', 'pussy', 'stand', 'her', 'twic', 'both', 'study', 'pop', 'afterward', 'footprint', 'soft', 'minut', 'feel', 'chil', 'although', 'warm', 'meet', 'gun', 'diff', '_was_', 'draw', 'brea', 'run', 'ix', 'new', 'fair', 'burst', 'excit', 'contain', 'pet', 'rabbit', 'track', 'spotty', 'turtl', 'hop', 'fac', 'reddy', 'fox', 'mrs', 'redw', 'hickoryt', 'highest', 'part', 'excit', 'sparkl', 'hi', 'anybody', 'glar', 'across', '45_', 'rol', 'unpleas', 'boast', 'thes', 'day', 'sly', 'buzz', 'taunt', 'gruffest', 'testy', 'eag', 'slowest', 'provok', 'drawl', 'lean', 'perch', 'liv', 'wheth', 'tru', 'hadnt', 'singl', 'conclud', 'know', 'prowl', 'isnt', '_him_', 'x', 'becom', 'hero', 'see', 'spread', 'help', 'trust', 'everybody', 'piec', 'becam', 'doubt', 'imagin', 'jeal', 'pretend', 'believ', 'rejo', 'strong', 'past', 'tri', 'trap', 'hunt', 'proud', 'numb', 'real', 'way', 'show', 'friend', 'fav', 'whenev', 'met', 'gre', 'wo', 'wash', 'neat', 'set', 'glo', 'ah', 'brer', 'henh', 'scar', 'fav', 'certn', 'apprecy', 'unt', 'poss', 'propos', 'caw', 'brok', 'wait', 'ourselv', 'tel', 'certain', 'doubt', 'utmost', 'polit', 'yourself', 'eag', 'meet', 'sunup', 'xi', 'tel', 'dream', 'schemer', 'screamer', 'dream', 'scheming', 'smartest', 'cleverest', 'oth', 'excit', 'chant', 'harsh', 'gath', 'import', 'dear', 'lov', 'list', 'lilypad', 'jump', 'har', 'danny', 'meadow', 'mous', 'johnny', 'chuck', 'jimmy', 'skunk', 'striped', 'chipmunk', 'toad', 'dig', 'badg', 'jack', 'gray', 'clear', 'throat', 'loud', 'speak', 'play', 'trick', 'mischiefmak', 'us', 'hurry', 'fuss', 'lead', 'run', 'simpl', 'abl', 'yourselv', 'prom', 'xii', 'grow', 'light', 'tallest', 'nearest', 'hous', 'inst', 'door', 'milk', 'cow', 'meanwhil', 'sil', 'op', 'step', 'each', 'hand', 'pail', 'scream', 'shout', 'flew', 'among', 'tre', 'wond', 'start', 'barn', 'shrewd', 'mean', 'duty', 'exceiv', 'screamed', 'hard', 'loud', 'hoars', 'fee', 'disappear', 'snick', 'yo', 'hung', 'seldom', 'join', 'decid', 'pail', 'meant', '_had_', 'list', 'racket', 'xii', 'walk', 'wood', '_id_', 'hurry', 'year', 'wood', 'imagin', 'easy', 'mistak', 'follow', 'stump', 'thick', 'branch', 'top', 'wideop', 'busy', 'walk', 'hemlockt', 'held', 'xiv', 'surpr', 'hap', 'tal', '_their_', 'stick', 'hollow', '_his_', 'hol', 'lying', 'flat', 'heap', 'brush', 'bolt', 'upright', 'hemlock', 'branch', 'ear', 'wid', 'op', 'mom', 'opposit', 'neith', 'gaz', 'hold', 'yel', 'yel', 'startl', 'fel', 'jump', 'doubt', 'ran', 'reach', 'dear', 'briarpatch', 'stumbl', 'scrambled', 'dant', 'sorry', 'shrieked', 'forgot', 'crash', 'turn', 'bump', 'crash', 'bush', 'jump', 'log', 'pag', '_71_', 'gasp', 'why', 'yo', 'scar', 'rememb', 'impot', 'attend', 'pow', 'xv', 'fal', 'whom', 'brav', 'prov', 'less', 'suppos', 'mer', 'footprint', 'respect', 'fast', 'hid', 'lon', 'delight', 'uncomfort', 'within', 'hear', 'fly', 'saf', 'tee', 'livelong', 'doz', 'tim', 'grind', 'glar', 'impud', 'growl', 'shiv', 'shriek', 'scamp', 'climb', 'climb', 'stout', 'growl', 'chat', 'near', 'tumbl', 'ter', 'worst', 'troubl', 'help', 'xvi', 'jump', 'reason', 'saucy', 'possess', 'wherev', 'abl', 'dang', 'clung', 'draw', 'growl', 'say', 'hat', 'chos', 'sit', 'itself', '_could_', 'blam', 'cas', 'deep', 'sound', 'ground', 'below', 'wing', 'grrrr', 'man', 'tre', 'bet', 'swallow', 'scrambling', 'tip', 'cling', 'smal', 'shut', 'faraway', 'kil', 'moth', 'nat', 'she', 'certain', 'pow', 'arm', 'fal', 'otherw', 'air', 'jerk', 'scold', 'bal', 'sail', 'land', 'hit', 'second', 'scurry', 'taught', 'lesson', 'xvi', 'berry', 'think', 'overhear', 'habit', 'howev', 'secret', 'talk', 'think', 'becom', 'liv', 'lonesom', 'habit', 'tempt', 'ought', 'nee', 'chang', 'year', 'us', 'fresh', 'fruit', 'berry', 'forgot', 'berry', 'ummm', 'past', 'em', 'id', 'sigh', 'grow', 'wand', 'uneasy', 'seem', 'lick', 'hungry', 'bright', 'il', 'peep', 'non', 'nap', 'visit', 'interest', 'dark', 'form', 'ste', 'join', 'xvii', 'pie', 'pie', 'awak', 'tin', 'wrap', 'piec', 'pap', 'lunch', 'fil', 'larg', 'lie', 'foot', 'mountain', 'extend', 'room', 'pick', 'roam', 'sky', 'world', 'am', 'folk', 'cowpa', 'cry', 'terr', 'everywh', 'peer', 'peep', 'ston', 'find', 'front', 'gartersnak', 'childr', 'stickyto', 'mast', 'fre', 'saf', 'xix', 'finest', 'touch', 'middl', 'patch', 'blueberry', 'honey', 'eq', 'raspberry', 'blackberry', 'umm', 'mumbl', 'haunch', 'stripping', 'greedy', 'enjoy', 'rip', 'chomp', 'pat', 'she', 'crept', 'ful', 'blu', 'shy', 'bash', 'desir', 'twoleg', 'cre', 'men', 'lik', 'fear', 'tast', 'hardest', 'high', 'smil', 'glory', 'smil', 'broad', 'fil', 'shiny', 'bluest', 'on', 'blink', 'greedy', 'rapid', 'harmless', 'paw', 'push', 'gent', 'tip', 'spil', 'sigh', 'pur', 'happy', 'xx', 'carry', 'quest', 'belong', 'delib', 'whoev', 'brim', 'shad', 'bush', 'pail', 'feast', 'help', 'upset', 'gobbl', 'thrust', 'threw', 'handl', 'mat', 'wors', 'shrill', 'shout', 'aw', 'hum', 'being', 'whin', 'squ', 'shak', 'pul', 'recogn', 'cattl', 'sum', 'star', 'claw', 'frant', 'mighty', 'path', 'funniest', 'hang', 'rid', 'bring', 'boy', 'xxi', 'bless', 'whatev', 'prick', 'understood', 'beat', 'yel', 'poor', 'dea', 'slip', 'fix', 'humy', 'sham', 'dread', 'darkest', 'thickest', 'ol', 'mistah', 'buzzard', 'drop', 'seat', 'conveny', 'dead', 'redtail', 'hawk', 'scrapper', 'kingbird', 'blackbird', 'drum', 'woodpeck', 'welcom', 'robin', 'tommy', 'tit', 'chickad', 'jenny', 'wren', 'redey', 'vireo', 'orchard', 'footstep', 'peep', 'prick', 'porky', 'timid', 'whitefoot', 'peer', 'circ', 'saf', 'sor', 'proof', 'xxi', 'pleas', 'ordin', 'person', 'rous', 'ten', 'temp', 'ar', 'cal', 'selfrespect', 'roar', 'charg', 'rush', 'roar', 'swift', 'nor', 'shak', 'trembl', '112_', 'vent', 'cuff', 'pul', 'helpless', 'blow', 'sent', 'clat', 'against', 'knock', 'pound', 'til', 'recov', 'us', 'sham', 'fault', 'deserv', 'twinkl', 'xxii', 'lunch', 'glad', 'learn', 'philosoph', 'acceiv', 'che', 'dur', 'stupid', 'kick', 'spil', 'ent', 'appear', 'struggling', 'tear', 'begun', 'wor', 'com', 'chagrin', 'real', 'che', 'spring', 'happy', 'sandwich', 'ston', 'hungry', 'crumb', 'man', 'coyot', 'rub', 'complet', 'trac', 'gap', 'fool', 'slow', 'sheep', 'strange', 'scratch', 'learn', 'book', 'insist', 'writ']\n",
      "[('adv', 'adventur'), ('bust', 'buster'), ('his', 'hi'), ('ear', 'earli'), ('chas', 'chase'), ('ont', 'onc'), ('mor', 'more'), ('slow', 'slowli'), ('ov', 'over'), ('pinet', 'pinetre'), ('tre', 'tree'), ('scratched', 'scratch'), ('gre', 'great'), ('aft', 'after'), ('whil', 'while'), ('ther', 'there'), ('try', 'tri'), ('mak', 'make'), ('was', 'wa'), ('list', 'listen'), ('wak', 'wake'), ('al', 'all'), ('liv', 'live'), ('sammy', 'sammi'), ('dist', 'distanc'), ('screaming', 'scream'), ('wond', 'wonder'), ('som', 'some'), ('on', 'one'), ('has', 'ha'), ('stol', 'stolen'), ('prob', 'probabl'), ('chat', 'chatter'), ('terr', 'terribl'), ('rag', 'rage'), ('blacky', 'blacki'), ('happy', 'happi'), ('sing', 'singer'), ('wer', 'were'), ('list', 'listen'), ('merry', 'merri'), ('silvery', 'silveri'), ('nev', 'never'), ('sud', 'suddenli'), ('cam', 'came'), ('going', 'go'), ('particul', 'particular'), ('car', 'care'), ('hap', 'happen'), ('bef', 'befor'), ('fisherm', 'fisherman'), ('already', 'alreadi'), ('fin', 'fine'), ('why', 'whi'), ('ot', 'otter'), ('sur', 'sure'), ('mou', 'mouth'), ('wat', 'water'), ('prep', 'prepar'), ('any', 'ani'), ('anywh', 'anywher'), ('very', 'veri'), ('soft', 'softli'), ('gav', 'gave'), ('fright', 'frighten'), ('squ', 'squeal'), ('ev', 'even'), ('div', 'dive'), ('wat', 'water'), ('her', 'here'), ('yo', 'your'), ('com', 'come'), ('illust', 'illustr'), ('cal', 'call'), ('jok', 'joke'), ('rep', 'repeat'), ('bet', 'better'), ('wond', 'wonder'), ('at', 'ate'), ('try', 'tri'), ('beauty', 'beauti'), ('tak', 'taken'), ('bil', 'billi'), ('tel', 'tell'), ('exact', 'exactli'), ('bad', 'badli'), ('tim', 'time'), ('bul', 'bulli'), ('hat', 'hate'), ('nic', 'nice'), ('temp', 'temper'), ('pretty', 'pretti'), ('espec', 'especi'), ('hungry', 'hungri'), ('act', 'actual'), ('mat', 'matter'), ('sam', 'same'), ('perfect', 'perfectli'), ('wel', 'well'), ('dar', 'dare'), ('wher', 'where'), ('somewh', 'somewher'), ('fal', 'fall'), ('ide', 'idea'), ('funny', 'funni'), ('exceiv', 'except'), ('smil', 'smile'), ('doing', 'do'), ('agree', 'agre'), ('brownco', 'browncoat'), ('tak', 'take'), ('gon', 'gone'), ('on', 'onli'), ('whisp', 'whisper'), ('clos', 'close'), ('int', 'intent'), ('mov', 'move'), ('vent', 'ventur'), ('hav', 'have'), ('eat', 'eaten'), ('mov', 'move'), ('ar', 'are'), ('busy', 'busi'), ('whos', 'whose'), ('driv', 'drive'), ('muddy', 'muddi'), ('many', 'mani'), ('wil', 'will'), ('swift', 'swiftli'), ('every', 'everi'), ('dirty', 'dirti'), ('hav', 'have'), ('und', 'under'), ('nos', 'nose'), ('ii', 'iii'), ('gre', 'greatli'), ('sint', 'sinc'), ('beg', 'began'), ('surpr', 'surpris'), ('lik', 'like'), ('fin', 'finish'), ('pres', 'present'), ('stol', 'stole'), ('fright', 'frighten'), ('mov', 'move'), ('paty', 'patient'), ('hom', 'home'), ('chas', 'chase'), ('ey', 'eye'), ('stil', 'still'), ('clumsy', 'clumsi'), ('quick', 'quicker'), ('thos', 'those'), ('fool', 'foolish'), ('ey', 'eye'), ('us', 'use'), ('long', 'longer'), ('fin', 'finer'), ('tak', 'take'), ('fil', 'fill'), ('being', 'be'), ('oth', 'other'), ('suspicy', 'suspici'), ('sav', 'save'), ('laught', 'laughter'), ('cury', 'curiou'), ('mut', 'mutter'), ('indee', 'inde'), ('lucky', 'lucki'), ('somebody', 'somebodi'), ('sud', 'sudden'), ('fin', 'final'), ('sid', 'side'), ('whol', 'whole'), ('don', 'done'), ('supply', 'suppli'), ('spit', 'spite'), ('furn', 'furnish'), ('tru', 'truth'), ('prev', 'prevent'), ('smart', 'smarter'), ('self', 'selfish'), ('bobby', 'bobbi'), ('farm', 'farmer'), ('mad', 'made'), ('angry', 'angri'), ('com', 'come'), ('giv', 'given'), ('jol', 'jolli'), ('chas', 'chase'), ('hurry', 'hurri'), ('plac', 'place'), ('hard', 'hardli'), ('nowh', 'nowher'), ('tak', 'take'), ('sav', 'save'), ('int', 'intent'), ('spok', 'spoke'), ('hop', 'hope'), ('oft', 'often'), ('kil', 'kill'), ('smoo', 'smooth'), ('plenty', 'plenti'), ('wis', 'wise'), ('neighb', 'neighbor'), ('adv', 'advic'), ('simply', 'simpli'), ('real', 'realli'), ('easy', 'easier'), ('story', 'stori'), ('jerry', 'jerri'), ('muskr', 'muskrat'), ('angry', 'angrier'), ('ev', 'ever'), ('decl', 'declar'), ('chugar', 'chugarum'), ('bul', 'bulli'), ('min', 'mine'), ('mak', 'make'), ('gog', 'goggli'), ('com', 'come'), ('fly', 'fli'), ('nobody', 'nobodi'), ('reply', 'repli'), ('mild', 'mildli'), ('hop', 'hope'), ('hap', 'happen'), ('ste', 'steal'), ('sil', 'silli'), ('ag', 'age'), ('diff', 'differ'), ('big', 'bigger'), ('enemy', 'enemi'), ('worry', 'worri'), ('lik', 'like'), ('cour', 'courag'), ('wil', 'willingli'), ('fight', 'fighter'), ('self', 'selfish'), ('sob', 'soberli'), ('fac', 'face'), ('grav', 'grave'), ('adv', 'advis'), ('sniff', 'snif'), ('decl', 'declar'), ('goodn', 'goodnatur'), ('ful', 'full'), ('rul', 'rule'), ('driv', 'drive'), ('sheep', 'sheepish'), ('wip', 'wipe'), ('bit', 'bite'), ('car', 'care'), ('lat', 'late'), ('near', 'nearli'), ('poss', 'possibl'), ('got', 'gotten'), ('sid', 'side'), ('angry', 'angrili'), ('ready', 'readi'), ('giv', 'give'), ('carry', 'carri'), ('pleas', 'pleasur'), ('rath', 'rather'), ('merry', 'merrili'), ('mak', 'make'), ('lov', 'love'), ('hid', 'hide'), ('paty', 'patienc'), ('disco', 'discourag'), ('paty', 'patient'), ('eith', 'either'), ('delicy', 'delici'), ('din', 'dinner'), ('hid', 'hide'), ('lif', 'life'), ('sharply', 'sharpli'), ('knif', 'knife'), ('bit', 'bitten'), ('poss', 'possibl'), ('us', 'usual'), ('hid', 'hide'), ('farth', 'farther'), ('que', 'queer'), ('fisherm', 'fishermen'), ('vii', 'viii'), ('ris', 'rise'), ('od', 'odd'), ('surpr', 'surpris'), ('ang', 'anger'), ('bows', 'bowser'), ('pussy', 'pussi'), ('twic', 'twice'), ('study', 'studi'), ('chil', 'chilli'), ('diff', 'differ'), ('brea', 'breath'), ('new', 'news'), ('fair', 'fairli'), ('pet', 'peter'), ('spotty', 'spotti'), ('hop', 'hope'), ('fac', 'face'), ('reddy', 'reddi'), ('mrs', 'mr'), ('hickoryt', 'hickorytre'), ('anybody', 'anybodi'), ('glar', 'glare'), ('rol', 'roll'), ('boast', 'boaster'), ('thes', 'these'), ('sly', 'sli'), ('testy', 'testili'), ('eag', 'eager'), ('liv', 'live'), ('wheth', 'whether'), ('tru', 'true'), ('everybody', 'everybodi'), ('jeal', 'jealou'), ('rejo', 'rejoic'), ('numb', 'number'), ('friend', 'friendli'), ('fav', 'favor'), ('gre', 'great'), ('glo', 'gloat'), ('henh', 'henhous'), ('scar', 'scare'), ('fav', 'favor'), ('certn', 'certnli'), ('apprecy', 'appreci'), ('unt', 'unc'), ('poss', 'possum'), ('brok', 'broke'), ('tel', 'tell'), ('certain', 'certainli'), ('eag', 'eagerli'), ('tel', 'tell'), ('dream', 'dreamer'), ('scheming', 'scheme'), ('oth', 'other'), ('chant', 'chanc'), ('gath', 'gather'), ('dear', 'dearli'), ('lov', 'love'), ('list', 'listen'), ('jump', 'jumper'), ('har', 'hare'), ('danny', 'danni'), ('johnny', 'johnni'), ('jimmy', 'jimmi'), ('striped', 'stripe'), ('dig', 'digger'), ('badg', 'badger'), ('loud', 'loudli'), ('hurry', 'hurri'), ('prom', 'promis'), ('inst', 'instant'), ('sil', 'silent'), ('op', 'open'), ('tre', 'tree'), ('wond', 'wonder'), ('duty', 'duti'), ('exceiv', 'except'), ('screamed', 'scream'), ('hard', 'harder'), ('loud', 'louder'), ('fee', 'feed'), ('snick', 'snicker'), ('yo', 'your'), ('list', 'listen'), ('xii', 'xiii'), ('hurry', 'hurri'), ('easy', 'easi'), ('mistak', 'mistaken'), ('wideop', 'wideopen'), ('busy', 'busi'), ('hemlockt', 'hemlocktre'), ('surpr', 'surpris'), ('hap', 'happen'), ('tal', 'tall'), ('hol', 'hole'), ('lying', 'lie'), ('wid', 'wide'), ('op', 'open'), ('mom', 'moment'), ('neith', 'neither'), ('gaz', 'gaze'), ('yel', 'yell'), ('yel', 'yell'), ('fel', 'fell'), ('scrambled', 'scrambl'), ('dant', 'danc'), ('sorry', 'sorri'), ('shrieked', 'shriek'), ('pag', 'page'), ('why', 'whyee'), ('scar', 'scare'), ('pow', 'power'), ('fal', 'fallen'), ('brav', 'brave'), ('prov', 'prove'), ('mer', 'mere'), ('fast', 'faster'), ('hid', 'hidden'), ('lon', 'lone'), ('fly', 'fli'), ('saf', 'safeti'), ('tee', 'teeth'), ('doz', 'dozen'), ('tim', 'time'), ('glar', 'glare'), ('shiv', 'shiver'), ('scamp', 'scamper'), ('climb', 'climber'), ('chat', 'chatter'), ('near', 'nearer'), ('ter', 'terror'), ('saucy', 'sauci'), ('abl', 'abil'), ('dang', 'danger'), ('hat', 'hate'), ('chos', 'chosen'), ('blam', 'blame'), ('cas', 'case'), ('deep', 'deeper'), ('man', 'manner'), ('tre', 'treat'), ('bet', 'better'), ('scrambling', 'scrambl'), ('smal', 'small'), ('kil', 'kill'), ('moth', 'mother'), ('nat', 'natur'), ('pow', 'power'), ('fal', 'fall'), ('otherw', 'otherwis'), ('bal', 'balanc'), ('scurry', 'scurri'), ('xvi', 'xvii'), ('berry', 'berri'), ('liv', 'live'), ('nee', 'need'), ('us', 'use'), ('berry', 'berri'), ('forgot', 'forgotten'), ('berry', 'berri'), ('ummm', 'ummmm'), ('past', 'pastur'), ('wand', 'wander'), ('uneasy', 'uneasili'), ('hungry', 'hungrili'), ('bright', 'brighten'), ('il', 'ill'), ('non', 'none'), ('ste', 'steal'), ('xvii', 'xviii'), ('pap', 'paper'), ('fil', 'fill'), ('cowpa', 'cowpath'), ('cry', 'cri'), ('terr', 'terribl'), ('everywh', 'everywher'), ('ston', 'stone'), ('childr', 'children'), ('mast', 'master'), ('fre', 'free'), ('saf', 'safe'), ('blueberry', 'blueberri'), ('eq', 'equal'), ('raspberry', 'raspberri'), ('blackberry', 'blackberri'), ('umm', 'ummm'), ('stripping', 'strip'), ('greedy', 'greedili'), ('rip', 'ripe'), ('she', 'sheer'), ('ful', 'fulli'), ('blu', 'blue'), ('shy', 'shi'), ('cre', 'creatur'), ('lik', 'like'), ('high', 'higher'), ('smil', 'smile'), ('glory', 'gloriou'), ('smil', 'smile'), ('broad', 'broader'), ('fil', 'fill'), ('shiny', 'shini'), ('on', 'one'), ('greedy', 'greedi'), ('rapid', 'rapidli'), ('gent', 'gentli'), ('spil', 'spill'), ('pur', 'pure'), ('happy', 'happi'), ('carry', 'carri'), ('quest', 'question'), ('delib', 'deliber'), ('whoev', 'whoever'), ('shad', 'shade'), ('mat', 'matter'), ('hum', 'human'), ('being', 'be'), ('whin', 'whine'), ('squ', 'squeal'), ('shak', 'shake'), ('pul', 'pull'), ('sum', 'summer'), ('star', 'stare'), ('frant', 'frantic'), ('mighty', 'mighti'), ('yel', 'yell'), ('dea', 'death'), ('humy', 'humili'), ('sham', 'shame'), ('conveny', 'conveni'), ('drum', 'drummer'), ('tommy', 'tommi'), ('chickad', 'chickade'), ('jenny', 'jenni'), ('prick', 'prickli'), ('porky', 'porki'), ('circ', 'circl'), ('saf', 'safe'), ('sor', 'sore'), ('xxi', 'xxii'), ('pleas', 'pleasant'), ('ordin', 'ordinarili'), ('ten', 'tenth'), ('temp', 'temper'), ('ar', 'arous'), ('cal', 'call'), ('shak', 'shake'), ('cuff', 'cuf'), ('pul', 'pull'), ('clat', 'clatter'), ('til', 'till'), ('us', 'usual'), ('sham', 'shame'), ('xxii', 'xxiii'), ('acceiv', 'accept'), ('che', 'cheer'), ('dur', 'dure'), ('stupid', 'stupidli'), ('spil', 'spill'), ('ent', 'enter'), ('struggling', 'struggl'), ('wor', 'worth'), ('com', 'comic'), ('real', 'realiz'), ('che', 'cheat'), ('happy', 'happili'), ('ston', 'stone'), ('hungry', 'hungrier'), ('trac', 'trace'), ('gap', 'gape'), ('fool', 'foolishli'), ('sheep', 'sheepishli'), ('strange', 'strang'), ('writ', 'write')]\n"
     ]
    },
    {
     "data": {
      "text/plain": [
       "560"
      ]
     },
     "execution_count": 94,
     "metadata": {},
     "output_type": "execute_result"
    }
   ],
   "source": [
    "# solution 3.\n",
    "def stem_words_lanc(words):\n",
    "    \"\"\"Stem words in list of tokenized words\"\"\"\n",
    "    stemmer = LancasterStemmer()\n",
    "    stems = []\n",
    "    for word in words:\n",
    "        stem = stemmer.stem(word)\n",
    "        stems.append(stem)\n",
    "    return stems\n",
    "\n",
    "def stem_words_porter(words):\n",
    "    \"\"\"Stem words in list of tokenized words\"\"\"\n",
    "    stemmer = PorterStemmer()\n",
    "    stems = []\n",
    "    for word in words:\n",
    "        stem = stemmer.stem(word)\n",
    "        stems.append(stem)\n",
    "    return stems\n",
    "\n",
    "words = nltk.word_tokenize(raw)\n",
    "words = to_lowercase(words)\n",
    "words = remove_punctuation(words)\n",
    "words_dic = create_dictionary(words)\n",
    "words = list(words_dic.keys())\n",
    "words_lanc = stem_words_lanc(words)\n",
    "words_porter = stem_words_porter(words)\n",
    "\n",
    "\n",
    "print(len(words_lanc))\n",
    "print(len(words_porter))\n",
    "print(words_porter)\n",
    "print(words_lanc)\n",
    "\n",
    "different_word_pairs = []\n",
    "\n",
    "for l,p in zip(words_lanc, words_porter):\n",
    "    if l != p:\n",
    "        different_word_pairs.append((l,p))\n",
    "print(different_word_pairs)\n",
    "len(different_word_pairs)"
   ]
  },
  {
   "cell_type": "code",
   "execution_count": null,
   "metadata": {
    "colab": {},
    "colab_type": "code",
    "id": "NHK4Q6l6wQVl"
   },
   "outputs": [],
   "source": [
    "# for 4.\n",
    "\n",
    "\n",
    "def pt_to_wn(pos):\n",
    "    \"\"\"\n",
    "    Takes a Penn Treebank tag and converts it to an\n",
    "    appropriate WordNet equivalent for lemmatization.\n",
    "\n",
    "    A list of Penn Treebank tags is available at:\n",
    "    https://www.ling.upenn.edu/courses/Fall_2003/ling001/penn_treebank_pos.html\n",
    "    \"\"\"\n",
    "\n",
    "    from nltk.corpus.reader.wordnet import NOUN, VERB, ADJ, ADV\n",
    "\n",
    "    pos = pos.lower()\n",
    "\n",
    "    if pos.startswith('jj'):\n",
    "        tag = ADJ\n",
    "    elif pos == 'md':\n",
    "        # Modal auxiliary verbs\n",
    "        tag = VERB\n",
    "    elif pos.startswith('rb'):\n",
    "        tag = ADV\n",
    "    elif pos.startswith('vb'):\n",
    "        tag = VERB\n",
    "    elif pos == 'wrb':\n",
    "        # Wh-adverb (how, however, whence, whenever...)\n",
    "        tag = ADV\n",
    "    else:\n",
    "        # default to VERB\n",
    "        # This is not strictly correct, but it is good\n",
    "        # enough for lemmatization.\n",
    "        tag = VERB\n",
    "\n",
    "    return tag\n",
    "\n",
    "\n",
    "def nltk_pos_tagger(tokens):\n",
    "    \"\"\"\n",
    "    Takes a list of tokens and returns a list of\n",
    "    tuples [(token, wordnet_tag), ..]\n",
    "    \"\"\"\n",
    "\n",
    "    # Tag tokens with part-of-speech:\n",
    "    tagged = nltk.pos_tag(tokens)\n",
    "\n",
    "    # Convert our Treebank-style tags to WordNet-style tags.\n",
    "    tagged = [(word, pt_to_wn(tag))\n",
    "                     for (word, tag) in tagged]\n",
    "    return tagged\n",
    "\n",
    "\n",
    "def lemmatizer(tokens):\n",
    "    tagged = nltk_pos_tagger(tokens)\n",
    "\n",
    "    #write code to lemmatize tokens using taggs from nltk_pos_tagger\n",
    "\n",
    "    pass\n"
   ]
  },
  {
   "cell_type": "code",
   "execution_count": null,
   "metadata": {
    "colab": {},
    "colab_type": "code",
    "id": "NJ2a2JBmHZ8c"
   },
   "outputs": [],
   "source": []
  }
 ],
 "metadata": {
  "colab": {
   "include_colab_link": true,
   "name": "lab-2-preprocessing.ipynb",
   "provenance": [],
   "version": "0.3.2"
  },
  "kernelspec": {
   "display_name": "Python 3",
   "language": "python",
   "name": "python3"
  },
  "language_info": {
   "codemirror_mode": {
    "name": "ipython",
    "version": 3
   },
   "file_extension": ".py",
   "mimetype": "text/x-python",
   "name": "python",
   "nbconvert_exporter": "python",
   "pygments_lexer": "ipython3",
   "version": "3.8.13"
  }
 },
 "nbformat": 4,
 "nbformat_minor": 1
}
